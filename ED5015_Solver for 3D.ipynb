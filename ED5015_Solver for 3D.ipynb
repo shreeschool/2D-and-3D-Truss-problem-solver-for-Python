{
 "cells": [
  {
   "cell_type": "markdown",
   "id": "2591c1c3",
   "metadata": {},
   "source": [
    "# Importing Libraries"
   ]
  },
  {
   "cell_type": "code",
   "execution_count": 15,
   "id": "984e1afc",
   "metadata": {},
   "outputs": [],
   "source": [
    "import math as ma\n",
    "import numpy as np"
   ]
  },
  {
   "cell_type": "markdown",
   "id": "aa90b19b",
   "metadata": {},
   "source": [
    "# Taking input from the user for writing a matrix\n"
   ]
  },
  {
   "cell_type": "code",
   "execution_count": 8,
   "id": "ff4b7231",
   "metadata": {},
   "outputs": [
    {
     "name": "stdout",
     "output_type": "stream",
     "text": [
      "Please tell the number of entries 1 D array:2\n",
      "Number:1\n",
      "Number:1\n"
     ]
    }
   ],
   "source": [
    "# a linear vector\n",
    "n=int(input('Please tell the number of entries 1 D array:'))\n",
    "a=np.array([int(input('Number:' )) for i in range(n)])"
   ]
  },
  {
   "cell_type": "code",
   "execution_count": 9,
   "id": "64696d32",
   "metadata": {},
   "outputs": [
    {
     "name": "stdout",
     "output_type": "stream",
     "text": [
      "Please tell the number of columns in your square matrix: 2\n",
      "Number:1\n",
      "Number:1\n",
      "Number:1\n",
      "Number:1\n",
      "Your Input Matrix is: [[1. 1.]\n",
      " [1. 1.]]\n"
     ]
    }
   ],
   "source": [
    "# a square matrix\n",
    "n=int(input('Please tell the number of columns in your square matrix: '))\n",
    "q=np.zeros((n,n))\n",
    "for i in range(n):\n",
    "    for j in range(n):\n",
    "        q[i][j]=int(input('Number:'))\n",
    "print('Your Input Matrix is:', q)"
   ]
  },
  {
   "cell_type": "markdown",
   "id": "1630c327",
   "metadata": {},
   "source": [
    "# Matrix multipication:"
   ]
  },
  {
   "cell_type": "code",
   "execution_count": 11,
   "id": "b83362fc",
   "metadata": {},
   "outputs": [
    {
     "data": {
      "text/plain": [
       "array([2., 2.])"
      ]
     },
     "execution_count": 11,
     "metadata": {},
     "output_type": "execute_result"
    }
   ],
   "source": [
    "np.dot(a,q)# dot product of two matrix"
   ]
  },
  {
   "cell_type": "code",
   "execution_count": 12,
   "id": "e01a0f80",
   "metadata": {},
   "outputs": [
    {
     "data": {
      "text/plain": [
       "array([[1., 1.],\n",
       "       [1., 1.]])"
      ]
     },
     "execution_count": 12,
     "metadata": {},
     "output_type": "execute_result"
    }
   ],
   "source": [
    "a*q     #Elementwise multi plication"
   ]
  },
  {
   "cell_type": "markdown",
   "id": "a023f995",
   "metadata": {},
   "source": [
    "# Creating a function"
   ]
  },
  {
   "cell_type": "code",
   "execution_count": 13,
   "id": "f23ea3f8",
   "metadata": {},
   "outputs": [],
   "source": [
    "## Creating a function\n",
    "def add(a,b):\n",
    "    return a+b\n",
    "def subtract(a,b):\n",
    "    return a-b\n"
   ]
  },
  {
   "cell_type": "code",
   "execution_count": 14,
   "id": "27c759e5",
   "metadata": {},
   "outputs": [
    {
     "name": "stdout",
     "output_type": "stream",
     "text": [
      "9\n",
      "-2\n"
     ]
    }
   ],
   "source": [
    "## Calling a function\n",
    "\n",
    "print(add(4,5))\n",
    "print(subtract(4,6))"
   ]
  },
  {
   "cell_type": "code",
   "execution_count": 18,
   "id": "99f5ce2e",
   "metadata": {},
   "outputs": [
    {
     "name": "stdout",
     "output_type": "stream",
     "text": [
      "Please tell the number of entries 1 D array:2\n",
      "1\n",
      "2\n",
      "Shape of the given vector is (2,)\n"
     ]
    }
   ],
   "source": [
    "#Geneating a linear vector on length n\n",
    "n=int(input('Please tell the number of entries 1 D array:'))\n",
    "def linvec(n):\n",
    "    a=np.array([int(input()) for i in range(n)])\n",
    "    return a\n",
    "b=linvec(n)\n",
    "print('Shape of the given vector is',b.shape) #(size of the vecore)"
   ]
  },
  {
   "cell_type": "code",
   "execution_count": 27,
   "id": "2d716312",
   "metadata": {},
   "outputs": [
    {
     "name": "stdout",
     "output_type": "stream",
     "text": [
      "Please tell the number of columns in your square matrix: 2\n",
      "Number at (1,1):1\n",
      "Number at (1,2):1\n",
      "Number at (2,1):1\n",
      "Number at (2,2):1\n",
      "Shape of the given matrix is (2, 2)\n"
     ]
    }
   ],
   "source": [
    "# Generating a square matrix of size n\n",
    "n=int(input('Please tell the number of columns in your square matrix: '))\n",
    "def squaremat(n):\n",
    "    q=np.zeros((n,n))   ## generate a matrix of size n*n with zeros\n",
    "    for i in range(n):\n",
    "        for j in range(n):\n",
    "            q[i][j]=int(input('Number at (%d,%d):' % (int(i+1),int(j+1))))\n",
    "    return q\n",
    "a=squaremat(n)\n",
    "\n",
    "print('Shape of the given matrix is',a.shape) # size of the matrix"
   ]
  },
  {
   "cell_type": "code",
   "execution_count": 15,
   "id": "def385de",
   "metadata": {},
   "outputs": [],
   "source": [
    "def matrixmult(a,b):\n",
    "    return np.dot(a,b)"
   ]
  },
  {
   "cell_type": "code",
   "execution_count": 16,
   "id": "6f75b33c",
   "metadata": {},
   "outputs": [],
   "source": [
    "def elemntwisemult(a,b):\n",
    "    return a*b"
   ]
  },
  {
   "cell_type": "code",
   "execution_count": 17,
   "id": "69ba3ab1",
   "metadata": {},
   "outputs": [
    {
     "data": {
      "text/plain": [
       "array([2., 2.])"
      ]
     },
     "execution_count": 17,
     "metadata": {},
     "output_type": "execute_result"
    }
   ],
   "source": [
    "matrixmult(a,q)"
   ]
  },
  {
   "cell_type": "code",
   "execution_count": 18,
   "id": "1782a60b",
   "metadata": {},
   "outputs": [
    {
     "data": {
      "text/plain": [
       "array([[1., 1.],\n",
       "       [1., 1.]])"
      ]
     },
     "execution_count": 18,
     "metadata": {},
     "output_type": "execute_result"
    }
   ],
   "source": [
    "elemntwisemult(a,q)"
   ]
  },
  {
   "cell_type": "code",
   "execution_count": 20,
   "id": "0d9bf72c",
   "metadata": {},
   "outputs": [
    {
     "data": {
      "text/plain": [
       "array([2., 2.])"
      ]
     },
     "execution_count": 20,
     "metadata": {},
     "output_type": "execute_result"
    }
   ],
   "source": [
    "#Multiplying with transpose\n",
    "matrixmult(q.T,a) # b.T gives the transpose of the matrix b\n"
   ]
  },
  {
   "cell_type": "markdown",
   "id": "d777208d",
   "metadata": {},
   "source": [
    "# Simple bar problem using above concepts:"
   ]
  },
  {
   "cell_type": "code",
   "execution_count": 23,
   "id": "be29094b",
   "metadata": {},
   "outputs": [],
   "source": [
    "# Learning how to make a pseudo code:"
   ]
  },
  {
   "cell_type": "code",
   "execution_count": 5,
   "id": "5e1eeb7a",
   "metadata": {},
   "outputs": [],
   "source": [
    "# from PIL import Image\n",
    "# myImage = Image.open('FEM problem.JPG');\n",
    "# myImage.show()"
   ]
  },
  {
   "cell_type": "code",
   "execution_count": 1,
   "id": "3c054c6d",
   "metadata": {},
   "outputs": [],
   "source": [
    "# Taking inputs from the user:"
   ]
  },
  {
   "cell_type": "code",
   "execution_count": 3,
   "id": "27672c5e",
   "metadata": {},
   "outputs": [
    {
     "name": "stdout",
     "output_type": "stream",
     "text": [
      "Number of elements in your problem:2\n",
      "Number of nodes in your problem:3\n",
      "Number of Fixed Nodes 2\n",
      "Node number (Please fixed provide nodes in increasing order) 1\n",
      "Node number (Please fixed provide nodes in increasing order) 3\n",
      "Degrees of freedom per node 1\n",
      "First node of element \n",
      "1 1\n",
      "Last node of element \n",
      "1 2\n",
      "First node of element \n",
      "2 2\n",
      "Last node of element \n",
      "2 3\n"
     ]
    }
   ],
   "source": [
    "# Accepting inputs from the user\n",
    "ele=int(input('Number of elements in your problem:',))\n",
    "nodes=int(input('Number of nodes in your problem:',))\n",
    "n=int(input('Number of Fixed Nodes '))\n",
    "fix_n=np.array([int(input('Node number (Please fixed provide nodes in increasing order) ')) for i in range(n)])\n",
    "dof_per_node=int(input('Degrees of freedom per node '))\n",
    "C=np.zeros((ele,2*dof_per_node))\n",
    "for i in range(ele):\n",
    "    C[i][0]=int(input('First node of element %d ' % int(i+1) ))\n",
    "    C[i][1]=int(input('Last node of element %d ' % int(i+1) ))"
   ]
  },
  {
   "cell_type": "code",
   "execution_count": 4,
   "id": "34f0ab04",
   "metadata": {},
   "outputs": [
    {
     "name": "stdout",
     "output_type": "stream",
     "text": [
      "Area of element \n",
      "1 1e-4\n",
      "Modulus of elasticity of element 1 100e9\n",
      "Length of element \n",
      "1 0.25\n",
      "Area of element \n",
      "2 2e-4\n",
      "Modulus of elasticity of element 2 100e9\n",
      "Length of element \n",
      "2 0.4\n",
      "Load at node \n",
      "1 is 0\n",
      "Load at node \n",
      "2 is 10e3\n",
      "Load at node \n",
      "3 is 0\n"
     ]
    }
   ],
   "source": [
    "A=np.zeros(ele)\n",
    "E=np.zeros(ele)\n",
    "l=np.zeros(ele)\n",
    "k=np.zeros((ele,2*dof_per_node,2*dof_per_node))\n",
    "F=np.zeros(nodes*dof_per_node)\n",
    "for i in range(ele):\n",
    "    A[i]=float(input(\"Area of element %d \" % int(i+1)))\n",
    "    E[i]=float(input(\"Modulus of elasticity of element %d \" % int(i+1)))\n",
    "    l[i]=float(input(\"Length of element %d \" % int(i+1)))\n",
    "    k[i]=float(A[i]*E[i]/l[i])*np.array([[1,-1],[-1,1]]).astype(np.float)  ### Creating local stiffness matrix \n",
    "for i in range(nodes):\n",
    "    F[i]=float(input(\"Load at node %d is \" % int(i+1)))"
   ]
  },
  {
   "cell_type": "code",
   "execution_count": 5,
   "id": "3ca68316",
   "metadata": {},
   "outputs": [],
   "source": [
    "# Assembling global stiffness matrix\n",
    "\n",
    "K = np.zeros((nodes*dof_per_node,nodes*dof_per_node))  \n",
    "\n",
    "for i in range(ele):\n",
    "    ind1=C[i]-1\n",
    "    ind1=ind1.astype(int)\n",
    "    K[ind1[0],ind1[0]]+=k[i][0][0]\n",
    "    K[ind1[1],ind1[0]]+=k[i][1][0]\n",
    "    K[ind1[0],ind1[1]]+=k[i][0][1]\n",
    "    K[ind1[1],ind1[1]]+=k[i][1][1]\n",
    "K1=K.copy()\n",
    "K_temp1=K1"
   ]
  },
  {
   "cell_type": "code",
   "execution_count": 6,
   "id": "3d835a7e",
   "metadata": {},
   "outputs": [
    {
     "data": {
      "text/plain": [
       "array([[ 40000000., -40000000.,         0.],\n",
       "       [-40000000.,  90000000., -50000000.],\n",
       "       [        0., -50000000.,  50000000.]])"
      ]
     },
     "execution_count": 6,
     "metadata": {},
     "output_type": "execute_result"
    }
   ],
   "source": [
    "K"
   ]
  },
  {
   "cell_type": "code",
   "execution_count": 7,
   "id": "a0fe16be",
   "metadata": {},
   "outputs": [],
   "source": [
    "# applying boundary conditions\n",
    "for i in fix_n:\n",
    "    K_temp1[i-1][:] = 0\n",
    "    K_temp1.T[:][i-1] = 0\n",
    "# Select non-zero rows\n",
    "K_temp1 = K_temp1[~np.all(K_temp1 == 0, axis=1)]\n",
    "# Select non-zero columns\n",
    "K_temp1 = K_temp1[:, ~np.all(K_temp1 == 0, axis=0)]\n",
    "F_temp1 = np.delete(F, list(fix_n-1))"
   ]
  },
  {
   "cell_type": "code",
   "execution_count": 8,
   "id": "466b8e83",
   "metadata": {},
   "outputs": [],
   "source": [
    "# Solve for available values\n",
    "x = np.linalg.solve(K_temp1,F_temp1)\n",
    "u=np.zeros(nodes*dof_per_node)\n",
    "A= [i for i in range(nodes) if i not in list(fix_n-1)]\n",
    "u[A]=x\n",
    "sigma=np.zeros(ele)\n",
    "for i in range(ele):\n",
    "    ind1=C[i]-1\n",
    "    ind1=ind1.astype(int)\n",
    "    sigma[i]=(u[ind1[1]]-u[ind1[0]])/l[i]*E[i]"
   ]
  },
  {
   "cell_type": "code",
   "execution_count": 9,
   "id": "9f461ddf",
   "metadata": {},
   "outputs": [
    {
     "data": {
      "text/plain": [
       "array([0.00011111])"
      ]
     },
     "execution_count": 9,
     "metadata": {},
     "output_type": "execute_result"
    }
   ],
   "source": [
    "x"
   ]
  },
  {
   "cell_type": "code",
   "execution_count": 10,
   "id": "b07d9754",
   "metadata": {},
   "outputs": [
    {
     "data": {
      "text/plain": [
       "array([ 44444444.44444445, -27777777.77777778])"
      ]
     },
     "execution_count": 10,
     "metadata": {},
     "output_type": "execute_result"
    }
   ],
   "source": [
    "sigma"
   ]
  },
  {
   "cell_type": "code",
   "execution_count": 11,
   "id": "2ddacb3a",
   "metadata": {},
   "outputs": [],
   "source": [
    "R=np.dot(K,u)-F"
   ]
  },
  {
   "cell_type": "code",
   "execution_count": 12,
   "id": "c5c5ae86",
   "metadata": {},
   "outputs": [
    {
     "name": "stdout",
     "output_type": "stream",
     "text": [
      "The global stiffness matrix is  [[ 40000000. -40000000.         0.]\n",
      " [-40000000.  90000000. -50000000.]\n",
      " [        0. -50000000.  50000000.]]\n",
      "The nodal displacements are  [0.         0.00011111 0.        ]\n",
      "The elemental stresses are  [ 44444444.44444445 -27777777.77777778]\n",
      "The reactions at the nodes are  [-4444.44444444     0.         -5555.55555556]\n"
     ]
    }
   ],
   "source": [
    "print('The global stiffness matrix is ',K)\n",
    "print('The nodal displacements are ',u)\n",
    "print('The elemental stresses are ',sigma)\n",
    "print('The reactions at the nodes are ', R)"
   ]
  },
  {
   "cell_type": "code",
   "execution_count": null,
   "id": "cf3bbf97",
   "metadata": {},
   "outputs": [],
   "source": []
  },
  {
   "cell_type": "code",
   "execution_count": null,
   "id": "095cd2ed",
   "metadata": {},
   "outputs": [],
   "source": []
  },
  {
   "cell_type": "code",
   "execution_count": null,
   "id": "91c71a18",
   "metadata": {},
   "outputs": [],
   "source": []
  },
  {
   "cell_type": "code",
   "execution_count": 31,
   "id": "9e047121",
   "metadata": {},
   "outputs": [
    {
     "ename": "KeyboardInterrupt",
     "evalue": "Interrupted by user",
     "output_type": "error",
     "traceback": [
      "\u001b[1;31m---------------------------------------------------------------------------\u001b[0m",
      "\u001b[1;31mKeyboardInterrupt\u001b[0m                         Traceback (most recent call last)",
      "\u001b[1;32m<ipython-input-31-5334af383a72>\u001b[0m in \u001b[0;36m<module>\u001b[1;34m\u001b[0m\n\u001b[1;32m----> 1\u001b[1;33m \u001b[0mele\u001b[0m\u001b[1;33m=\u001b[0m\u001b[0mint\u001b[0m\u001b[1;33m(\u001b[0m\u001b[0minput\u001b[0m\u001b[1;33m(\u001b[0m\u001b[1;34m'Number of elements in your problem:'\u001b[0m\u001b[1;33m,\u001b[0m\u001b[1;33m)\u001b[0m\u001b[1;33m)\u001b[0m\u001b[1;33m\u001b[0m\u001b[1;33m\u001b[0m\u001b[0m\n\u001b[0m\u001b[0;32m      2\u001b[0m \u001b[0mnodes\u001b[0m\u001b[1;33m=\u001b[0m\u001b[0mint\u001b[0m\u001b[1;33m(\u001b[0m\u001b[0minput\u001b[0m\u001b[1;33m(\u001b[0m\u001b[1;34m'Number of nodes in your problem:'\u001b[0m\u001b[1;33m,\u001b[0m\u001b[1;33m)\u001b[0m\u001b[1;33m)\u001b[0m\u001b[1;33m\u001b[0m\u001b[1;33m\u001b[0m\u001b[0m\n\u001b[0;32m      3\u001b[0m \u001b[0mn\u001b[0m\u001b[1;33m=\u001b[0m\u001b[0mint\u001b[0m\u001b[1;33m(\u001b[0m\u001b[0minput\u001b[0m\u001b[1;33m(\u001b[0m\u001b[1;34m'Number of Fixed Nodes '\u001b[0m\u001b[1;33m)\u001b[0m\u001b[1;33m)\u001b[0m\u001b[1;33m\u001b[0m\u001b[1;33m\u001b[0m\u001b[0m\n\u001b[0;32m      4\u001b[0m \u001b[0mfix_n\u001b[0m\u001b[1;33m=\u001b[0m\u001b[0mnp\u001b[0m\u001b[1;33m.\u001b[0m\u001b[0marray\u001b[0m\u001b[1;33m(\u001b[0m\u001b[1;33m[\u001b[0m\u001b[0mint\u001b[0m\u001b[1;33m(\u001b[0m\u001b[0minput\u001b[0m\u001b[1;33m(\u001b[0m\u001b[1;34m'Node number (Please provie in increasing order) '\u001b[0m\u001b[1;33m)\u001b[0m\u001b[1;33m)\u001b[0m \u001b[1;32mfor\u001b[0m \u001b[0mi\u001b[0m \u001b[1;32min\u001b[0m \u001b[0mrange\u001b[0m\u001b[1;33m(\u001b[0m\u001b[0mn\u001b[0m\u001b[1;33m)\u001b[0m\u001b[1;33m]\u001b[0m\u001b[1;33m)\u001b[0m\u001b[1;33m\u001b[0m\u001b[1;33m\u001b[0m\u001b[0m\n\u001b[0;32m      5\u001b[0m \u001b[0mdof_per_node\u001b[0m\u001b[1;33m=\u001b[0m\u001b[0mint\u001b[0m\u001b[1;33m(\u001b[0m\u001b[0minput\u001b[0m\u001b[1;33m(\u001b[0m\u001b[1;34m'Degrees of freedom per node '\u001b[0m\u001b[1;33m)\u001b[0m\u001b[1;33m)\u001b[0m\u001b[1;33m\u001b[0m\u001b[1;33m\u001b[0m\u001b[0m\n",
      "\u001b[1;32m~\\anaconda3\\lib\\site-packages\\ipykernel\\kernelbase.py\u001b[0m in \u001b[0;36mraw_input\u001b[1;34m(self, prompt)\u001b[0m\n\u001b[0;32m    858\u001b[0m                 \u001b[1;34m\"raw_input was called, but this frontend does not support input requests.\"\u001b[0m\u001b[1;33m\u001b[0m\u001b[1;33m\u001b[0m\u001b[0m\n\u001b[0;32m    859\u001b[0m             )\n\u001b[1;32m--> 860\u001b[1;33m         return self._input_request(str(prompt),\n\u001b[0m\u001b[0;32m    861\u001b[0m             \u001b[0mself\u001b[0m\u001b[1;33m.\u001b[0m\u001b[0m_parent_ident\u001b[0m\u001b[1;33m,\u001b[0m\u001b[1;33m\u001b[0m\u001b[1;33m\u001b[0m\u001b[0m\n\u001b[0;32m    862\u001b[0m             \u001b[0mself\u001b[0m\u001b[1;33m.\u001b[0m\u001b[0m_parent_header\u001b[0m\u001b[1;33m,\u001b[0m\u001b[1;33m\u001b[0m\u001b[1;33m\u001b[0m\u001b[0m\n",
      "\u001b[1;32m~\\anaconda3\\lib\\site-packages\\ipykernel\\kernelbase.py\u001b[0m in \u001b[0;36m_input_request\u001b[1;34m(self, prompt, ident, parent, password)\u001b[0m\n\u001b[0;32m    902\u001b[0m             \u001b[1;32mexcept\u001b[0m \u001b[0mKeyboardInterrupt\u001b[0m\u001b[1;33m:\u001b[0m\u001b[1;33m\u001b[0m\u001b[1;33m\u001b[0m\u001b[0m\n\u001b[0;32m    903\u001b[0m                 \u001b[1;31m# re-raise KeyboardInterrupt, to truncate traceback\u001b[0m\u001b[1;33m\u001b[0m\u001b[1;33m\u001b[0m\u001b[1;33m\u001b[0m\u001b[0m\n\u001b[1;32m--> 904\u001b[1;33m                 \u001b[1;32mraise\u001b[0m \u001b[0mKeyboardInterrupt\u001b[0m\u001b[1;33m(\u001b[0m\u001b[1;34m\"Interrupted by user\"\u001b[0m\u001b[1;33m)\u001b[0m \u001b[1;32mfrom\u001b[0m \u001b[1;32mNone\u001b[0m\u001b[1;33m\u001b[0m\u001b[1;33m\u001b[0m\u001b[0m\n\u001b[0m\u001b[0;32m    905\u001b[0m             \u001b[1;32mexcept\u001b[0m \u001b[0mException\u001b[0m \u001b[1;32mas\u001b[0m \u001b[0me\u001b[0m\u001b[1;33m:\u001b[0m\u001b[1;33m\u001b[0m\u001b[1;33m\u001b[0m\u001b[0m\n\u001b[0;32m    906\u001b[0m                 \u001b[0mself\u001b[0m\u001b[1;33m.\u001b[0m\u001b[0mlog\u001b[0m\u001b[1;33m.\u001b[0m\u001b[0mwarning\u001b[0m\u001b[1;33m(\u001b[0m\u001b[1;34m\"Invalid Message:\"\u001b[0m\u001b[1;33m,\u001b[0m \u001b[0mexc_info\u001b[0m\u001b[1;33m=\u001b[0m\u001b[1;32mTrue\u001b[0m\u001b[1;33m)\u001b[0m\u001b[1;33m\u001b[0m\u001b[1;33m\u001b[0m\u001b[0m\n",
      "\u001b[1;31mKeyboardInterrupt\u001b[0m: Interrupted by user"
     ]
    }
   ],
   "source": [
    "ele=int(input('Number of elements in your problem:',))\n",
    "nodes=int(input('Number of nodes in your problem:',))\n",
    "n=int(input('Number of Fixed Nodes '))\n",
    "fix_n=np.array([int(input('Node number (Please provide fixed nodes in increasing order) ')) for i in range(n)])\n",
    "dof_per_node=int(input('Degrees of freedom per node '))\n",
    "C=np.zeros((ele,2*dof_per_node))\n",
    "for i in range(ele):\n",
    "    C[i][0]=int(input('First node of element %d ' % int(i+1) ))\n",
    "    C[i][1]=int(input('Last node of element %d ' % int(i+1) ))\n",
    "    \n",
    "def barelements(ele,nodes,n,fix_n,C):\n",
    "    A=np.zeros(ele)\n",
    "    E=np.zeros(ele)\n",
    "    l=np.zeros(ele)\n",
    "    k=np.zeros((ele,2*dof_per_node,2*dof_per_node))\n",
    "    F=np.zeros(nodes*dof_per_node)\n",
    "    for i in range(ele):\n",
    "        A[i]=float(input(\"Area of element %d :\" % int(i+1)))\n",
    "        E[i]=float(input(\"Modulus of elasticity of element %d :\" % int(i+1)))\n",
    "        l[i]=float(input(\"Length of element %d :\" % int(i+1)))\n",
    "        k[i]=float(A[i]*E[i]/l[i])*np.array([[1,-1],[-1,1]]).astype(np.float)\n",
    "    for i in range(nodes):\n",
    "        F[i]=float(input(\"Load at node %d is :\" % int(i+1)))\n",
    "    ## construct global mass and stiffness matrices\n",
    "    # K = np.zeros((ele*dof_per_node,ele*dof_per_node))\n",
    "    # assembly of elements\n",
    "    K = np.zeros((nodes*dof_per_node,nodes*dof_per_node))\n",
    "\n",
    "    for i in range(ele):\n",
    "        ind1=C[i]-1\n",
    "        ind1=ind1.astype(int)\n",
    "        K[ind1[0],ind1[0]]+=k[i][0][0]\n",
    "        K[ind1[1],ind1[0]]+=k[i][1][0]\n",
    "        K[ind1[0],ind1[1]]+=k[i][0][1]\n",
    "        K[ind1[1],ind1[1]]+=k[i][1][1]\n",
    "    K1=K.copy()\n",
    "    K_temp1=K1\n",
    "    for i in fix_n:\n",
    "        K_temp1[i-1][:] = 0\n",
    "        K_temp1.T[:][i-1] = 0\n",
    "    # Select non-zero rows\n",
    "    K_temp1 = K_temp1[~np.all(K_temp1 == 0, axis=1)]\n",
    "    # Select non-zero columns\n",
    "    K_temp1 = K_temp1[:, ~np.all(K_temp1 == 0, axis=0)]\n",
    "    F_temp1 = np.delete(F, list(fix_n-1))\n",
    "    x = np.linalg.solve(K_temp1,F_temp1)\n",
    "    u=np.zeros(nodes)\n",
    "    t= [i for i in range(nodes) if i not in list(fix_n-1)]\n",
    "    u[t]=x\n",
    "    sigma=np.zeros(ele)\n",
    "    for i in range(ele):\n",
    "        sigma[i]=(u[i+1]-u[i])/l[i]*E[i]\n",
    "    R=np.dot(K,u)-F\n",
    "    \n",
    "    \n",
    "    print('The global stiffness matrix is ',K)\n",
    "    print('The nodal displacements are ',u)\n",
    "    print('The elemental stresses are ',sigma)\n",
    "    print('The reactions at the nodes are ', R)\n",
    "    \n",
    "    return \n",
    "\n",
    "\n"
   ]
  },
  {
   "cell_type": "code",
   "execution_count": 258,
   "id": "ec454899",
   "metadata": {},
   "outputs": [
    {
     "name": "stdout",
     "output_type": "stream",
     "text": [
      "Area of element \n",
      "1 200\n",
      "Modulus of elasticity of element \n",
      "1 200000\n",
      "Length of element \n",
      "1 100\n",
      "Area of element \n",
      "2 200\n",
      "Modulus of elasticity of element \n",
      "2 200000\n",
      "Length of element \n",
      "2 100\n",
      "Area of element \n",
      "3 100\n",
      "Modulus of elasticity of element \n",
      "3 200000\n",
      "Length of element \n",
      "3 150\n",
      "Load at node \n",
      "1 is 0\n",
      "Load at node \n",
      "2 is 20000\n",
      "Load at node \n",
      "3 is 0\n",
      "Load at node \n",
      "4 is 10000\n",
      "[0 1]\n",
      "[1 2]\n",
      "[2 3]\n"
     ]
    },
    {
     "data": {
      "text/plain": [
       "(array([0.   , 0.075, 0.1  , 0.175]),\n",
       " array([150.,  50., 100.]),\n",
       " array([-3.00000000e+04,  7.27595761e-12,  0.00000000e+00,  0.00000000e+00]),\n",
       " array([[ 400000.        , -400000.        ,       0.        ,\n",
       "               0.        ],\n",
       "        [-400000.        ,  800000.        , -400000.        ,\n",
       "               0.        ],\n",
       "        [      0.        , -400000.        ,  533333.33333333,\n",
       "         -133333.33333333],\n",
       "        [      0.        ,       0.        , -133333.33333333,\n",
       "          133333.33333333]]))"
      ]
     },
     "execution_count": 258,
     "metadata": {},
     "output_type": "execute_result"
    }
   ],
   "source": [
    "barelements(ele,nodes,n,fix_n,C)"
   ]
  },
  {
   "cell_type": "markdown",
   "id": "10386d08",
   "metadata": {},
   "source": [
    "# Updating code for 2D condition"
   ]
  },
  {
   "cell_type": "code",
   "execution_count": null,
   "id": "8099faed",
   "metadata": {},
   "outputs": [],
   "source": []
  },
  {
   "cell_type": "code",
   "execution_count": 71,
   "id": "aa50e864",
   "metadata": {},
   "outputs": [
    {
     "name": "stdout",
     "output_type": "stream",
     "text": [
      "Number of elements in your problem:2\n",
      "Number of nodes in your problem:3\n",
      "Number of Fixed Nodes 2\n",
      "Node number (Please provide fixed nodes in increasing order) 1\n",
      "Node number (Please provide fixed nodes in increasing order) 3\n",
      "Degrees of freedom per node 2\n",
      "First node of element \n",
      "1 1\n",
      "Last node of element \n",
      "1 2\n",
      "First node of element \n",
      "2 2\n",
      "Last node of element \n",
      "2 3\n",
      "Area of element \n",
      "1 :4.908\n",
      "Modulus of elasticity of element 1 :30e4\n",
      "Length of element \n",
      "1 :144.2\n",
      "Inclination of element (in degrees) \n",
      "1 :33.6\n",
      "Area of element \n",
      "2 :4.908\n",
      "Modulus of elasticity of element 2 :30e4\n",
      "Length of element \n",
      "2 :80\n",
      "Inclination of element (in degrees) \n",
      "2 :90\n"
     ]
    }
   ],
   "source": [
    "\n",
    "##### Adding codes for 2D elements\n",
    "\n",
    "ele=int(input('Number of elements in your problem:',))\n",
    "nodes=int(input('Number of nodes in your problem:',))\n",
    "n=int(input('Number of Fixed Nodes '))\n",
    "fix_n=np.array([int(input('Node number (Please provide fixed nodes in increasing order) ')) for i in range(n)])\n",
    "dof_per_node=int(input('Degrees of freedom per node '))\n",
    "C=np.zeros((ele,2))\n",
    "for i in range(ele):\n",
    "    C[i][0]=int(input('First node of element %d ' % int(i+1) ))\n",
    "    C[i][1]=int(input('Last node of element %d ' % int(i+1) ))\n",
    "    \n",
    "\n",
    "A=np.zeros(ele)\n",
    "E=np.zeros(ele)\n",
    "l=np.zeros(ele)\n",
    "k=np.zeros((ele,2*dof_per_node,2*dof_per_node))\n",
    "F=np.zeros(nodes*dof_per_node)\n",
    "theta=np.zeros(ele)\n",
    "for i in range(ele):\n",
    "    A[i]=float(input(\"Area of element %d :\" % int(i+1)))\n",
    "    E[i]=float(input(\"Modulus of elasticity of element %d :\" % int(i+1)))\n",
    "    l[i]=float(input(\"Length of element %d :\" % int(i+1)))\n",
    "    if dof_per_node>=1:\n",
    "        theta[i]=float(input(\"Inclination of element (in degrees) %d :\" % int(i+1)))\n",
    "        \n",
    "for i in range(ele):\n",
    "    if dof_per_node==1:\n",
    "        k[i]=float(A[i]*E[i]/l[i])*np.array([[1,-1],[-1,1]]).astype(np.float)\n",
    "    if dof_per_node==2:\n",
    "        k[i]=float(A[i]*E[i]/l[i])*np.array([[ma.cos(ma.pi*theta[i]/180)**2,ma.cos(ma.pi*theta[i]/180)*ma.sin(ma.pi*theta[i]/180),-1*ma.cos(ma.pi*theta[i]/180)**2,-ma.cos(ma.pi*theta[i]/180)*ma.sin(ma.pi*theta[i]/180)],\n",
    "                                             [ma.cos(ma.pi*theta[i]/180)*ma.sin(ma.pi*theta[i]/180),ma.sin(ma.pi*theta[i]/180)**2,-ma.cos(ma.pi*theta[i]/180)*ma.sin(ma.pi*theta[i]/180),-ma.sin(ma.pi*theta[i]/180)**2],\n",
    "                                             [-ma.cos(ma.pi*theta[i]/180)**2,-ma.cos(ma.pi*theta[i]/180)*ma.sin(ma.pi*theta[i]/180),ma.cos(ma.pi*theta[i]/180)**2,ma.cos(ma.pi*theta[i]/180)*ma.sin(ma.pi*theta[i]/180)],\n",
    "                                             [-ma.cos(ma.pi*theta[i]/180)*ma.sin(ma.pi*theta[i]/180),-ma.sin(ma.pi*theta[i]/180)**2,ma.cos(ma.pi*theta[i]/180)*ma.sin(ma.pi*theta[i]/180),ma.sin(ma.pi*theta[i]/180)**2]]).astype(np.float)\n",
    "        \n"
   ]
  },
  {
   "cell_type": "code",
   "execution_count": 74,
   "id": "6c9fdaeb",
   "metadata": {},
   "outputs": [
    {
     "data": {
      "text/plain": [
       "array([[[ 7.08383478e+03,  4.70648857e+03, -7.08383478e+03,\n",
       "         -4.70648857e+03],\n",
       "        [ 4.70648857e+03,  3.12698353e+03, -4.70648857e+03,\n",
       "         -3.12698353e+03],\n",
       "        [-7.08383478e+03, -4.70648857e+03,  7.08383478e+03,\n",
       "          4.70648857e+03],\n",
       "        [-4.70648857e+03, -3.12698353e+03,  4.70648857e+03,\n",
       "          3.12698353e+03]],\n",
       "\n",
       "       [[ 6.90076970e-29,  1.12698122e-12, -6.90076970e-29,\n",
       "         -1.12698122e-12],\n",
       "        [ 1.12698122e-12,  1.84050000e+04, -1.12698122e-12,\n",
       "         -1.84050000e+04],\n",
       "        [-6.90076970e-29, -1.12698122e-12,  6.90076970e-29,\n",
       "          1.12698122e-12],\n",
       "        [-1.12698122e-12, -1.84050000e+04,  1.12698122e-12,\n",
       "          1.84050000e+04]]])"
      ]
     },
     "execution_count": 74,
     "metadata": {},
     "output_type": "execute_result"
    }
   ],
   "source": [
    "k"
   ]
  },
  {
   "cell_type": "code",
   "execution_count": 75,
   "id": "0389b205",
   "metadata": {},
   "outputs": [],
   "source": [
    "# assembly of Glbal stiffness matrix\n",
    "K_global = np.zeros((nodes*dof_per_node,nodes*dof_per_node))\n",
    "\n",
    "\n",
    "if dof_per_node==1:\n",
    "    for i in range(ele):\n",
    "        ind1=C[i]-1\n",
    "        ind1=ind1.astype(int)\n",
    "        K[ind1[0],ind1[0]]+=k[i][0][0]\n",
    "        K[ind1[1],ind1[0]]+=k[i][1][0]\n",
    "        K[ind1[0],ind1[1]]+=k[i][0][1]\n",
    "        K[ind1[1],ind1[1]]+=k[i][1][1]\n",
    "if dof_per_node==2:\n",
    "    for e in range(ele):\n",
    "        # Get the nodes for this element\n",
    "        node = C[e]\n",
    "        node=node.astype(int)\n",
    "        node=node-1\n",
    "        # Loop over each node in the element\n",
    "        for i in range(len(node)):\n",
    "            # Loop over each degree of freedom for node i\n",
    "            for j in range(2):\n",
    "                # Loop over each node in the element\n",
    "                for b in range(len(node)):\n",
    "                    # Loop over each degree of freedom for node k\n",
    "                    for o in range(2):\n",
    "                        # Add the corresponding element stiffness matrix term to the global stiffness matrix\n",
    "                        K_global[2*node[i]+j, 2*node[b]+o] += k[e][2*i+j, 2*b+o]\n"
   ]
  },
  {
   "cell_type": "code",
   "execution_count": 76,
   "id": "96985b6d",
   "metadata": {},
   "outputs": [
    {
     "data": {
      "text/plain": [
       "array([[ 7.08383478e+03,  4.70648857e+03, -7.08383478e+03,\n",
       "        -4.70648857e+03,  0.00000000e+00,  0.00000000e+00],\n",
       "       [ 4.70648857e+03,  3.12698353e+03, -4.70648857e+03,\n",
       "        -3.12698353e+03,  0.00000000e+00,  0.00000000e+00],\n",
       "       [-7.08383478e+03, -4.70648857e+03,  7.08383478e+03,\n",
       "         4.70648857e+03, -6.90076970e-29, -1.12698122e-12],\n",
       "       [-4.70648857e+03, -3.12698353e+03,  4.70648857e+03,\n",
       "         2.15319835e+04, -1.12698122e-12, -1.84050000e+04],\n",
       "       [ 0.00000000e+00,  0.00000000e+00, -6.90076970e-29,\n",
       "        -1.12698122e-12,  6.90076970e-29,  1.12698122e-12],\n",
       "       [ 0.00000000e+00,  0.00000000e+00, -1.12698122e-12,\n",
       "        -1.84050000e+04,  1.12698122e-12,  1.84050000e+04]])"
      ]
     },
     "execution_count": 76,
     "metadata": {},
     "output_type": "execute_result"
    }
   ],
   "source": [
    "K_global"
   ]
  },
  {
   "cell_type": "code",
   "execution_count": null,
   "id": "c5e46300",
   "metadata": {},
   "outputs": [],
   "source": []
  },
  {
   "cell_type": "code",
   "execution_count": 77,
   "id": "3fccfe5c",
   "metadata": {},
   "outputs": [],
   "source": []
  },
  {
   "cell_type": "code",
   "execution_count": 78,
   "id": "cfa41d48",
   "metadata": {},
   "outputs": [
    {
     "name": "stdout",
     "output_type": "stream",
     "text": [
      "0\n",
      "[[ 0.00000000e+00  0.00000000e+00  0.00000000e+00  0.00000000e+00\n",
      "   0.00000000e+00  0.00000000e+00]\n",
      " [ 0.00000000e+00  0.00000000e+00  0.00000000e+00  0.00000000e+00\n",
      "   0.00000000e+00  0.00000000e+00]\n",
      " [-7.08383478e+03 -4.70648857e+03  7.08383478e+03  4.70648857e+03\n",
      "  -6.90076970e-29 -1.12698122e-12]\n",
      " [-4.70648857e+03 -3.12698353e+03  4.70648857e+03  2.15319835e+04\n",
      "  -1.12698122e-12 -1.84050000e+04]\n",
      " [ 0.00000000e+00  0.00000000e+00 -6.90076970e-29 -1.12698122e-12\n",
      "   6.90076970e-29  1.12698122e-12]\n",
      " [ 0.00000000e+00  0.00000000e+00 -1.12698122e-12 -1.84050000e+04\n",
      "   1.12698122e-12  1.84050000e+04]]\n",
      "[[ 0.00000000e+00  0.00000000e+00  0.00000000e+00  0.00000000e+00\n",
      "   0.00000000e+00  0.00000000e+00]\n",
      " [ 0.00000000e+00  0.00000000e+00  0.00000000e+00  0.00000000e+00\n",
      "   0.00000000e+00  0.00000000e+00]\n",
      " [ 0.00000000e+00  0.00000000e+00  7.08383478e+03  4.70648857e+03\n",
      "  -6.90076970e-29 -1.12698122e-12]\n",
      " [ 0.00000000e+00  0.00000000e+00  4.70648857e+03  2.15319835e+04\n",
      "  -1.12698122e-12 -1.84050000e+04]\n",
      " [ 0.00000000e+00  0.00000000e+00 -6.90076970e-29 -1.12698122e-12\n",
      "   6.90076970e-29  1.12698122e-12]\n",
      " [ 0.00000000e+00  0.00000000e+00 -1.12698122e-12 -1.84050000e+04\n",
      "   1.12698122e-12  1.84050000e+04]]\n",
      "2\n",
      "[[ 0.00000000e+00  0.00000000e+00  0.00000000e+00  0.00000000e+00\n",
      "   0.00000000e+00  0.00000000e+00]\n",
      " [ 0.00000000e+00  0.00000000e+00  0.00000000e+00  0.00000000e+00\n",
      "   0.00000000e+00  0.00000000e+00]\n",
      " [ 0.00000000e+00  0.00000000e+00  7.08383478e+03  4.70648857e+03\n",
      "  -6.90076970e-29 -1.12698122e-12]\n",
      " [ 0.00000000e+00  0.00000000e+00  4.70648857e+03  2.15319835e+04\n",
      "  -1.12698122e-12 -1.84050000e+04]\n",
      " [ 0.00000000e+00  0.00000000e+00  0.00000000e+00  0.00000000e+00\n",
      "   0.00000000e+00  0.00000000e+00]\n",
      " [ 0.00000000e+00  0.00000000e+00  0.00000000e+00  0.00000000e+00\n",
      "   0.00000000e+00  0.00000000e+00]]\n",
      "[[    0.             0.             0.             0.\n",
      "      0.             0.        ]\n",
      " [    0.             0.             0.             0.\n",
      "      0.             0.        ]\n",
      " [    0.             0.          7083.83477632  4706.48857281\n",
      "      0.             0.        ]\n",
      " [    0.             0.          4706.48857281 21531.98353158\n",
      "      0.             0.        ]\n",
      " [    0.             0.             0.             0.\n",
      "      0.             0.        ]\n",
      " [    0.             0.             0.             0.\n",
      "      0.             0.        ]]\n"
     ]
    }
   ],
   "source": [
    "#### Applying Boundary Conditions\n",
    "\n",
    "K=K_global\n",
    "K1=K.copy()\n",
    "K_temp1=K1\n",
    "if dof_per_node==1:\n",
    "    for i in fix_n:\n",
    "        print(i)\n",
    "        K_temp1[i-1][:] = 0\n",
    "        print(K_temp1)\n",
    "        K_temp1.T[:][i-1] = 0\n",
    "        print(K_temp1)\n",
    "\n",
    "    # Select non-zero rows\n",
    "    K_temp1 = K_temp1[~np.all(K_temp1 == 0, axis=1)]\n",
    "    # Select non-zero columns\n",
    "    K_temp1 = K_temp1[:, ~np.all(K_temp1 == 0, axis=0)]\n",
    "    \n",
    "if dof_per_node==2:\n",
    "    for i in fix_n-1:\n",
    "        print(i)\n",
    "        K_temp1[2*i][:] = 0\n",
    "        K_temp1[2*i+1][:] = 0\n",
    "        print(K_temp1)\n",
    "        K_temp1.T[:][2*i] = 0\n",
    "        K_temp1.T[:][2*i+1] = 0\n",
    "        print(K_temp1)\n",
    "   \n",
    "\n",
    "# Select non-zero rows\n",
    "K_temp1 = K_temp1[~np.all(K_temp1 == 0, axis=1)]\n",
    "#Select non-zero columns\n",
    "K_temp1 = K_temp1[:, ~np.all(K_temp1 == 0, axis=0)]\n",
    "\n"
   ]
  },
  {
   "cell_type": "code",
   "execution_count": 79,
   "id": "ed686c78",
   "metadata": {},
   "outputs": [
    {
     "data": {
      "text/plain": [
       "array([[ 7083.83477632,  4706.48857281],\n",
       "       [ 4706.48857281, 21531.98353158]])"
      ]
     },
     "execution_count": 79,
     "metadata": {},
     "output_type": "execute_result"
    }
   ],
   "source": [
    "K_temp1"
   ]
  },
  {
   "cell_type": "code",
   "execution_count": 80,
   "id": "b35166bf",
   "metadata": {},
   "outputs": [
    {
     "name": "stdout",
     "output_type": "stream",
     "text": [
      "Load at node 1 and dof 1 is :0\n",
      "Load at node 1 and dof 2 is :0\n",
      "Load at node 2 and dof 1 is :50\n",
      "Load at node 2 and dof 2 is :0\n",
      "Load at node 3 and dof 1 is :0\n",
      "Load at node 3 and dof 2 is :0\n"
     ]
    },
    {
     "data": {
      "text/plain": [
       "array([ 0.,  0., 50.,  0.,  0.,  0.])"
      ]
     },
     "execution_count": 80,
     "metadata": {},
     "output_type": "execute_result"
    }
   ],
   "source": [
    "### Accepting force\n",
    "F=np.zeros(nodes*dof_per_node)\n",
    "for i in range(nodes):\n",
    "    for j in range(dof_per_node):\n",
    "        F[2*i+j]=float(input(\"Load at node %d and dof %d is :\" % (int(i+1),int(j+1))))\n",
    "F"
   ]
  },
  {
   "cell_type": "code",
   "execution_count": 81,
   "id": "27fe9048",
   "metadata": {},
   "outputs": [],
   "source": [
    "## \n",
    "if dof_per_node==1:\n",
    "    F_temp1 = np.delete(F, list(fix_n-1))#Deleeting fixed nodes entires\n",
    "if dof_per_node==2:\n",
    "    F_temp1 = np.delete(F, np.array((2*(fix_n-1),2*np.array(fix_n-1)+1))) #Deleeting fixed nodes entries"
   ]
  },
  {
   "cell_type": "code",
   "execution_count": 82,
   "id": "652c66cd",
   "metadata": {},
   "outputs": [
    {
     "data": {
      "text/plain": [
       "array([50.,  0.])"
      ]
     },
     "execution_count": 82,
     "metadata": {},
     "output_type": "execute_result"
    }
   ],
   "source": [
    "F_temp1"
   ]
  },
  {
   "cell_type": "code",
   "execution_count": 83,
   "id": "30a8ee81",
   "metadata": {},
   "outputs": [],
   "source": [
    "## Solving for availabel degrees of freedom\n",
    "x = np.linalg.solve(K_temp1,F_temp1)\n",
    "u=np.zeros(nodes*dof_per_node)\n",
    "\n",
    "g= [i for i in range(nodes) if i not in list(fix_n-1)]\n",
    "for i in g:\n",
    "    for j in range(len(x)-1):\n",
    "        u[2*i]=x[j]\n",
    "        u[2*i+1]=x[j+1]"
   ]
  },
  {
   "cell_type": "code",
   "execution_count": 85,
   "id": "b7c88dab",
   "metadata": {},
   "outputs": [
    {
     "data": {
      "text/plain": [
       "array([ 0.        ,  0.        ,  0.00825752, -0.00180494,  0.        ,\n",
       "        0.        ])"
      ]
     },
     "execution_count": 85,
     "metadata": {},
     "output_type": "execute_result"
    }
   ],
   "source": [
    "u"
   ]
  },
  {
   "cell_type": "code",
   "execution_count": 86,
   "id": "87b8ed22",
   "metadata": {},
   "outputs": [
    {
     "name": "stdout",
     "output_type": "stream",
     "text": [
      "[ 0.          0.          0.00825752 -0.00180494]\n",
      "[ 0.00825752 -0.00180494  0.          0.        ]\n"
     ]
    }
   ],
   "source": [
    "### Finding eleemntal quantities\n",
    "\n",
    "if dof_per_node==1:\n",
    "    sigma=np.zeros(ele)\n",
    "    for i in range(ele):\n",
    "        sigma[i]=(u[i+1]-u[i])/l[i]*E[i]\n",
    "    R=np.dot(K,u)-F\n",
    "    \n",
    "###### Transfroming global findings to local settings to find elemental, deformations, stresses and loads\n",
    "if dof_per_node==2:\n",
    "    #finding displacement in local co-ordiates:\n",
    "    u_loc=np.zeros((ele,2*dof_per_node))\n",
    "    u_ele=np.zeros((ele,2*dof_per_node))\n",
    "    for i in range(ele):\n",
    "        u_loc_tran=np.array([[ma.cos(ma.pi*theta[i]/180),ma.sin(ma.pi*theta[i]/180),0,0],\n",
    "                        [-ma.sin(ma.pi*theta[i]/180),ma.cos(ma.pi*theta[i]/180),0,0],\n",
    "                       [0,0,ma.cos(ma.pi*theta[i]/180),ma.sin(ma.pi*theta[i]/180)],\n",
    "                        [0,0,-ma.sin(ma.pi*theta[i]/180),ma.cos(ma.pi*theta[i]/180)]])\n",
    "        nd=C[i]-1\n",
    "        nd=nd.astype(int)\n",
    "        v=0\n",
    "        for j in nd:\n",
    "            u_ele[i][2*v]=u[2*j]\n",
    "            u_ele[i][2*v+1]=u[2*j+1]\n",
    "            v+=1\n",
    "        print(u_ele[i])\n",
    "        u_loc[i]=np.dot(u_loc_tran,u_ele[i])\n",
    "\n",
    "\n",
    "    \n",
    "    \n"
   ]
  },
  {
   "cell_type": "code",
   "execution_count": 91,
   "id": "5e2189f2",
   "metadata": {},
   "outputs": [
    {
     "name": "stdout",
     "output_type": "stream",
     "text": [
      "4.908\n",
      "300000.0\n"
     ]
    },
    {
     "ename": "TypeError",
     "evalue": "'int' object is not subscriptable",
     "output_type": "error",
     "traceback": [
      "\u001b[1;31m---------------------------------------------------------------------------\u001b[0m",
      "\u001b[1;31mTypeError\u001b[0m                                 Traceback (most recent call last)",
      "\u001b[1;32m<ipython-input-91-67b0266cb84a>\u001b[0m in \u001b[0;36m<module>\u001b[1;34m\u001b[0m\n\u001b[0;32m      3\u001b[0m     \u001b[0mprint\u001b[0m\u001b[1;33m(\u001b[0m\u001b[0mfloat\u001b[0m\u001b[1;33m(\u001b[0m\u001b[0mA\u001b[0m\u001b[1;33m[\u001b[0m\u001b[0mi\u001b[0m\u001b[1;33m]\u001b[0m\u001b[1;33m)\u001b[0m\u001b[1;33m)\u001b[0m\u001b[1;33m\u001b[0m\u001b[1;33m\u001b[0m\u001b[0m\n\u001b[0;32m      4\u001b[0m     \u001b[0mprint\u001b[0m\u001b[1;33m(\u001b[0m\u001b[0mE\u001b[0m\u001b[1;33m[\u001b[0m\u001b[0mi\u001b[0m\u001b[1;33m]\u001b[0m\u001b[1;33m)\u001b[0m\u001b[1;33m\u001b[0m\u001b[1;33m\u001b[0m\u001b[0m\n\u001b[1;32m----> 5\u001b[1;33m     \u001b[0mprint\u001b[0m\u001b[1;33m(\u001b[0m\u001b[0ml\u001b[0m\u001b[1;33m[\u001b[0m\u001b[0mi\u001b[0m\u001b[1;33m]\u001b[0m\u001b[1;33m)\u001b[0m\u001b[1;33m\u001b[0m\u001b[1;33m\u001b[0m\u001b[0m\n\u001b[0m\u001b[0;32m      6\u001b[0m     \u001b[0mf_trans\u001b[0m\u001b[1;33m=\u001b[0m\u001b[0mfloat\u001b[0m\u001b[1;33m(\u001b[0m\u001b[0mA\u001b[0m\u001b[1;33m[\u001b[0m\u001b[0mi\u001b[0m\u001b[1;33m]\u001b[0m\u001b[1;33m*\u001b[0m\u001b[0mE\u001b[0m\u001b[1;33m[\u001b[0m\u001b[0mi\u001b[0m\u001b[1;33m]\u001b[0m\u001b[1;33m/\u001b[0m\u001b[0ml\u001b[0m\u001b[1;33m[\u001b[0m\u001b[0mi\u001b[0m\u001b[1;33m]\u001b[0m\u001b[1;33m)\u001b[0m\u001b[1;33m*\u001b[0m\u001b[0mnp\u001b[0m\u001b[1;33m.\u001b[0m\u001b[0marray\u001b[0m\u001b[1;33m(\u001b[0m\u001b[1;33m[\u001b[0m\u001b[1;33m[\u001b[0m\u001b[1;36m1\u001b[0m\u001b[1;33m,\u001b[0m\u001b[1;36m0\u001b[0m\u001b[1;33m,\u001b[0m\u001b[1;33m-\u001b[0m\u001b[1;36m1\u001b[0m\u001b[1;33m,\u001b[0m\u001b[1;36m0\u001b[0m\u001b[1;33m]\u001b[0m\u001b[1;33m,\u001b[0m\u001b[1;33m[\u001b[0m\u001b[1;36m0\u001b[0m\u001b[1;33m,\u001b[0m\u001b[1;36m0\u001b[0m\u001b[1;33m,\u001b[0m\u001b[1;36m0\u001b[0m\u001b[1;33m,\u001b[0m\u001b[1;36m0\u001b[0m\u001b[1;33m]\u001b[0m\u001b[1;33m,\u001b[0m\u001b[1;33m[\u001b[0m\u001b[1;33m-\u001b[0m\u001b[1;36m1\u001b[0m\u001b[1;33m,\u001b[0m\u001b[1;36m0\u001b[0m\u001b[1;33m,\u001b[0m\u001b[1;36m1\u001b[0m\u001b[1;33m,\u001b[0m\u001b[1;36m0\u001b[0m\u001b[1;33m]\u001b[0m\u001b[1;33m,\u001b[0m\u001b[1;33m[\u001b[0m\u001b[1;36m0\u001b[0m\u001b[1;33m,\u001b[0m\u001b[1;36m0\u001b[0m\u001b[1;33m,\u001b[0m\u001b[1;36m0\u001b[0m\u001b[1;33m,\u001b[0m\u001b[1;36m0\u001b[0m\u001b[1;33m]\u001b[0m\u001b[1;33m]\u001b[0m\u001b[1;33m)\u001b[0m\u001b[1;33m.\u001b[0m\u001b[0mastype\u001b[0m\u001b[1;33m(\u001b[0m\u001b[0mnp\u001b[0m\u001b[1;33m.\u001b[0m\u001b[0mfloat\u001b[0m\u001b[1;33m)\u001b[0m\u001b[1;33m\u001b[0m\u001b[1;33m\u001b[0m\u001b[0m\n\u001b[0;32m      7\u001b[0m     \u001b[0mF_ele\u001b[0m\u001b[1;33m[\u001b[0m\u001b[0mi\u001b[0m\u001b[1;33m]\u001b[0m\u001b[1;33m=\u001b[0m\u001b[0mnp\u001b[0m\u001b[1;33m.\u001b[0m\u001b[0mdot\u001b[0m\u001b[1;33m(\u001b[0m\u001b[0mf_trans\u001b[0m\u001b[1;33m,\u001b[0m\u001b[0mu_loc\u001b[0m\u001b[1;33m[\u001b[0m\u001b[0mi\u001b[0m\u001b[1;33m]\u001b[0m\u001b[1;33m)\u001b[0m\u001b[1;33m\u001b[0m\u001b[1;33m\u001b[0m\u001b[0m\n",
      "\u001b[1;31mTypeError\u001b[0m: 'int' object is not subscriptable"
     ]
    }
   ],
   "source": [
    "## Elemetnal forces\n",
    "F_ele=np.zeros((ele,2*dof_per_node))\n",
    "for i in range(ele):\n",
    "    f_trans=float(A[i]*E[i]/l[i])*np.array([[1,0,-1,0],[0,0,0,0],[-1,0,1,0],[0,0,0,0]]).astype(np.float)\n",
    "    F_ele[i]=np.dot(f_trans,u_loc[i])\n",
    "    \n"
   ]
  },
  {
   "cell_type": "code",
   "execution_count": 92,
   "id": "77738d3d",
   "metadata": {},
   "outputs": [
    {
     "data": {
      "text/plain": [
       "array([[0., 0., 0., 0.],\n",
       "       [0., 0., 0., 0.]])"
      ]
     },
     "execution_count": 92,
     "metadata": {},
     "output_type": "execute_result"
    }
   ],
   "source": []
  },
  {
   "cell_type": "code",
   "execution_count": 93,
   "id": "d9fe58e9",
   "metadata": {},
   "outputs": [
    {
     "data": {
      "text/plain": [
       "12.265688671556642"
      ]
     },
     "execution_count": 93,
     "metadata": {},
     "output_type": "execute_result"
    }
   ],
   "source": [
    "60.2/4.908\n"
   ]
  },
  {
   "cell_type": "code",
   "execution_count": null,
   "id": "2aae7afa",
   "metadata": {},
   "outputs": [],
   "source": [
    "## Elemetnal Stresses\n",
    "sigma=np.zeros(ele)\n",
    "for i in range(ele):\n",
    "    sigma[i]=max(F_ele[i])/A[i]"
   ]
  },
  {
   "cell_type": "code",
   "execution_count": null,
   "id": "b309786c",
   "metadata": {},
   "outputs": [],
   "source": [
    "### Reactions at the support\n",
    "R=np.dot(K,u)-F"
   ]
  },
  {
   "cell_type": "code",
   "execution_count": 66,
   "id": "1bc3344e",
   "metadata": {},
   "outputs": [
    {
     "data": {
      "text/plain": [
       "array([ 0.        ,  0.        ,  0.00825752, -0.00180494,  0.        ,\n",
       "        0.        ])"
      ]
     },
     "execution_count": 66,
     "metadata": {},
     "output_type": "execute_result"
    }
   ],
   "source": [
    "u"
   ]
  },
  {
   "cell_type": "code",
   "execution_count": 67,
   "id": "c313b56f",
   "metadata": {},
   "outputs": [
    {
     "data": {
      "text/plain": [
       "array([[ 0.        ,  0.        ,  0.00587903, -0.00607302],\n",
       "       [-0.00180494, -0.00825752,  0.        ,  0.        ]])"
      ]
     },
     "execution_count": 67,
     "metadata": {},
     "output_type": "execute_result"
    }
   ],
   "source": [
    "u_loc"
   ]
  },
  {
   "cell_type": "code",
   "execution_count": 26,
   "id": "22bdcce6",
   "metadata": {},
   "outputs": [
    {
     "data": {
      "text/plain": [
       "array([2., 3.])"
      ]
     },
     "execution_count": 26,
     "metadata": {},
     "output_type": "execute_result"
    }
   ],
   "source": [
    "C[1]"
   ]
  },
  {
   "cell_type": "code",
   "execution_count": 2,
   "id": "4027c7b5",
   "metadata": {},
   "outputs": [
    {
     "name": "stdout",
     "output_type": "stream",
     "text": [
      "Number of elements in your problem:6\n",
      "Number of nodes in your problem:4\n",
      "Number of Fixed Nodes 2\n",
      "Node number (Please provide fixed nodes in increasing order) 1\n",
      "Node number (Please provide fixed nodes in increasing order) 4\n",
      "Degrees of freedom per node 2\n",
      "First node of element \n",
      "1 1\n",
      "Last node of element \n",
      "1 2\n",
      "First node of element \n",
      "2 1\n",
      "Last node of element \n",
      "2 3\n",
      "First node of element \n",
      "3 2\n",
      "Last node of element \n",
      "3 4\n",
      "First node of element \n",
      "4 2\n",
      "Last node of element \n",
      "4 3\n",
      "First node of element \n",
      "5 3\n",
      "Last node of element \n",
      "5 4\n",
      "First node of element \n",
      "6 1\n",
      "Last node of element \n",
      "6 4\n"
     ]
    }
   ],
   "source": [
    "# Assembling whole code\n",
    "ele=int(input('Number of elements in your problem:',))\n",
    "nodes=int(input('Number of nodes in your problem:',))\n",
    "n=int(input('Number of Fixed Nodes '))\n",
    "fix_n=np.array([int(input('Node number (Please provide fixed nodes in increasing order) ')) for i in range(n)])\n",
    "dof_per_node=int(input('Degrees of freedom per node '))\n",
    "C=np.zeros((ele,2))\n",
    "for i in range(ele):\n",
    "    C[i][0]=int(input('First node of element %d ' % int(i+1) ))\n",
    "    C[i][1]=int(input('Last node of element %d ' % int(i+1) ))\n",
    "def solver1D2D(ele,nodes,n,fix_n,dof_per_node,C):\n",
    "    A=np.zeros(ele)\n",
    "    E=np.zeros(ele)\n",
    "    l=np.zeros(ele)\n",
    "    k=np.zeros((ele,2*dof_per_node,2*dof_per_node))\n",
    "    F=np.zeros(nodes*dof_per_node)\n",
    "    theta=np.zeros(ele)\n",
    "    for i in range(ele):\n",
    "        A[i]=float(input(\"Area of element %d :\" % int(i+1)))\n",
    "        E[i]=float(input(\"Modulus of elasticity of element %d :\" % int(i+1)))\n",
    "        l[i]=float(input(\"Length of element %d :\" % int(i+1)))\n",
    "        if dof_per_node>=1:\n",
    "            theta[i]=float(input(\"Inclination of element (in degrees) %d :\" % int(i+1)))\n",
    "    for i in range(nodes):\n",
    "        for j in range(dof_per_node):\n",
    "            F[2*i+j]=float(input(\"Load at node %d and dof %d is :\" % (int(i+1),int(j+1))))\n",
    "\n",
    "    for i in range(ele):\n",
    "        if dof_per_node==1:\n",
    "            k[i]=float(A[i]*E[i]/l[i])*np.array([[1,-1],[-1,1]]).astype(np.float)\n",
    "        if dof_per_node==2:\n",
    "            k[i]=float(A[i]*E[i]/l[i])*np.array([[ma.cos(ma.pi*theta[i]/180)**2,ma.cos(ma.pi*theta[i]/180)*ma.sin(ma.pi*theta[i]/180),-1*ma.cos(ma.pi*theta[i]/180)**2,-ma.cos(ma.pi*theta[i]/180)*ma.sin(ma.pi*theta[i]/180)],\n",
    "                                                 [ma.cos(ma.pi*theta[i]/180)*ma.sin(ma.pi*theta[i]/180),ma.sin(ma.pi*theta[i]/180)**2,-ma.cos(ma.pi*theta[i]/180)*ma.sin(ma.pi*theta[i]/180),-ma.sin(ma.pi*theta[i]/180)**2],\n",
    "                                                 [-ma.cos(ma.pi*theta[i]/180)**2,-ma.cos(ma.pi*theta[i]/180)*ma.sin(ma.pi*theta[i]/180),ma.cos(ma.pi*theta[i]/180)**2,ma.cos(ma.pi*theta[i]/180)*ma.sin(ma.pi*theta[i]/180)],\n",
    "                                                 [-ma.cos(ma.pi*theta[i]/180)*ma.sin(ma.pi*theta[i]/180),-ma.sin(ma.pi*theta[i]/180)**2,ma.cos(ma.pi*theta[i]/180)*ma.sin(ma.pi*theta[i]/180),ma.sin(ma.pi*theta[i]/180)**2]]).astype(np.float)\n",
    "    # assembly of elements\n",
    "    K_global = np.zeros((nodes*dof_per_node,nodes*dof_per_node))\n",
    "\n",
    "\n",
    "    if dof_per_node==1:\n",
    "        for i in range(ele):\n",
    "            ind1=C[i]-1\n",
    "            ind1=ind1.astype(int)\n",
    "            K[ind1[0],ind1[0]]+=k[i][0][0]\n",
    "            K[ind1[1],ind1[0]]+=k[i][1][0]\n",
    "            K[ind1[0],ind1[1]]+=k[i][0][1]\n",
    "            K[ind1[1],ind1[1]]+=k[i][1][1]\n",
    "    if dof_per_node==2:\n",
    "        for e in range(ele):\n",
    "            # Get the nodes for this element\n",
    "            node = C[e]\n",
    "            node=node.astype(int)\n",
    "            node=node-1\n",
    "            # Loop over each node in the element\n",
    "            for i in range(len(node)):\n",
    "                # Loop over each degree of freedom for node i\n",
    "                for j in range(2):\n",
    "                    # Loop over each node in the element\n",
    "                    for b in range(len(node)):\n",
    "                        # Loop over each degree of freedom for node k\n",
    "                        for o in range(2):\n",
    "                            # Add the corresponding element stiffness matrix term to the global stiffness matrix\n",
    "                            K_global[2*node[i]+j, 2*node[b]+o] += k[e][2*i+j, 2*b+o]\n",
    "\n",
    "    K=K_global\n",
    "    K1=K.copy()\n",
    "    K_temp1=K1\n",
    "    if dof_per_node==1:\n",
    "        for i in fix_n:\n",
    "            K_temp1[i-1][:] = 0\n",
    "            K_temp1.T[:][i-1] = 0\n",
    "            \n",
    "\n",
    "        # Select non-zero rows\n",
    "        K_temp1 = K_temp1[~np.all(K_temp1 == 0, axis=1)]\n",
    "        # Select non-zero columns\n",
    "        K_temp1 = K_temp1[:, ~np.all(K_temp1 == 0, axis=0)]\n",
    "\n",
    "    if dof_per_node==2:\n",
    "        for i in fix_n-1:\n",
    "            K_temp1[2*i][:] = 0\n",
    "            K_temp1[2*i+1][:] = 0\n",
    "            K_temp1.T[:][2*i] = 0\n",
    "            K_temp1.T[:][2*i+1] = 0\n",
    "\n",
    "    # Select non-zero rows\n",
    "    K_temp1 = K_temp1[~np.all(K_temp1 == 0, axis=1)]\n",
    "    #Select non-zero columns\n",
    "    K_temp1 = K_temp1[:, ~np.all(K_temp1 == 0, axis=0)]\n",
    "\n",
    "\n",
    "    if dof_per_node==1:\n",
    "        F_temp1 = np.delete(F, list(fix_n-1))#Deleeting fixed nodes entires\n",
    "    if dof_per_node==2:\n",
    "        F_temp1 = np.delete(F, np.array((2*(fix_n-1),2*np.array(fix_n-1)+1))) #Deleeting fixed nodes entries\n",
    "    x = np.linalg.solve(K_temp1,F_temp1)\n",
    "    u=np.zeros(nodes*dof_per_node)\n",
    "\n",
    "    # if dof_per_node==2:\n",
    "    g= [i for i in range(nodes) if i not in list(fix_n-1)]\n",
    "    j=0\n",
    "    for i in g:\n",
    "        u[2*i]=x[2*j]\n",
    "        u[2*i+1]=x[2*j+1]\n",
    "        j+=1\n",
    "    if dof_per_node==1:\n",
    "        sigma=np.zeros(ele)\n",
    "        for i in range(ele):\n",
    "            sigma[i]=(u[i+1]-u[i])/l[i]*E[i]\n",
    "        R=np.dot(K,u)-F\n",
    "\n",
    "\n",
    "\n",
    "    if dof_per_node==2:\n",
    "        #finding displacement in local co-ordiates:\n",
    "        u_loc=np.zeros((ele,2*dof_per_node))\n",
    "        u_ele=np.zeros((ele,2*dof_per_node))\n",
    "        for i in range(ele):\n",
    "            u_loc_tran=np.array([[ma.cos(ma.pi*theta[i]/180),ma.sin(ma.pi*theta[i]/180),0,0],\n",
    "                            [-ma.sin(ma.pi*theta[i]/180),ma.cos(ma.pi*theta[i]/180),0,0],\n",
    "                           [0,0,ma.cos(ma.pi*theta[i]/180),ma.sin(ma.pi*theta[i]/180)],\n",
    "                            [0,0,-ma.sin(ma.pi*theta[i]/180),ma.cos(ma.pi*theta[i]/180)]])\n",
    "            nd=C[i]-1\n",
    "            nd=nd.astype(int)\n",
    "            v=0\n",
    "            for j in nd:\n",
    "                u_ele[i][2*v]=u[2*j]\n",
    "                u_ele[i][2*v+1]=u[2*j+1]\n",
    "                v+=1\n",
    "            u_loc[i]=np.dot(u_loc_tran,u_ele[i])\n",
    "\n",
    "    F_ele=np.zeros((ele,2*dof_per_node))\n",
    "    for i in range(ele):\n",
    "        f_trans=float(A[i]*E[i]/l[i])*np.array([[1,0,-1,0],[0,0,0,0],[-1,0,1,0],[0,0,0,0]]).astype(np.float)\n",
    "        F_ele[i]=np.dot(f_trans,u_loc[i])\n",
    "\n",
    "    sigma=np.zeros(ele)\n",
    "    for i in range(ele):\n",
    "        sigma[i]=min(F_ele[i])/A[i]\n",
    "    R=np.dot(K,u)-F\n",
    "\n",
    "\n",
    "\n",
    "\n",
    "    print('The global stiffness matrix is ',K_global)\n",
    "    print('Forces in the elements are ', F_ele)\n",
    "    print('The nodal displacements are ',u)\n",
    "    print('The elemental stresses are ',sigma)\n",
    "    print('The reactions at the nodes are ', R)\n",
    "    \n",
    "    return"
   ]
  },
  {
   "cell_type": "code",
   "execution_count": 3,
   "id": "cd5921b2",
   "metadata": {},
   "outputs": [
    {
     "name": "stdout",
     "output_type": "stream",
     "text": [
      "Area of element \n",
      "1 :1\n",
      "Modulus of elasticity of element 1 :10e6\n",
      "Length of element \n",
      "1 :20\n",
      "Inclination of element (in degrees) \n",
      "1 :180\n",
      "Area of element \n",
      "2 :1\n",
      "Modulus of elasticity of element 2 :10e6\n",
      "Length of element \n",
      "2 :25\n",
      "Inclination of element (in degrees) \n",
      "2 :36.87\n",
      "Area of element \n",
      "3 :1\n",
      "Modulus of elasticity of element 3 :10e6\n",
      "Length of element \n",
      "3 :25\n",
      "Inclination of element (in degrees) \n",
      "3 :143.13\n",
      "Area of element \n",
      "4 :1\n",
      "Modulus of elasticity of element 4 :10e6\n",
      "Length of element \n",
      "4 :15\n",
      "Inclination of element (in degrees) \n",
      "4 :90\n",
      "Area of element \n",
      "5 :1\n",
      "Modulus of elasticity of element 5 :10e6\n",
      "Length of element \n",
      "5 :20\n",
      "Inclination of element (in degrees) \n",
      "5 :180\n",
      "Area of element \n",
      "6 :1\n",
      "Modulus of elasticity of element 6 :10e6\n",
      "Length of element \n",
      "6 :15\n",
      "Inclination of element (in degrees) \n",
      "6 :90\n",
      "Load at node 1 and dof 1 is :0\n",
      "Load at node 1 and dof 2 is :0\n",
      "Load at node 2 and dof 1 is :0\n",
      "Load at node 2 and dof 2 is :1000\n",
      "Load at node 3 and dof 1 is :0\n",
      "Load at node 3 and dof 2 is :1000\n",
      "Load at node 4 and dof 1 is :0\n",
      "Load at node 4 and dof 2 is :0\n",
      "The global stiffness matrix is  [[ 7.55999314e+05  1.92000200e+05 -5.00000000e+05  6.12323400e-11\n",
      "  -2.55999314e+05 -1.92000200e+05 -2.49959964e-27 -4.08215600e-11]\n",
      " [ 1.92000200e+05  8.10667353e+05  6.12323400e-11 -7.49879891e-27\n",
      "  -1.92000200e+05 -1.44000686e+05 -4.08215600e-11 -6.66666667e+05]\n",
      " [-5.00000000e+05  6.12323400e-11  7.55999314e+05 -1.92000200e+05\n",
      "  -2.49959964e-27 -4.08215600e-11 -2.55999314e+05  1.92000200e+05]\n",
      " [ 6.12323400e-11 -7.49879891e-27 -1.92000200e+05  8.10667353e+05\n",
      "  -4.08215600e-11 -6.66666667e+05  1.92000200e+05 -1.44000686e+05]\n",
      " [-2.55999314e+05 -1.92000200e+05 -2.49959964e-27 -4.08215600e-11\n",
      "   7.55999314e+05  1.92000200e+05 -5.00000000e+05  6.12323400e-11]\n",
      " [-1.92000200e+05 -1.44000686e+05 -4.08215600e-11 -6.66666667e+05\n",
      "   1.92000200e+05  8.10667353e+05  6.12323400e-11 -7.49879891e-27]\n",
      " [-2.49959964e-27 -4.08215600e-11 -2.55999314e+05  1.92000200e+05\n",
      "  -5.00000000e+05  6.12323400e-11  7.55999314e+05 -1.92000200e+05]\n",
      " [-4.08215600e-11 -6.66666667e+05  1.92000200e+05 -1.44000686e+05\n",
      "   6.12323400e-11 -7.49879891e-27 -1.92000200e+05  8.10667353e+05]]\n",
      "Forces in the elements are  [[-1333.32837108     0.          1333.32837108     0.        ]\n",
      " [-1666.66269686     0.          1666.66269686     0.        ]\n",
      " [ 3373.32072523     0.         -3373.32072523     0.        ]\n",
      " [    0.             0.             0.             0.        ]\n",
      " [ 1333.32837108     0.         -1333.32837108     0.        ]\n",
      " [    0.             0.             0.             0.        ]]\n",
      "The nodal displacements are  [ 0.          0.         -0.00266666  0.01049994 -0.00266666  0.01049994\n",
      "  0.          0.        ]\n",
      "The elemental stresses are  [1333.32837108 1666.66269686 3373.32072523    0.         1333.32837108\n",
      "    0.        ]\n",
      "The reactions at the nodes are  [ 2.27373675e-13 -1.00000000e+03 -4.03198134e+03  1.02399726e+03\n",
      "  0.00000000e+00  6.82121026e-13  4.03198134e+03 -2.02399726e+03]\n"
     ]
    }
   ],
   "source": [
    "solver1D2D(ele,nodes,n,fix_n,dof_per_node,C)"
   ]
  },
  {
   "cell_type": "markdown",
   "id": "03601aed",
   "metadata": {},
   "source": [
    "# For 3 D arrangements"
   ]
  },
  {
   "cell_type": "code",
   "execution_count": 1,
   "id": "a4d5ad12",
   "metadata": {},
   "outputs": [
    {
     "name": "stdout",
     "output_type": "stream",
     "text": [
      "Degrees of freedom per node 3\n"
     ]
    }
   ],
   "source": [
    "import numpy as np\n",
    "\n",
    "import math as ma\n",
    "\n",
    "# Define input parameters\n",
    "nodes = 10  # number of nodes\n",
    "ele = 25  # number of elements\n",
    "area = 3.142  # cross-sectional area of truss members (m^2)\n",
    "youngs_modulus = 3e7  # Young's modulus of material (Pa)\n",
    "rho = 7.3e-4  # density of material (kg/m^3)\n",
    "nu = 0.3  # Poisson's ratio\n",
    "# n=int(input('Number of Fixed Nodes '))\n",
    "# fix_n=np.array([int(input('Node number (Please provide fixed nodes in increasing order) ')) for i in range(n)])\n",
    "dof_per_node=int(input('Degrees of freedom per node '))\n",
    "# Define element connectivity and nodal coordinates\n",
    "# C= np.array([[1, 4], [2, 4], [3, 4]])\n",
    "C=np.array([[1,2],[1,4],[2,3],[1,5],[2,6],[2,4],[2,5],[1,3],[1,6],[3,6],[4,5],[3,4],[5,6],[3,10],[6,7],[4,9],[5,8],[4,7],[3,8],[5,10],[6,9],[6,10],[3,7],[4,8],[5,9]])\n",
    "# node_coords = np.array([[0, 0, 0], [0, -1, 1], [0, 1, 1], [1, 0, 1]])\n",
    "# node_coords=np.array([[2.5,4,8],[5.5,4,8],[2.5,5.5,4],[5.5,5.5,4],[5.5,2.5,4],[2.5,2.5,4],[0,8,0],[8,8,0],[8,0,0],[0,0,0]])\n",
    "node_coords=np.array([[-1.5,0,8],[1.5,0,8],[-1.5,1.5,4],[1.5,1.5,4],[1.5,-1.5,4],[-1.5,-1.5,4],[-4,4,0],[4,4,0],[4,-4,0],[-4,-4,0]])\n",
    "# *12\n",
    "# Initialize local stiffness matrix\n",
    "\n",
    "k=np.zeros((ele,dof_per_node*2, dof_per_node*2)) ## matrix of local \n",
    "for i in range(ele):\n",
    "    # Extract nodal coordinates and element length for current element\n",
    "    n1 = C[i, 0] - 1\n",
    "    n2 = C[i, 1] - 1\n",
    "    x1, y1, z1 = node_coords[n1]\n",
    "    x2, y2, z2 = node_coords[n2]\n",
    "    L = np.sqrt((x2 - x1)**2 + (y2 - y1)**2 + (z2 - z1)**2)\n",
    "    b=np.array([[x2 - x1],[y2 - y1],[z2 - z1]])\n",
    "\n",
    "    M=youngs_modulus*area/L*np.array([[1,-1],[-1,1]])\n",
    "\n",
    "    n=b.T/L\n",
    "    G = np.block([[n, np.zeros_like(n)],\n",
    "              [np.zeros_like(n), n]])\n",
    "\n",
    "    \n",
    "    \n",
    "    # Compute element stiffness matrix in global coordinates\n",
    "#     k[i] = np.transpose(T) @ k_elem @ T #@ nu_mat\n",
    "    k[i] = np.transpose(G) @ M @ G #@ nu_mat"
   ]
  },
  {
   "cell_type": "code",
   "execution_count": null,
   "id": "e06521ee",
   "metadata": {},
   "outputs": [],
   "source": []
  },
  {
   "cell_type": "code",
   "execution_count": 2,
   "id": "f6871ca8",
   "metadata": {},
   "outputs": [],
   "source": [
    "# assembly of Glbal stiffness matrix\n",
    "K_global = np.zeros((nodes*dof_per_node,nodes*dof_per_node))\n",
    "\n",
    "if dof_per_node==1:\n",
    "    for i in range(ele):\n",
    "        ind1=C[i]-1\n",
    "        ind1=ind1.astype(int)\n",
    "        K[ind1[0],ind1[0]]+=k[i][0][0]\n",
    "        K[ind1[1],ind1[0]]+=k[i][1][0]\n",
    "        K[ind1[0],ind1[1]]+=k[i][0][1]\n",
    "        K[ind1[1],ind1[1]]+=k[i][1][1]\n",
    "if dof_per_node==3:\n",
    "    \n",
    "    for e in range(ele):\n",
    "#         print('elee')\n",
    "        # Get the nodes for this element\n",
    "        node = C[e]\n",
    "        node=node.astype(int)\n",
    "        node=node-1\n",
    "        # Loop over each node in the element\n",
    "        for i in range(len(node)):\n",
    "            # Loop over each degree of freedom for node i\n",
    "            for j in range(3):\n",
    "                # Loop over each node in the element\n",
    "                for b in range(len(node)):\n",
    "#                     print('b')\n",
    "                    # Loop over each degree of freedom for node k\n",
    "                    for o in range(3):\n",
    "                        # Add the corresponding element stiffness matrix term to the global stiffness matrix\n",
    "#                         print([3*node[i]+j, 3*node[b]+o],'=',[e],[3*i+j, 3*b+o])\n",
    "                        K_global[3*node[i]+j, 3*node[b]+o] += k[e][3*i+j, 3*b+o]\n",
    "                        \n"
   ]
  },
  {
   "cell_type": "code",
   "execution_count": 3,
   "id": "db591541",
   "metadata": {},
   "outputs": [
    {
     "data": {
      "text/plain": [
       "array([[ 4.33475207e+07,  0.00000000e+00, -1.59033610e+07,\n",
       "        -3.14200000e+07,  0.00000000e+00,  0.00000000e+00,\n",
       "         0.00000000e+00,  0.00000000e+00,  0.00000000e+00,\n",
       "        -5.96376037e+06, -2.98188019e+06,  7.95168050e+06,\n",
       "        -5.96376037e+06,  2.98188019e+06,  7.95168050e+06,\n",
       "         0.00000000e+00,  0.00000000e+00,  0.00000000e+00,\n",
       "         0.00000000e+00,  0.00000000e+00,  0.00000000e+00,\n",
       "         0.00000000e+00,  0.00000000e+00,  0.00000000e+00,\n",
       "         0.00000000e+00,  0.00000000e+00,  0.00000000e+00,\n",
       "         0.00000000e+00,  0.00000000e+00,  0.00000000e+00],\n",
       "       [ 0.00000000e+00,  8.42246577e+06,  0.00000000e+00,\n",
       "         0.00000000e+00,  0.00000000e+00,  0.00000000e+00,\n",
       "         0.00000000e+00, -2.72029279e+06,  7.25411411e+06,\n",
       "        -2.98188019e+06, -1.49094009e+06,  3.97584025e+06,\n",
       "         2.98188019e+06, -1.49094009e+06, -3.97584025e+06,\n",
       "         0.00000000e+00, -2.72029279e+06, -7.25411411e+06,\n",
       "         0.00000000e+00,  0.00000000e+00,  0.00000000e+00,\n",
       "         0.00000000e+00,  0.00000000e+00,  0.00000000e+00,\n",
       "         0.00000000e+00,  0.00000000e+00,  0.00000000e+00,\n",
       "         0.00000000e+00,  0.00000000e+00,  0.00000000e+00],\n",
       "       [-1.59033610e+07,  0.00000000e+00,  5.98930899e+07,\n",
       "         0.00000000e+00,  0.00000000e+00,  0.00000000e+00,\n",
       "         0.00000000e+00,  7.25411411e+06, -1.93443043e+07,\n",
       "         7.95168050e+06,  3.97584025e+06, -1.06022407e+07,\n",
       "         7.95168050e+06, -3.97584025e+06, -1.06022407e+07,\n",
       "         0.00000000e+00, -7.25411411e+06, -1.93443043e+07,\n",
       "         0.00000000e+00,  0.00000000e+00,  0.00000000e+00,\n",
       "         0.00000000e+00,  0.00000000e+00,  0.00000000e+00,\n",
       "         0.00000000e+00,  0.00000000e+00,  0.00000000e+00,\n",
       "         0.00000000e+00,  0.00000000e+00,  0.00000000e+00],\n",
       "       [-3.14200000e+07,  0.00000000e+00,  0.00000000e+00,\n",
       "         4.33475207e+07,  0.00000000e+00,  1.59033610e+07,\n",
       "        -5.96376037e+06,  2.98188019e+06, -7.95168050e+06,\n",
       "         0.00000000e+00,  0.00000000e+00,  0.00000000e+00,\n",
       "         0.00000000e+00,  0.00000000e+00,  0.00000000e+00,\n",
       "        -5.96376037e+06, -2.98188019e+06, -7.95168050e+06,\n",
       "         0.00000000e+00,  0.00000000e+00,  0.00000000e+00,\n",
       "         0.00000000e+00,  0.00000000e+00,  0.00000000e+00,\n",
       "         0.00000000e+00,  0.00000000e+00,  0.00000000e+00,\n",
       "         0.00000000e+00,  0.00000000e+00,  0.00000000e+00],\n",
       "       [ 0.00000000e+00,  0.00000000e+00,  0.00000000e+00,\n",
       "         0.00000000e+00,  8.42246577e+06,  0.00000000e+00,\n",
       "         2.98188019e+06, -1.49094009e+06,  3.97584025e+06,\n",
       "         0.00000000e+00, -2.72029279e+06,  7.25411411e+06,\n",
       "         0.00000000e+00, -2.72029279e+06, -7.25411411e+06,\n",
       "        -2.98188019e+06, -1.49094009e+06, -3.97584025e+06,\n",
       "         0.00000000e+00,  0.00000000e+00,  0.00000000e+00,\n",
       "         0.00000000e+00,  0.00000000e+00,  0.00000000e+00,\n",
       "         0.00000000e+00,  0.00000000e+00,  0.00000000e+00,\n",
       "         0.00000000e+00,  0.00000000e+00,  0.00000000e+00],\n",
       "       [ 0.00000000e+00,  0.00000000e+00,  0.00000000e+00,\n",
       "         1.59033610e+07,  0.00000000e+00,  5.98930899e+07,\n",
       "        -7.95168050e+06,  3.97584025e+06, -1.06022407e+07,\n",
       "         0.00000000e+00,  7.25411411e+06, -1.93443043e+07,\n",
       "         0.00000000e+00, -7.25411411e+06, -1.93443043e+07,\n",
       "        -7.95168050e+06, -3.97584025e+06, -1.06022407e+07,\n",
       "         0.00000000e+00,  0.00000000e+00,  0.00000000e+00,\n",
       "         0.00000000e+00,  0.00000000e+00,  0.00000000e+00,\n",
       "         0.00000000e+00,  0.00000000e+00,  0.00000000e+00,\n",
       "         0.00000000e+00,  0.00000000e+00,  0.00000000e+00],\n",
       "       [ 0.00000000e+00,  0.00000000e+00,  0.00000000e+00,\n",
       "        -5.96376037e+06,  2.98188019e+06, -7.95168050e+06,\n",
       "         5.03002363e+07, -3.96242898e+04,  1.11734370e+07,\n",
       "        -3.14200000e+07,  0.00000000e+00,  0.00000000e+00,\n",
       "         0.00000000e+00,  0.00000000e+00,  0.00000000e+00,\n",
       "         0.00000000e+00,  0.00000000e+00,  0.00000000e+00,\n",
       "        -3.87204292e+06,  3.87204292e+06, -6.19526867e+06,\n",
       "        -7.49572870e+06, -3.40714941e+06,  5.45143905e+06,\n",
       "         0.00000000e+00,  0.00000000e+00,  0.00000000e+00,\n",
       "        -1.54870428e+06, -3.40714941e+06, -2.47792684e+06],\n",
       "       [ 0.00000000e+00, -2.72029279e+06,  7.25411411e+06,\n",
       "         2.98188019e+06, -1.49094009e+06,  3.97584025e+06,\n",
       "        -3.96242898e+04,  4.85477088e+07, -1.44517108e+07,\n",
       "         0.00000000e+00,  0.00000000e+00,  0.00000000e+00,\n",
       "         0.00000000e+00,  0.00000000e+00,  0.00000000e+00,\n",
       "         0.00000000e+00, -3.14200000e+07,  0.00000000e+00,\n",
       "         3.87204292e+06, -3.87204292e+06,  6.19526867e+06,\n",
       "        -3.40714941e+06, -1.54870428e+06,  2.47792684e+06,\n",
       "         0.00000000e+00,  0.00000000e+00,  0.00000000e+00,\n",
       "        -3.40714941e+06, -7.49572870e+06, -5.45143905e+06],\n",
       "       [ 0.00000000e+00,  7.25411411e+06, -1.93443043e+07,\n",
       "        -7.95168050e+06,  3.97584025e+06, -1.06022407e+07,\n",
       "         1.11734370e+07, -1.44517108e+07,  4.77883407e+07,\n",
       "         0.00000000e+00,  0.00000000e+00,  0.00000000e+00,\n",
       "         0.00000000e+00,  0.00000000e+00,  0.00000000e+00,\n",
       "         0.00000000e+00,  0.00000000e+00,  0.00000000e+00,\n",
       "        -6.19526867e+06,  6.19526867e+06, -9.91242988e+06,\n",
       "         5.45143905e+06,  2.47792684e+06, -3.96468295e+06,\n",
       "         0.00000000e+00,  0.00000000e+00,  0.00000000e+00,\n",
       "        -2.47792684e+06, -5.45143905e+06, -3.96468295e+06],\n",
       "       [-5.96376037e+06, -2.98188019e+06,  7.95168050e+06,\n",
       "         0.00000000e+00,  0.00000000e+00,  0.00000000e+00,\n",
       "        -3.14200000e+07,  0.00000000e+00,  0.00000000e+00,\n",
       "         5.03002363e+07,  3.96242898e+04, -1.11734370e+07,\n",
       "         0.00000000e+00,  0.00000000e+00,  0.00000000e+00,\n",
       "         0.00000000e+00,  0.00000000e+00,  0.00000000e+00,\n",
       "        -7.49572870e+06,  3.40714941e+06, -5.45143905e+06,\n",
       "        -3.87204292e+06, -3.87204292e+06,  6.19526867e+06,\n",
       "        -1.54870428e+06,  3.40714941e+06,  2.47792684e+06,\n",
       "         0.00000000e+00,  0.00000000e+00,  0.00000000e+00],\n",
       "       [-2.98188019e+06, -1.49094009e+06,  3.97584025e+06,\n",
       "         0.00000000e+00, -2.72029279e+06,  7.25411411e+06,\n",
       "         0.00000000e+00,  0.00000000e+00,  0.00000000e+00,\n",
       "         3.96242898e+04,  4.85477088e+07, -1.44517108e+07,\n",
       "         0.00000000e+00, -3.14200000e+07,  0.00000000e+00,\n",
       "         0.00000000e+00,  0.00000000e+00,  0.00000000e+00,\n",
       "         3.40714941e+06, -1.54870428e+06,  2.47792684e+06,\n",
       "        -3.87204292e+06, -3.87204292e+06,  6.19526867e+06,\n",
       "         3.40714941e+06, -7.49572870e+06, -5.45143905e+06,\n",
       "         0.00000000e+00,  0.00000000e+00,  0.00000000e+00],\n",
       "       [ 7.95168050e+06,  3.97584025e+06, -1.06022407e+07,\n",
       "         0.00000000e+00,  7.25411411e+06, -1.93443043e+07,\n",
       "         0.00000000e+00,  0.00000000e+00,  0.00000000e+00,\n",
       "        -1.11734370e+07, -1.44517108e+07,  4.77883407e+07,\n",
       "         0.00000000e+00,  0.00000000e+00,  0.00000000e+00,\n",
       "         0.00000000e+00,  0.00000000e+00,  0.00000000e+00,\n",
       "        -5.45143905e+06,  2.47792684e+06, -3.96468295e+06,\n",
       "         6.19526867e+06,  6.19526867e+06, -9.91242988e+06,\n",
       "         2.47792684e+06, -5.45143905e+06, -3.96468295e+06,\n",
       "         0.00000000e+00,  0.00000000e+00,  0.00000000e+00],\n",
       "       [-5.96376037e+06,  2.98188019e+06,  7.95168050e+06,\n",
       "         0.00000000e+00,  0.00000000e+00,  0.00000000e+00,\n",
       "         0.00000000e+00,  0.00000000e+00,  0.00000000e+00,\n",
       "         0.00000000e+00,  0.00000000e+00,  0.00000000e+00,\n",
       "         5.03002363e+07, -3.96242898e+04, -1.11734370e+07,\n",
       "        -3.14200000e+07,  0.00000000e+00,  0.00000000e+00,\n",
       "         0.00000000e+00,  0.00000000e+00,  0.00000000e+00,\n",
       "        -1.54870428e+06, -3.40714941e+06,  2.47792684e+06,\n",
       "        -3.87204292e+06,  3.87204292e+06,  6.19526867e+06,\n",
       "        -7.49572870e+06, -3.40714941e+06, -5.45143905e+06],\n",
       "       [ 2.98188019e+06, -1.49094009e+06, -3.97584025e+06,\n",
       "         0.00000000e+00, -2.72029279e+06, -7.25411411e+06,\n",
       "         0.00000000e+00,  0.00000000e+00,  0.00000000e+00,\n",
       "         0.00000000e+00, -3.14200000e+07,  0.00000000e+00,\n",
       "        -3.96242898e+04,  4.85477088e+07,  1.44517108e+07,\n",
       "         0.00000000e+00,  0.00000000e+00,  0.00000000e+00,\n",
       "         0.00000000e+00,  0.00000000e+00,  0.00000000e+00,\n",
       "        -3.40714941e+06, -7.49572870e+06,  5.45143905e+06,\n",
       "         3.87204292e+06, -3.87204292e+06, -6.19526867e+06,\n",
       "        -3.40714941e+06, -1.54870428e+06, -2.47792684e+06],\n",
       "       [ 7.95168050e+06, -3.97584025e+06, -1.06022407e+07,\n",
       "         0.00000000e+00, -7.25411411e+06, -1.93443043e+07,\n",
       "         0.00000000e+00,  0.00000000e+00,  0.00000000e+00,\n",
       "         0.00000000e+00,  0.00000000e+00,  0.00000000e+00,\n",
       "        -1.11734370e+07,  1.44517108e+07,  4.77883407e+07,\n",
       "         0.00000000e+00,  0.00000000e+00,  0.00000000e+00,\n",
       "         0.00000000e+00,  0.00000000e+00,  0.00000000e+00,\n",
       "         2.47792684e+06,  5.45143905e+06, -3.96468295e+06,\n",
       "         6.19526867e+06, -6.19526867e+06, -9.91242988e+06,\n",
       "        -5.45143905e+06, -2.47792684e+06, -3.96468295e+06],\n",
       "       [ 0.00000000e+00,  0.00000000e+00,  0.00000000e+00,\n",
       "        -5.96376037e+06, -2.98188019e+06, -7.95168050e+06,\n",
       "         0.00000000e+00,  0.00000000e+00,  0.00000000e+00,\n",
       "         0.00000000e+00,  0.00000000e+00,  0.00000000e+00,\n",
       "        -3.14200000e+07,  0.00000000e+00,  0.00000000e+00,\n",
       "         5.03002363e+07,  3.96242898e+04,  1.11734370e+07,\n",
       "        -1.54870428e+06,  3.40714941e+06, -2.47792684e+06,\n",
       "         0.00000000e+00,  0.00000000e+00,  0.00000000e+00,\n",
       "        -7.49572870e+06,  3.40714941e+06,  5.45143905e+06,\n",
       "        -3.87204292e+06, -3.87204292e+06, -6.19526867e+06],\n",
       "       [ 0.00000000e+00, -2.72029279e+06, -7.25411411e+06,\n",
       "        -2.98188019e+06, -1.49094009e+06, -3.97584025e+06,\n",
       "         0.00000000e+00, -3.14200000e+07,  0.00000000e+00,\n",
       "         0.00000000e+00,  0.00000000e+00,  0.00000000e+00,\n",
       "         0.00000000e+00,  0.00000000e+00,  0.00000000e+00,\n",
       "         3.96242898e+04,  4.85477088e+07,  1.44517108e+07,\n",
       "         3.40714941e+06, -7.49572870e+06,  5.45143905e+06,\n",
       "         0.00000000e+00,  0.00000000e+00,  0.00000000e+00,\n",
       "         3.40714941e+06, -1.54870428e+06, -2.47792684e+06,\n",
       "        -3.87204292e+06, -3.87204292e+06, -6.19526867e+06],\n",
       "       [ 0.00000000e+00, -7.25411411e+06, -1.93443043e+07,\n",
       "        -7.95168050e+06, -3.97584025e+06, -1.06022407e+07,\n",
       "         0.00000000e+00,  0.00000000e+00,  0.00000000e+00,\n",
       "         0.00000000e+00,  0.00000000e+00,  0.00000000e+00,\n",
       "         0.00000000e+00,  0.00000000e+00,  0.00000000e+00,\n",
       "         1.11734370e+07,  1.44517108e+07,  4.77883407e+07,\n",
       "        -2.47792684e+06,  5.45143905e+06, -3.96468295e+06,\n",
       "         0.00000000e+00,  0.00000000e+00,  0.00000000e+00,\n",
       "         5.45143905e+06, -2.47792684e+06, -3.96468295e+06,\n",
       "        -6.19526867e+06, -6.19526867e+06, -9.91242988e+06],\n",
       "       [ 0.00000000e+00,  0.00000000e+00,  0.00000000e+00,\n",
       "         0.00000000e+00,  0.00000000e+00,  0.00000000e+00,\n",
       "        -3.87204292e+06,  3.87204292e+06, -6.19526867e+06,\n",
       "        -7.49572870e+06,  3.40714941e+06, -5.45143905e+06,\n",
       "         0.00000000e+00,  0.00000000e+00,  0.00000000e+00,\n",
       "        -1.54870428e+06,  3.40714941e+06, -2.47792684e+06,\n",
       "         1.29164759e+07, -1.06863417e+07,  1.41246346e+07,\n",
       "         0.00000000e+00,  0.00000000e+00,  0.00000000e+00,\n",
       "         0.00000000e+00,  0.00000000e+00,  0.00000000e+00,\n",
       "         0.00000000e+00,  0.00000000e+00,  0.00000000e+00],\n",
       "       [ 0.00000000e+00,  0.00000000e+00,  0.00000000e+00,\n",
       "         0.00000000e+00,  0.00000000e+00,  0.00000000e+00,\n",
       "         3.87204292e+06, -3.87204292e+06,  6.19526867e+06,\n",
       "         3.40714941e+06, -1.54870428e+06,  2.47792684e+06,\n",
       "         0.00000000e+00,  0.00000000e+00,  0.00000000e+00,\n",
       "         3.40714941e+06, -7.49572870e+06,  5.45143905e+06,\n",
       "        -1.06863417e+07,  1.29164759e+07, -1.41246346e+07,\n",
       "         0.00000000e+00,  0.00000000e+00,  0.00000000e+00,\n",
       "         0.00000000e+00,  0.00000000e+00,  0.00000000e+00,\n",
       "         0.00000000e+00,  0.00000000e+00,  0.00000000e+00],\n",
       "       [ 0.00000000e+00,  0.00000000e+00,  0.00000000e+00,\n",
       "         0.00000000e+00,  0.00000000e+00,  0.00000000e+00,\n",
       "        -6.19526867e+06,  6.19526867e+06, -9.91242988e+06,\n",
       "        -5.45143905e+06,  2.47792684e+06, -3.96468295e+06,\n",
       "         0.00000000e+00,  0.00000000e+00,  0.00000000e+00,\n",
       "        -2.47792684e+06,  5.45143905e+06, -3.96468295e+06,\n",
       "         1.41246346e+07, -1.41246346e+07,  1.78417958e+07,\n",
       "         0.00000000e+00,  0.00000000e+00,  0.00000000e+00,\n",
       "         0.00000000e+00,  0.00000000e+00,  0.00000000e+00,\n",
       "         0.00000000e+00,  0.00000000e+00,  0.00000000e+00],\n",
       "       [ 0.00000000e+00,  0.00000000e+00,  0.00000000e+00,\n",
       "         0.00000000e+00,  0.00000000e+00,  0.00000000e+00,\n",
       "        -7.49572870e+06, -3.40714941e+06,  5.45143905e+06,\n",
       "        -3.87204292e+06, -3.87204292e+06,  6.19526867e+06,\n",
       "        -1.54870428e+06, -3.40714941e+06,  2.47792684e+06,\n",
       "         0.00000000e+00,  0.00000000e+00,  0.00000000e+00,\n",
       "         0.00000000e+00,  0.00000000e+00,  0.00000000e+00,\n",
       "         1.29164759e+07,  1.06863417e+07, -1.41246346e+07,\n",
       "         0.00000000e+00,  0.00000000e+00,  0.00000000e+00,\n",
       "         0.00000000e+00,  0.00000000e+00,  0.00000000e+00],\n",
       "       [ 0.00000000e+00,  0.00000000e+00,  0.00000000e+00,\n",
       "         0.00000000e+00,  0.00000000e+00,  0.00000000e+00,\n",
       "        -3.40714941e+06, -1.54870428e+06,  2.47792684e+06,\n",
       "        -3.87204292e+06, -3.87204292e+06,  6.19526867e+06,\n",
       "        -3.40714941e+06, -7.49572870e+06,  5.45143905e+06,\n",
       "         0.00000000e+00,  0.00000000e+00,  0.00000000e+00,\n",
       "         0.00000000e+00,  0.00000000e+00,  0.00000000e+00,\n",
       "         1.06863417e+07,  1.29164759e+07, -1.41246346e+07,\n",
       "         0.00000000e+00,  0.00000000e+00,  0.00000000e+00,\n",
       "         0.00000000e+00,  0.00000000e+00,  0.00000000e+00],\n",
       "       [ 0.00000000e+00,  0.00000000e+00,  0.00000000e+00,\n",
       "         0.00000000e+00,  0.00000000e+00,  0.00000000e+00,\n",
       "         5.45143905e+06,  2.47792684e+06, -3.96468295e+06,\n",
       "         6.19526867e+06,  6.19526867e+06, -9.91242988e+06,\n",
       "         2.47792684e+06,  5.45143905e+06, -3.96468295e+06,\n",
       "         0.00000000e+00,  0.00000000e+00,  0.00000000e+00,\n",
       "         0.00000000e+00,  0.00000000e+00,  0.00000000e+00,\n",
       "        -1.41246346e+07, -1.41246346e+07,  1.78417958e+07,\n",
       "         0.00000000e+00,  0.00000000e+00,  0.00000000e+00,\n",
       "         0.00000000e+00,  0.00000000e+00,  0.00000000e+00],\n",
       "       [ 0.00000000e+00,  0.00000000e+00,  0.00000000e+00,\n",
       "         0.00000000e+00,  0.00000000e+00,  0.00000000e+00,\n",
       "         0.00000000e+00,  0.00000000e+00,  0.00000000e+00,\n",
       "        -1.54870428e+06,  3.40714941e+06,  2.47792684e+06,\n",
       "        -3.87204292e+06,  3.87204292e+06,  6.19526867e+06,\n",
       "        -7.49572870e+06,  3.40714941e+06,  5.45143905e+06,\n",
       "         0.00000000e+00,  0.00000000e+00,  0.00000000e+00,\n",
       "         0.00000000e+00,  0.00000000e+00,  0.00000000e+00,\n",
       "         1.29164759e+07, -1.06863417e+07, -1.41246346e+07,\n",
       "         0.00000000e+00,  0.00000000e+00,  0.00000000e+00],\n",
       "       [ 0.00000000e+00,  0.00000000e+00,  0.00000000e+00,\n",
       "         0.00000000e+00,  0.00000000e+00,  0.00000000e+00,\n",
       "         0.00000000e+00,  0.00000000e+00,  0.00000000e+00,\n",
       "         3.40714941e+06, -7.49572870e+06, -5.45143905e+06,\n",
       "         3.87204292e+06, -3.87204292e+06, -6.19526867e+06,\n",
       "         3.40714941e+06, -1.54870428e+06, -2.47792684e+06,\n",
       "         0.00000000e+00,  0.00000000e+00,  0.00000000e+00,\n",
       "         0.00000000e+00,  0.00000000e+00,  0.00000000e+00,\n",
       "        -1.06863417e+07,  1.29164759e+07,  1.41246346e+07,\n",
       "         0.00000000e+00,  0.00000000e+00,  0.00000000e+00],\n",
       "       [ 0.00000000e+00,  0.00000000e+00,  0.00000000e+00,\n",
       "         0.00000000e+00,  0.00000000e+00,  0.00000000e+00,\n",
       "         0.00000000e+00,  0.00000000e+00,  0.00000000e+00,\n",
       "         2.47792684e+06, -5.45143905e+06, -3.96468295e+06,\n",
       "         6.19526867e+06, -6.19526867e+06, -9.91242988e+06,\n",
       "         5.45143905e+06, -2.47792684e+06, -3.96468295e+06,\n",
       "         0.00000000e+00,  0.00000000e+00,  0.00000000e+00,\n",
       "         0.00000000e+00,  0.00000000e+00,  0.00000000e+00,\n",
       "        -1.41246346e+07,  1.41246346e+07,  1.78417958e+07,\n",
       "         0.00000000e+00,  0.00000000e+00,  0.00000000e+00],\n",
       "       [ 0.00000000e+00,  0.00000000e+00,  0.00000000e+00,\n",
       "         0.00000000e+00,  0.00000000e+00,  0.00000000e+00,\n",
       "        -1.54870428e+06, -3.40714941e+06, -2.47792684e+06,\n",
       "         0.00000000e+00,  0.00000000e+00,  0.00000000e+00,\n",
       "        -7.49572870e+06, -3.40714941e+06, -5.45143905e+06,\n",
       "        -3.87204292e+06, -3.87204292e+06, -6.19526867e+06,\n",
       "         0.00000000e+00,  0.00000000e+00,  0.00000000e+00,\n",
       "         0.00000000e+00,  0.00000000e+00,  0.00000000e+00,\n",
       "         0.00000000e+00,  0.00000000e+00,  0.00000000e+00,\n",
       "         1.29164759e+07,  1.06863417e+07,  1.41246346e+07],\n",
       "       [ 0.00000000e+00,  0.00000000e+00,  0.00000000e+00,\n",
       "         0.00000000e+00,  0.00000000e+00,  0.00000000e+00,\n",
       "        -3.40714941e+06, -7.49572870e+06, -5.45143905e+06,\n",
       "         0.00000000e+00,  0.00000000e+00,  0.00000000e+00,\n",
       "        -3.40714941e+06, -1.54870428e+06, -2.47792684e+06,\n",
       "        -3.87204292e+06, -3.87204292e+06, -6.19526867e+06,\n",
       "         0.00000000e+00,  0.00000000e+00,  0.00000000e+00,\n",
       "         0.00000000e+00,  0.00000000e+00,  0.00000000e+00,\n",
       "         0.00000000e+00,  0.00000000e+00,  0.00000000e+00,\n",
       "         1.06863417e+07,  1.29164759e+07,  1.41246346e+07],\n",
       "       [ 0.00000000e+00,  0.00000000e+00,  0.00000000e+00,\n",
       "         0.00000000e+00,  0.00000000e+00,  0.00000000e+00,\n",
       "        -2.47792684e+06, -5.45143905e+06, -3.96468295e+06,\n",
       "         0.00000000e+00,  0.00000000e+00,  0.00000000e+00,\n",
       "        -5.45143905e+06, -2.47792684e+06, -3.96468295e+06,\n",
       "        -6.19526867e+06, -6.19526867e+06, -9.91242988e+06,\n",
       "         0.00000000e+00,  0.00000000e+00,  0.00000000e+00,\n",
       "         0.00000000e+00,  0.00000000e+00,  0.00000000e+00,\n",
       "         0.00000000e+00,  0.00000000e+00,  0.00000000e+00,\n",
       "         1.41246346e+07,  1.41246346e+07,  1.78417958e+07]])"
      ]
     },
     "execution_count": 3,
     "metadata": {},
     "output_type": "execute_result"
    }
   ],
   "source": [
    "K_global"
   ]
  },
  {
   "cell_type": "code",
   "execution_count": 4,
   "id": "ea778257",
   "metadata": {},
   "outputs": [
    {
     "name": "stdout",
     "output_type": "stream",
     "text": [
      "Number of Fixed Nodes 4\n",
      "Node number (Please provide fixed nodes in increasing order) 7\n",
      "Node number (Please provide fixed nodes in increasing order) 8\n",
      "Node number (Please provide fixed nodes in increasing order) 9\n",
      "Node number (Please provide fixed nodes in increasing order) 10\n"
     ]
    }
   ],
   "source": [
    "n=int(input('Number of Fixed Nodes '))\n",
    "fix_n=np.array([int(input('Node number (Please provide fixed nodes in increasing order) ')) for i in range(n)])"
   ]
  },
  {
   "cell_type": "code",
   "execution_count": 5,
   "id": "674bf591",
   "metadata": {
    "scrolled": true
   },
   "outputs": [],
   "source": [
    "#### Applying Boundary Conditions\n",
    "\n",
    "K=K_global\n",
    "K1=K.copy()\n",
    "K_temp1=K1\n",
    "if dof_per_node==1:\n",
    "    for i in fix_n:\n",
    "        print(i)\n",
    "        K_temp1[i-1][:] = 0\n",
    "        print(K_temp1)\n",
    "        K_temp1.T[:][i-1] = 0\n",
    "        print(K_temp1)\n",
    "\n",
    "    # Select non-zero rows\n",
    "    K_temp1 = K_temp1[~np.all(K_temp1 == 0, axis=1)]\n",
    "    # Select non-zero columns\n",
    "    K_temp1 = K_temp1[:, ~np.all(K_temp1 == 0, axis=0)]\n",
    "    \n",
    "if dof_per_node==3:\n",
    "      for i in fix_n-1:\n",
    "            K_temp1[3*i][:] = 0\n",
    "            K_temp1[3*i+1][:] = 0\n",
    "            K_temp1[3*i+2][:] = 0\n",
    "            K_temp1.T[:][3*i] = 0\n",
    "            K_temp1.T[:][3*i+1] = 0\n",
    "            K_temp1.T[:][3*i+2] = 0\n",
    "        \n",
    "# Select non-zero rows\n",
    "K_temp1 = K_temp1[~np.all(K_temp1 == 0, axis=1)]\n",
    "#Select non-zero columns\n",
    "K_temp1 = K_temp1[:, ~np.all(K_temp1 == 0, axis=0)]\n"
   ]
  },
  {
   "cell_type": "code",
   "execution_count": 6,
   "id": "abce3bf7",
   "metadata": {},
   "outputs": [
    {
     "data": {
      "text/plain": [
       "array([[ 4.33475207e+07,  0.00000000e+00, -1.59033610e+07,\n",
       "        -3.14200000e+07,  0.00000000e+00,  0.00000000e+00,\n",
       "         0.00000000e+00,  0.00000000e+00,  0.00000000e+00,\n",
       "        -5.96376037e+06, -2.98188019e+06,  7.95168050e+06,\n",
       "        -5.96376037e+06,  2.98188019e+06,  7.95168050e+06,\n",
       "         0.00000000e+00,  0.00000000e+00,  0.00000000e+00,\n",
       "         0.00000000e+00,  0.00000000e+00,  0.00000000e+00,\n",
       "         0.00000000e+00,  0.00000000e+00,  0.00000000e+00,\n",
       "         0.00000000e+00,  0.00000000e+00,  0.00000000e+00,\n",
       "         0.00000000e+00,  0.00000000e+00,  0.00000000e+00],\n",
       "       [ 0.00000000e+00,  8.42246577e+06,  0.00000000e+00,\n",
       "         0.00000000e+00,  0.00000000e+00,  0.00000000e+00,\n",
       "         0.00000000e+00, -2.72029279e+06,  7.25411411e+06,\n",
       "        -2.98188019e+06, -1.49094009e+06,  3.97584025e+06,\n",
       "         2.98188019e+06, -1.49094009e+06, -3.97584025e+06,\n",
       "         0.00000000e+00, -2.72029279e+06, -7.25411411e+06,\n",
       "         0.00000000e+00,  0.00000000e+00,  0.00000000e+00,\n",
       "         0.00000000e+00,  0.00000000e+00,  0.00000000e+00,\n",
       "         0.00000000e+00,  0.00000000e+00,  0.00000000e+00,\n",
       "         0.00000000e+00,  0.00000000e+00,  0.00000000e+00],\n",
       "       [-1.59033610e+07,  0.00000000e+00,  5.98930899e+07,\n",
       "         0.00000000e+00,  0.00000000e+00,  0.00000000e+00,\n",
       "         0.00000000e+00,  7.25411411e+06, -1.93443043e+07,\n",
       "         7.95168050e+06,  3.97584025e+06, -1.06022407e+07,\n",
       "         7.95168050e+06, -3.97584025e+06, -1.06022407e+07,\n",
       "         0.00000000e+00, -7.25411411e+06, -1.93443043e+07,\n",
       "         0.00000000e+00,  0.00000000e+00,  0.00000000e+00,\n",
       "         0.00000000e+00,  0.00000000e+00,  0.00000000e+00,\n",
       "         0.00000000e+00,  0.00000000e+00,  0.00000000e+00,\n",
       "         0.00000000e+00,  0.00000000e+00,  0.00000000e+00],\n",
       "       [-3.14200000e+07,  0.00000000e+00,  0.00000000e+00,\n",
       "         4.33475207e+07,  0.00000000e+00,  1.59033610e+07,\n",
       "        -5.96376037e+06,  2.98188019e+06, -7.95168050e+06,\n",
       "         0.00000000e+00,  0.00000000e+00,  0.00000000e+00,\n",
       "         0.00000000e+00,  0.00000000e+00,  0.00000000e+00,\n",
       "        -5.96376037e+06, -2.98188019e+06, -7.95168050e+06,\n",
       "         0.00000000e+00,  0.00000000e+00,  0.00000000e+00,\n",
       "         0.00000000e+00,  0.00000000e+00,  0.00000000e+00,\n",
       "         0.00000000e+00,  0.00000000e+00,  0.00000000e+00,\n",
       "         0.00000000e+00,  0.00000000e+00,  0.00000000e+00],\n",
       "       [ 0.00000000e+00,  0.00000000e+00,  0.00000000e+00,\n",
       "         0.00000000e+00,  8.42246577e+06,  0.00000000e+00,\n",
       "         2.98188019e+06, -1.49094009e+06,  3.97584025e+06,\n",
       "         0.00000000e+00, -2.72029279e+06,  7.25411411e+06,\n",
       "         0.00000000e+00, -2.72029279e+06, -7.25411411e+06,\n",
       "        -2.98188019e+06, -1.49094009e+06, -3.97584025e+06,\n",
       "         0.00000000e+00,  0.00000000e+00,  0.00000000e+00,\n",
       "         0.00000000e+00,  0.00000000e+00,  0.00000000e+00,\n",
       "         0.00000000e+00,  0.00000000e+00,  0.00000000e+00,\n",
       "         0.00000000e+00,  0.00000000e+00,  0.00000000e+00],\n",
       "       [ 0.00000000e+00,  0.00000000e+00,  0.00000000e+00,\n",
       "         1.59033610e+07,  0.00000000e+00,  5.98930899e+07,\n",
       "        -7.95168050e+06,  3.97584025e+06, -1.06022407e+07,\n",
       "         0.00000000e+00,  7.25411411e+06, -1.93443043e+07,\n",
       "         0.00000000e+00, -7.25411411e+06, -1.93443043e+07,\n",
       "        -7.95168050e+06, -3.97584025e+06, -1.06022407e+07,\n",
       "         0.00000000e+00,  0.00000000e+00,  0.00000000e+00,\n",
       "         0.00000000e+00,  0.00000000e+00,  0.00000000e+00,\n",
       "         0.00000000e+00,  0.00000000e+00,  0.00000000e+00,\n",
       "         0.00000000e+00,  0.00000000e+00,  0.00000000e+00],\n",
       "       [ 0.00000000e+00,  0.00000000e+00,  0.00000000e+00,\n",
       "        -5.96376037e+06,  2.98188019e+06, -7.95168050e+06,\n",
       "         5.03002363e+07, -3.96242898e+04,  1.11734370e+07,\n",
       "        -3.14200000e+07,  0.00000000e+00,  0.00000000e+00,\n",
       "         0.00000000e+00,  0.00000000e+00,  0.00000000e+00,\n",
       "         0.00000000e+00,  0.00000000e+00,  0.00000000e+00,\n",
       "        -3.87204292e+06,  3.87204292e+06, -6.19526867e+06,\n",
       "        -7.49572870e+06, -3.40714941e+06,  5.45143905e+06,\n",
       "         0.00000000e+00,  0.00000000e+00,  0.00000000e+00,\n",
       "        -1.54870428e+06, -3.40714941e+06, -2.47792684e+06],\n",
       "       [ 0.00000000e+00, -2.72029279e+06,  7.25411411e+06,\n",
       "         2.98188019e+06, -1.49094009e+06,  3.97584025e+06,\n",
       "        -3.96242898e+04,  4.85477088e+07, -1.44517108e+07,\n",
       "         0.00000000e+00,  0.00000000e+00,  0.00000000e+00,\n",
       "         0.00000000e+00,  0.00000000e+00,  0.00000000e+00,\n",
       "         0.00000000e+00, -3.14200000e+07,  0.00000000e+00,\n",
       "         3.87204292e+06, -3.87204292e+06,  6.19526867e+06,\n",
       "        -3.40714941e+06, -1.54870428e+06,  2.47792684e+06,\n",
       "         0.00000000e+00,  0.00000000e+00,  0.00000000e+00,\n",
       "        -3.40714941e+06, -7.49572870e+06, -5.45143905e+06],\n",
       "       [ 0.00000000e+00,  7.25411411e+06, -1.93443043e+07,\n",
       "        -7.95168050e+06,  3.97584025e+06, -1.06022407e+07,\n",
       "         1.11734370e+07, -1.44517108e+07,  4.77883407e+07,\n",
       "         0.00000000e+00,  0.00000000e+00,  0.00000000e+00,\n",
       "         0.00000000e+00,  0.00000000e+00,  0.00000000e+00,\n",
       "         0.00000000e+00,  0.00000000e+00,  0.00000000e+00,\n",
       "        -6.19526867e+06,  6.19526867e+06, -9.91242988e+06,\n",
       "         5.45143905e+06,  2.47792684e+06, -3.96468295e+06,\n",
       "         0.00000000e+00,  0.00000000e+00,  0.00000000e+00,\n",
       "        -2.47792684e+06, -5.45143905e+06, -3.96468295e+06],\n",
       "       [-5.96376037e+06, -2.98188019e+06,  7.95168050e+06,\n",
       "         0.00000000e+00,  0.00000000e+00,  0.00000000e+00,\n",
       "        -3.14200000e+07,  0.00000000e+00,  0.00000000e+00,\n",
       "         5.03002363e+07,  3.96242898e+04, -1.11734370e+07,\n",
       "         0.00000000e+00,  0.00000000e+00,  0.00000000e+00,\n",
       "         0.00000000e+00,  0.00000000e+00,  0.00000000e+00,\n",
       "        -7.49572870e+06,  3.40714941e+06, -5.45143905e+06,\n",
       "        -3.87204292e+06, -3.87204292e+06,  6.19526867e+06,\n",
       "        -1.54870428e+06,  3.40714941e+06,  2.47792684e+06,\n",
       "         0.00000000e+00,  0.00000000e+00,  0.00000000e+00],\n",
       "       [-2.98188019e+06, -1.49094009e+06,  3.97584025e+06,\n",
       "         0.00000000e+00, -2.72029279e+06,  7.25411411e+06,\n",
       "         0.00000000e+00,  0.00000000e+00,  0.00000000e+00,\n",
       "         3.96242898e+04,  4.85477088e+07, -1.44517108e+07,\n",
       "         0.00000000e+00, -3.14200000e+07,  0.00000000e+00,\n",
       "         0.00000000e+00,  0.00000000e+00,  0.00000000e+00,\n",
       "         3.40714941e+06, -1.54870428e+06,  2.47792684e+06,\n",
       "        -3.87204292e+06, -3.87204292e+06,  6.19526867e+06,\n",
       "         3.40714941e+06, -7.49572870e+06, -5.45143905e+06,\n",
       "         0.00000000e+00,  0.00000000e+00,  0.00000000e+00],\n",
       "       [ 7.95168050e+06,  3.97584025e+06, -1.06022407e+07,\n",
       "         0.00000000e+00,  7.25411411e+06, -1.93443043e+07,\n",
       "         0.00000000e+00,  0.00000000e+00,  0.00000000e+00,\n",
       "        -1.11734370e+07, -1.44517108e+07,  4.77883407e+07,\n",
       "         0.00000000e+00,  0.00000000e+00,  0.00000000e+00,\n",
       "         0.00000000e+00,  0.00000000e+00,  0.00000000e+00,\n",
       "        -5.45143905e+06,  2.47792684e+06, -3.96468295e+06,\n",
       "         6.19526867e+06,  6.19526867e+06, -9.91242988e+06,\n",
       "         2.47792684e+06, -5.45143905e+06, -3.96468295e+06,\n",
       "         0.00000000e+00,  0.00000000e+00,  0.00000000e+00],\n",
       "       [-5.96376037e+06,  2.98188019e+06,  7.95168050e+06,\n",
       "         0.00000000e+00,  0.00000000e+00,  0.00000000e+00,\n",
       "         0.00000000e+00,  0.00000000e+00,  0.00000000e+00,\n",
       "         0.00000000e+00,  0.00000000e+00,  0.00000000e+00,\n",
       "         5.03002363e+07, -3.96242898e+04, -1.11734370e+07,\n",
       "        -3.14200000e+07,  0.00000000e+00,  0.00000000e+00,\n",
       "         0.00000000e+00,  0.00000000e+00,  0.00000000e+00,\n",
       "        -1.54870428e+06, -3.40714941e+06,  2.47792684e+06,\n",
       "        -3.87204292e+06,  3.87204292e+06,  6.19526867e+06,\n",
       "        -7.49572870e+06, -3.40714941e+06, -5.45143905e+06],\n",
       "       [ 2.98188019e+06, -1.49094009e+06, -3.97584025e+06,\n",
       "         0.00000000e+00, -2.72029279e+06, -7.25411411e+06,\n",
       "         0.00000000e+00,  0.00000000e+00,  0.00000000e+00,\n",
       "         0.00000000e+00, -3.14200000e+07,  0.00000000e+00,\n",
       "        -3.96242898e+04,  4.85477088e+07,  1.44517108e+07,\n",
       "         0.00000000e+00,  0.00000000e+00,  0.00000000e+00,\n",
       "         0.00000000e+00,  0.00000000e+00,  0.00000000e+00,\n",
       "        -3.40714941e+06, -7.49572870e+06,  5.45143905e+06,\n",
       "         3.87204292e+06, -3.87204292e+06, -6.19526867e+06,\n",
       "        -3.40714941e+06, -1.54870428e+06, -2.47792684e+06],\n",
       "       [ 7.95168050e+06, -3.97584025e+06, -1.06022407e+07,\n",
       "         0.00000000e+00, -7.25411411e+06, -1.93443043e+07,\n",
       "         0.00000000e+00,  0.00000000e+00,  0.00000000e+00,\n",
       "         0.00000000e+00,  0.00000000e+00,  0.00000000e+00,\n",
       "        -1.11734370e+07,  1.44517108e+07,  4.77883407e+07,\n",
       "         0.00000000e+00,  0.00000000e+00,  0.00000000e+00,\n",
       "         0.00000000e+00,  0.00000000e+00,  0.00000000e+00,\n",
       "         2.47792684e+06,  5.45143905e+06, -3.96468295e+06,\n",
       "         6.19526867e+06, -6.19526867e+06, -9.91242988e+06,\n",
       "        -5.45143905e+06, -2.47792684e+06, -3.96468295e+06],\n",
       "       [ 0.00000000e+00,  0.00000000e+00,  0.00000000e+00,\n",
       "        -5.96376037e+06, -2.98188019e+06, -7.95168050e+06,\n",
       "         0.00000000e+00,  0.00000000e+00,  0.00000000e+00,\n",
       "         0.00000000e+00,  0.00000000e+00,  0.00000000e+00,\n",
       "        -3.14200000e+07,  0.00000000e+00,  0.00000000e+00,\n",
       "         5.03002363e+07,  3.96242898e+04,  1.11734370e+07,\n",
       "        -1.54870428e+06,  3.40714941e+06, -2.47792684e+06,\n",
       "         0.00000000e+00,  0.00000000e+00,  0.00000000e+00,\n",
       "        -7.49572870e+06,  3.40714941e+06,  5.45143905e+06,\n",
       "        -3.87204292e+06, -3.87204292e+06, -6.19526867e+06],\n",
       "       [ 0.00000000e+00, -2.72029279e+06, -7.25411411e+06,\n",
       "        -2.98188019e+06, -1.49094009e+06, -3.97584025e+06,\n",
       "         0.00000000e+00, -3.14200000e+07,  0.00000000e+00,\n",
       "         0.00000000e+00,  0.00000000e+00,  0.00000000e+00,\n",
       "         0.00000000e+00,  0.00000000e+00,  0.00000000e+00,\n",
       "         3.96242898e+04,  4.85477088e+07,  1.44517108e+07,\n",
       "         3.40714941e+06, -7.49572870e+06,  5.45143905e+06,\n",
       "         0.00000000e+00,  0.00000000e+00,  0.00000000e+00,\n",
       "         3.40714941e+06, -1.54870428e+06, -2.47792684e+06,\n",
       "        -3.87204292e+06, -3.87204292e+06, -6.19526867e+06],\n",
       "       [ 0.00000000e+00, -7.25411411e+06, -1.93443043e+07,\n",
       "        -7.95168050e+06, -3.97584025e+06, -1.06022407e+07,\n",
       "         0.00000000e+00,  0.00000000e+00,  0.00000000e+00,\n",
       "         0.00000000e+00,  0.00000000e+00,  0.00000000e+00,\n",
       "         0.00000000e+00,  0.00000000e+00,  0.00000000e+00,\n",
       "         1.11734370e+07,  1.44517108e+07,  4.77883407e+07,\n",
       "        -2.47792684e+06,  5.45143905e+06, -3.96468295e+06,\n",
       "         0.00000000e+00,  0.00000000e+00,  0.00000000e+00,\n",
       "         5.45143905e+06, -2.47792684e+06, -3.96468295e+06,\n",
       "        -6.19526867e+06, -6.19526867e+06, -9.91242988e+06],\n",
       "       [ 0.00000000e+00,  0.00000000e+00,  0.00000000e+00,\n",
       "         0.00000000e+00,  0.00000000e+00,  0.00000000e+00,\n",
       "        -3.87204292e+06,  3.87204292e+06, -6.19526867e+06,\n",
       "        -7.49572870e+06,  3.40714941e+06, -5.45143905e+06,\n",
       "         0.00000000e+00,  0.00000000e+00,  0.00000000e+00,\n",
       "        -1.54870428e+06,  3.40714941e+06, -2.47792684e+06,\n",
       "         1.29164759e+07, -1.06863417e+07,  1.41246346e+07,\n",
       "         0.00000000e+00,  0.00000000e+00,  0.00000000e+00,\n",
       "         0.00000000e+00,  0.00000000e+00,  0.00000000e+00,\n",
       "         0.00000000e+00,  0.00000000e+00,  0.00000000e+00],\n",
       "       [ 0.00000000e+00,  0.00000000e+00,  0.00000000e+00,\n",
       "         0.00000000e+00,  0.00000000e+00,  0.00000000e+00,\n",
       "         3.87204292e+06, -3.87204292e+06,  6.19526867e+06,\n",
       "         3.40714941e+06, -1.54870428e+06,  2.47792684e+06,\n",
       "         0.00000000e+00,  0.00000000e+00,  0.00000000e+00,\n",
       "         3.40714941e+06, -7.49572870e+06,  5.45143905e+06,\n",
       "        -1.06863417e+07,  1.29164759e+07, -1.41246346e+07,\n",
       "         0.00000000e+00,  0.00000000e+00,  0.00000000e+00,\n",
       "         0.00000000e+00,  0.00000000e+00,  0.00000000e+00,\n",
       "         0.00000000e+00,  0.00000000e+00,  0.00000000e+00],\n",
       "       [ 0.00000000e+00,  0.00000000e+00,  0.00000000e+00,\n",
       "         0.00000000e+00,  0.00000000e+00,  0.00000000e+00,\n",
       "        -6.19526867e+06,  6.19526867e+06, -9.91242988e+06,\n",
       "        -5.45143905e+06,  2.47792684e+06, -3.96468295e+06,\n",
       "         0.00000000e+00,  0.00000000e+00,  0.00000000e+00,\n",
       "        -2.47792684e+06,  5.45143905e+06, -3.96468295e+06,\n",
       "         1.41246346e+07, -1.41246346e+07,  1.78417958e+07,\n",
       "         0.00000000e+00,  0.00000000e+00,  0.00000000e+00,\n",
       "         0.00000000e+00,  0.00000000e+00,  0.00000000e+00,\n",
       "         0.00000000e+00,  0.00000000e+00,  0.00000000e+00],\n",
       "       [ 0.00000000e+00,  0.00000000e+00,  0.00000000e+00,\n",
       "         0.00000000e+00,  0.00000000e+00,  0.00000000e+00,\n",
       "        -7.49572870e+06, -3.40714941e+06,  5.45143905e+06,\n",
       "        -3.87204292e+06, -3.87204292e+06,  6.19526867e+06,\n",
       "        -1.54870428e+06, -3.40714941e+06,  2.47792684e+06,\n",
       "         0.00000000e+00,  0.00000000e+00,  0.00000000e+00,\n",
       "         0.00000000e+00,  0.00000000e+00,  0.00000000e+00,\n",
       "         1.29164759e+07,  1.06863417e+07, -1.41246346e+07,\n",
       "         0.00000000e+00,  0.00000000e+00,  0.00000000e+00,\n",
       "         0.00000000e+00,  0.00000000e+00,  0.00000000e+00],\n",
       "       [ 0.00000000e+00,  0.00000000e+00,  0.00000000e+00,\n",
       "         0.00000000e+00,  0.00000000e+00,  0.00000000e+00,\n",
       "        -3.40714941e+06, -1.54870428e+06,  2.47792684e+06,\n",
       "        -3.87204292e+06, -3.87204292e+06,  6.19526867e+06,\n",
       "        -3.40714941e+06, -7.49572870e+06,  5.45143905e+06,\n",
       "         0.00000000e+00,  0.00000000e+00,  0.00000000e+00,\n",
       "         0.00000000e+00,  0.00000000e+00,  0.00000000e+00,\n",
       "         1.06863417e+07,  1.29164759e+07, -1.41246346e+07,\n",
       "         0.00000000e+00,  0.00000000e+00,  0.00000000e+00,\n",
       "         0.00000000e+00,  0.00000000e+00,  0.00000000e+00],\n",
       "       [ 0.00000000e+00,  0.00000000e+00,  0.00000000e+00,\n",
       "         0.00000000e+00,  0.00000000e+00,  0.00000000e+00,\n",
       "         5.45143905e+06,  2.47792684e+06, -3.96468295e+06,\n",
       "         6.19526867e+06,  6.19526867e+06, -9.91242988e+06,\n",
       "         2.47792684e+06,  5.45143905e+06, -3.96468295e+06,\n",
       "         0.00000000e+00,  0.00000000e+00,  0.00000000e+00,\n",
       "         0.00000000e+00,  0.00000000e+00,  0.00000000e+00,\n",
       "        -1.41246346e+07, -1.41246346e+07,  1.78417958e+07,\n",
       "         0.00000000e+00,  0.00000000e+00,  0.00000000e+00,\n",
       "         0.00000000e+00,  0.00000000e+00,  0.00000000e+00],\n",
       "       [ 0.00000000e+00,  0.00000000e+00,  0.00000000e+00,\n",
       "         0.00000000e+00,  0.00000000e+00,  0.00000000e+00,\n",
       "         0.00000000e+00,  0.00000000e+00,  0.00000000e+00,\n",
       "        -1.54870428e+06,  3.40714941e+06,  2.47792684e+06,\n",
       "        -3.87204292e+06,  3.87204292e+06,  6.19526867e+06,\n",
       "        -7.49572870e+06,  3.40714941e+06,  5.45143905e+06,\n",
       "         0.00000000e+00,  0.00000000e+00,  0.00000000e+00,\n",
       "         0.00000000e+00,  0.00000000e+00,  0.00000000e+00,\n",
       "         1.29164759e+07, -1.06863417e+07, -1.41246346e+07,\n",
       "         0.00000000e+00,  0.00000000e+00,  0.00000000e+00],\n",
       "       [ 0.00000000e+00,  0.00000000e+00,  0.00000000e+00,\n",
       "         0.00000000e+00,  0.00000000e+00,  0.00000000e+00,\n",
       "         0.00000000e+00,  0.00000000e+00,  0.00000000e+00,\n",
       "         3.40714941e+06, -7.49572870e+06, -5.45143905e+06,\n",
       "         3.87204292e+06, -3.87204292e+06, -6.19526867e+06,\n",
       "         3.40714941e+06, -1.54870428e+06, -2.47792684e+06,\n",
       "         0.00000000e+00,  0.00000000e+00,  0.00000000e+00,\n",
       "         0.00000000e+00,  0.00000000e+00,  0.00000000e+00,\n",
       "        -1.06863417e+07,  1.29164759e+07,  1.41246346e+07,\n",
       "         0.00000000e+00,  0.00000000e+00,  0.00000000e+00],\n",
       "       [ 0.00000000e+00,  0.00000000e+00,  0.00000000e+00,\n",
       "         0.00000000e+00,  0.00000000e+00,  0.00000000e+00,\n",
       "         0.00000000e+00,  0.00000000e+00,  0.00000000e+00,\n",
       "         2.47792684e+06, -5.45143905e+06, -3.96468295e+06,\n",
       "         6.19526867e+06, -6.19526867e+06, -9.91242988e+06,\n",
       "         5.45143905e+06, -2.47792684e+06, -3.96468295e+06,\n",
       "         0.00000000e+00,  0.00000000e+00,  0.00000000e+00,\n",
       "         0.00000000e+00,  0.00000000e+00,  0.00000000e+00,\n",
       "        -1.41246346e+07,  1.41246346e+07,  1.78417958e+07,\n",
       "         0.00000000e+00,  0.00000000e+00,  0.00000000e+00],\n",
       "       [ 0.00000000e+00,  0.00000000e+00,  0.00000000e+00,\n",
       "         0.00000000e+00,  0.00000000e+00,  0.00000000e+00,\n",
       "        -1.54870428e+06, -3.40714941e+06, -2.47792684e+06,\n",
       "         0.00000000e+00,  0.00000000e+00,  0.00000000e+00,\n",
       "        -7.49572870e+06, -3.40714941e+06, -5.45143905e+06,\n",
       "        -3.87204292e+06, -3.87204292e+06, -6.19526867e+06,\n",
       "         0.00000000e+00,  0.00000000e+00,  0.00000000e+00,\n",
       "         0.00000000e+00,  0.00000000e+00,  0.00000000e+00,\n",
       "         0.00000000e+00,  0.00000000e+00,  0.00000000e+00,\n",
       "         1.29164759e+07,  1.06863417e+07,  1.41246346e+07],\n",
       "       [ 0.00000000e+00,  0.00000000e+00,  0.00000000e+00,\n",
       "         0.00000000e+00,  0.00000000e+00,  0.00000000e+00,\n",
       "        -3.40714941e+06, -7.49572870e+06, -5.45143905e+06,\n",
       "         0.00000000e+00,  0.00000000e+00,  0.00000000e+00,\n",
       "        -3.40714941e+06, -1.54870428e+06, -2.47792684e+06,\n",
       "        -3.87204292e+06, -3.87204292e+06, -6.19526867e+06,\n",
       "         0.00000000e+00,  0.00000000e+00,  0.00000000e+00,\n",
       "         0.00000000e+00,  0.00000000e+00,  0.00000000e+00,\n",
       "         0.00000000e+00,  0.00000000e+00,  0.00000000e+00,\n",
       "         1.06863417e+07,  1.29164759e+07,  1.41246346e+07],\n",
       "       [ 0.00000000e+00,  0.00000000e+00,  0.00000000e+00,\n",
       "         0.00000000e+00,  0.00000000e+00,  0.00000000e+00,\n",
       "        -2.47792684e+06, -5.45143905e+06, -3.96468295e+06,\n",
       "         0.00000000e+00,  0.00000000e+00,  0.00000000e+00,\n",
       "        -5.45143905e+06, -2.47792684e+06, -3.96468295e+06,\n",
       "        -6.19526867e+06, -6.19526867e+06, -9.91242988e+06,\n",
       "         0.00000000e+00,  0.00000000e+00,  0.00000000e+00,\n",
       "         0.00000000e+00,  0.00000000e+00,  0.00000000e+00,\n",
       "         0.00000000e+00,  0.00000000e+00,  0.00000000e+00,\n",
       "         1.41246346e+07,  1.41246346e+07,  1.78417958e+07]])"
      ]
     },
     "execution_count": 6,
     "metadata": {},
     "output_type": "execute_result"
    }
   ],
   "source": [
    "K_global"
   ]
  },
  {
   "cell_type": "code",
   "execution_count": 7,
   "id": "95176296",
   "metadata": {},
   "outputs": [
    {
     "data": {
      "text/plain": [
       "array([[ 4.33475207e+07,  0.00000000e+00, -1.59033610e+07,\n",
       "        -3.14200000e+07,  0.00000000e+00,  0.00000000e+00,\n",
       "         0.00000000e+00,  0.00000000e+00,  0.00000000e+00,\n",
       "        -5.96376037e+06, -2.98188019e+06,  7.95168050e+06,\n",
       "        -5.96376037e+06,  2.98188019e+06,  7.95168050e+06,\n",
       "         0.00000000e+00,  0.00000000e+00,  0.00000000e+00],\n",
       "       [ 0.00000000e+00,  8.42246577e+06,  0.00000000e+00,\n",
       "         0.00000000e+00,  0.00000000e+00,  0.00000000e+00,\n",
       "         0.00000000e+00, -2.72029279e+06,  7.25411411e+06,\n",
       "        -2.98188019e+06, -1.49094009e+06,  3.97584025e+06,\n",
       "         2.98188019e+06, -1.49094009e+06, -3.97584025e+06,\n",
       "         0.00000000e+00, -2.72029279e+06, -7.25411411e+06],\n",
       "       [-1.59033610e+07,  0.00000000e+00,  5.98930899e+07,\n",
       "         0.00000000e+00,  0.00000000e+00,  0.00000000e+00,\n",
       "         0.00000000e+00,  7.25411411e+06, -1.93443043e+07,\n",
       "         7.95168050e+06,  3.97584025e+06, -1.06022407e+07,\n",
       "         7.95168050e+06, -3.97584025e+06, -1.06022407e+07,\n",
       "         0.00000000e+00, -7.25411411e+06, -1.93443043e+07],\n",
       "       [-3.14200000e+07,  0.00000000e+00,  0.00000000e+00,\n",
       "         4.33475207e+07,  0.00000000e+00,  1.59033610e+07,\n",
       "        -5.96376037e+06,  2.98188019e+06, -7.95168050e+06,\n",
       "         0.00000000e+00,  0.00000000e+00,  0.00000000e+00,\n",
       "         0.00000000e+00,  0.00000000e+00,  0.00000000e+00,\n",
       "        -5.96376037e+06, -2.98188019e+06, -7.95168050e+06],\n",
       "       [ 0.00000000e+00,  0.00000000e+00,  0.00000000e+00,\n",
       "         0.00000000e+00,  8.42246577e+06,  0.00000000e+00,\n",
       "         2.98188019e+06, -1.49094009e+06,  3.97584025e+06,\n",
       "         0.00000000e+00, -2.72029279e+06,  7.25411411e+06,\n",
       "         0.00000000e+00, -2.72029279e+06, -7.25411411e+06,\n",
       "        -2.98188019e+06, -1.49094009e+06, -3.97584025e+06],\n",
       "       [ 0.00000000e+00,  0.00000000e+00,  0.00000000e+00,\n",
       "         1.59033610e+07,  0.00000000e+00,  5.98930899e+07,\n",
       "        -7.95168050e+06,  3.97584025e+06, -1.06022407e+07,\n",
       "         0.00000000e+00,  7.25411411e+06, -1.93443043e+07,\n",
       "         0.00000000e+00, -7.25411411e+06, -1.93443043e+07,\n",
       "        -7.95168050e+06, -3.97584025e+06, -1.06022407e+07],\n",
       "       [ 0.00000000e+00,  0.00000000e+00,  0.00000000e+00,\n",
       "        -5.96376037e+06,  2.98188019e+06, -7.95168050e+06,\n",
       "         5.03002363e+07, -3.96242898e+04,  1.11734370e+07,\n",
       "        -3.14200000e+07,  0.00000000e+00,  0.00000000e+00,\n",
       "         0.00000000e+00,  0.00000000e+00,  0.00000000e+00,\n",
       "         0.00000000e+00,  0.00000000e+00,  0.00000000e+00],\n",
       "       [ 0.00000000e+00, -2.72029279e+06,  7.25411411e+06,\n",
       "         2.98188019e+06, -1.49094009e+06,  3.97584025e+06,\n",
       "        -3.96242898e+04,  4.85477088e+07, -1.44517108e+07,\n",
       "         0.00000000e+00,  0.00000000e+00,  0.00000000e+00,\n",
       "         0.00000000e+00,  0.00000000e+00,  0.00000000e+00,\n",
       "         0.00000000e+00, -3.14200000e+07,  0.00000000e+00],\n",
       "       [ 0.00000000e+00,  7.25411411e+06, -1.93443043e+07,\n",
       "        -7.95168050e+06,  3.97584025e+06, -1.06022407e+07,\n",
       "         1.11734370e+07, -1.44517108e+07,  4.77883407e+07,\n",
       "         0.00000000e+00,  0.00000000e+00,  0.00000000e+00,\n",
       "         0.00000000e+00,  0.00000000e+00,  0.00000000e+00,\n",
       "         0.00000000e+00,  0.00000000e+00,  0.00000000e+00],\n",
       "       [-5.96376037e+06, -2.98188019e+06,  7.95168050e+06,\n",
       "         0.00000000e+00,  0.00000000e+00,  0.00000000e+00,\n",
       "        -3.14200000e+07,  0.00000000e+00,  0.00000000e+00,\n",
       "         5.03002363e+07,  3.96242898e+04, -1.11734370e+07,\n",
       "         0.00000000e+00,  0.00000000e+00,  0.00000000e+00,\n",
       "         0.00000000e+00,  0.00000000e+00,  0.00000000e+00],\n",
       "       [-2.98188019e+06, -1.49094009e+06,  3.97584025e+06,\n",
       "         0.00000000e+00, -2.72029279e+06,  7.25411411e+06,\n",
       "         0.00000000e+00,  0.00000000e+00,  0.00000000e+00,\n",
       "         3.96242898e+04,  4.85477088e+07, -1.44517108e+07,\n",
       "         0.00000000e+00, -3.14200000e+07,  0.00000000e+00,\n",
       "         0.00000000e+00,  0.00000000e+00,  0.00000000e+00],\n",
       "       [ 7.95168050e+06,  3.97584025e+06, -1.06022407e+07,\n",
       "         0.00000000e+00,  7.25411411e+06, -1.93443043e+07,\n",
       "         0.00000000e+00,  0.00000000e+00,  0.00000000e+00,\n",
       "        -1.11734370e+07, -1.44517108e+07,  4.77883407e+07,\n",
       "         0.00000000e+00,  0.00000000e+00,  0.00000000e+00,\n",
       "         0.00000000e+00,  0.00000000e+00,  0.00000000e+00],\n",
       "       [-5.96376037e+06,  2.98188019e+06,  7.95168050e+06,\n",
       "         0.00000000e+00,  0.00000000e+00,  0.00000000e+00,\n",
       "         0.00000000e+00,  0.00000000e+00,  0.00000000e+00,\n",
       "         0.00000000e+00,  0.00000000e+00,  0.00000000e+00,\n",
       "         5.03002363e+07, -3.96242898e+04, -1.11734370e+07,\n",
       "        -3.14200000e+07,  0.00000000e+00,  0.00000000e+00],\n",
       "       [ 2.98188019e+06, -1.49094009e+06, -3.97584025e+06,\n",
       "         0.00000000e+00, -2.72029279e+06, -7.25411411e+06,\n",
       "         0.00000000e+00,  0.00000000e+00,  0.00000000e+00,\n",
       "         0.00000000e+00, -3.14200000e+07,  0.00000000e+00,\n",
       "        -3.96242898e+04,  4.85477088e+07,  1.44517108e+07,\n",
       "         0.00000000e+00,  0.00000000e+00,  0.00000000e+00],\n",
       "       [ 7.95168050e+06, -3.97584025e+06, -1.06022407e+07,\n",
       "         0.00000000e+00, -7.25411411e+06, -1.93443043e+07,\n",
       "         0.00000000e+00,  0.00000000e+00,  0.00000000e+00,\n",
       "         0.00000000e+00,  0.00000000e+00,  0.00000000e+00,\n",
       "        -1.11734370e+07,  1.44517108e+07,  4.77883407e+07,\n",
       "         0.00000000e+00,  0.00000000e+00,  0.00000000e+00],\n",
       "       [ 0.00000000e+00,  0.00000000e+00,  0.00000000e+00,\n",
       "        -5.96376037e+06, -2.98188019e+06, -7.95168050e+06,\n",
       "         0.00000000e+00,  0.00000000e+00,  0.00000000e+00,\n",
       "         0.00000000e+00,  0.00000000e+00,  0.00000000e+00,\n",
       "        -3.14200000e+07,  0.00000000e+00,  0.00000000e+00,\n",
       "         5.03002363e+07,  3.96242898e+04,  1.11734370e+07],\n",
       "       [ 0.00000000e+00, -2.72029279e+06, -7.25411411e+06,\n",
       "        -2.98188019e+06, -1.49094009e+06, -3.97584025e+06,\n",
       "         0.00000000e+00, -3.14200000e+07,  0.00000000e+00,\n",
       "         0.00000000e+00,  0.00000000e+00,  0.00000000e+00,\n",
       "         0.00000000e+00,  0.00000000e+00,  0.00000000e+00,\n",
       "         3.96242898e+04,  4.85477088e+07,  1.44517108e+07],\n",
       "       [ 0.00000000e+00, -7.25411411e+06, -1.93443043e+07,\n",
       "        -7.95168050e+06, -3.97584025e+06, -1.06022407e+07,\n",
       "         0.00000000e+00,  0.00000000e+00,  0.00000000e+00,\n",
       "         0.00000000e+00,  0.00000000e+00,  0.00000000e+00,\n",
       "         0.00000000e+00,  0.00000000e+00,  0.00000000e+00,\n",
       "         1.11734370e+07,  1.44517108e+07,  4.77883407e+07]])"
      ]
     },
     "execution_count": 7,
     "metadata": {},
     "output_type": "execute_result"
    }
   ],
   "source": [
    "K_temp1"
   ]
  },
  {
   "cell_type": "code",
   "execution_count": 8,
   "id": "994c01fc",
   "metadata": {},
   "outputs": [
    {
     "name": "stdout",
     "output_type": "stream",
     "text": [
      "Load at node 1 and dof 1 is :0\n",
      "Load at node 1 and dof 2 is :60e3\n",
      "Load at node 1 and dof 3 is :0\n",
      "Load at node 2 and dof 1 is :0\n",
      "Load at node 2 and dof 2 is :60e3\n",
      "Load at node 2 and dof 3 is :0\n",
      "Load at node 3 and dof 1 is :0\n",
      "Load at node 3 and dof 2 is :0\n",
      "Load at node 3 and dof 3 is :0\n",
      "Load at node 4 and dof 1 is :0\n",
      "Load at node 4 and dof 2 is :0\n",
      "Load at node 4 and dof 3 is :0\n",
      "Load at node 5 and dof 1 is :00\n",
      "Load at node 5 and dof 2 is :0\n",
      "Load at node 5 and dof 3 is :0\n",
      "Load at node 6 and dof 1 is :0\n",
      "Load at node 6 and dof 2 is :0\n",
      "Load at node 6 and dof 3 is :0\n",
      "Load at node 7 and dof 1 is :0\n",
      "Load at node 7 and dof 2 is :0\n",
      "Load at node 7 and dof 3 is :0\n",
      "Load at node 8 and dof 1 is :0\n",
      "Load at node 8 and dof 2 is :0\n",
      "Load at node 8 and dof 3 is :0\n",
      "Load at node 9 and dof 1 is :0\n",
      "Load at node 9 and dof 2 is :0\n",
      "Load at node 9 and dof 3 is :0\n",
      "Load at node 10 and dof 1 is :0\n",
      "Load at node 10 and dof 2 is :0\n",
      "Load at node 10 and dof 3 is :0\n"
     ]
    }
   ],
   "source": [
    "### Accepting force\n",
    "F=np.zeros(nodes*dof_per_node)\n",
    "for i in range(nodes):\n",
    "    for j in range(dof_per_node):\n",
    "        F[3*i+j]=float(input(\"Load at node %d and dof %d is :\" % (int(i+1),int(j+1))))"
   ]
  },
  {
   "cell_type": "code",
   "execution_count": 9,
   "id": "b80495a7",
   "metadata": {},
   "outputs": [],
   "source": [
    "## \n",
    "if dof_per_node==1:\n",
    "    F_temp1 = np.delete(F, list(fix_n-1))#Deleeting fixed nodes entires\n",
    "if dof_per_node==2:\n",
    "    F_temp1 = np.delete(F, np.array((2*(fix_n-1),2*np.array(fix_n-1)+1))) #Deleeting fixed nodes entries\n",
    "if dof_per_node==3:\n",
    "    F_temp1 = np.delete(F, np.array((3*(fix_n-1),3*np.array(fix_n-1)+1,3*np.array(fix_n-1)+2))) #Deleeting fixed nodes entries"
   ]
  },
  {
   "cell_type": "code",
   "execution_count": 10,
   "id": "75ab6ca5",
   "metadata": {},
   "outputs": [
    {
     "data": {
      "text/plain": [
       "array([    0., 60000.,     0.,     0., 60000.,     0.,     0.,     0.,\n",
       "           0.,     0.,     0.,     0.,     0.,     0.,     0.,     0.,\n",
       "           0.,     0.])"
      ]
     },
     "execution_count": 10,
     "metadata": {},
     "output_type": "execute_result"
    }
   ],
   "source": [
    "F_temp1"
   ]
  },
  {
   "cell_type": "code",
   "execution_count": 11,
   "id": "24acf875",
   "metadata": {},
   "outputs": [],
   "source": [
    "## Solving for availabel degrees of freedom\n",
    "x = np.linalg.solve(K_temp1,F_temp1)\n",
    "u=np.zeros(nodes*dof_per_node)\n",
    "\n",
    "g= [i for i in range(nodes) if i not in list(fix_n-1)]\n",
    "j=0\n",
    "for i in g:\n",
    "        u[3*i]=x[3*j]      \n",
    "        u[3*i+1]=x[3*j+1]\n",
    "        u[3*i+2]=x[3*j+2]\n",
    "        j+=1"
   ]
  },
  {
   "cell_type": "code",
   "execution_count": 12,
   "id": "f1e77b84",
   "metadata": {},
   "outputs": [
    {
     "data": {
      "text/plain": [
       "array([ 8.37818981e-19,  1.97885194e-02,  1.25314575e-19,  8.12340376e-19,\n",
       "        1.97885194e-02, -5.56079705e-19, -1.44068339e-04,  1.30216381e-03,\n",
       "       -4.22270231e-03,  1.44068339e-04,  1.30216381e-03, -4.22270231e-03,\n",
       "       -1.44068339e-04,  1.30216381e-03,  4.22270231e-03,  1.44068339e-04,\n",
       "        1.30216381e-03,  4.22270231e-03,  0.00000000e+00,  0.00000000e+00,\n",
       "        0.00000000e+00,  0.00000000e+00,  0.00000000e+00,  0.00000000e+00,\n",
       "        0.00000000e+00,  0.00000000e+00,  0.00000000e+00,  0.00000000e+00,\n",
       "        0.00000000e+00,  0.00000000e+00])"
      ]
     },
     "execution_count": 12,
     "metadata": {},
     "output_type": "execute_result"
    }
   ],
   "source": [
    "u"
   ]
  },
  {
   "cell_type": "code",
   "execution_count": 13,
   "id": "7d138565",
   "metadata": {},
   "outputs": [
    {
     "data": {
      "text/plain": [
       "array([ 8.37818981e-19,  1.97885194e-02,  1.25314575e-19,  8.12340376e-19,\n",
       "        1.97885194e-02, -5.56079705e-19, -1.44068339e-04,  1.30216381e-03,\n",
       "       -4.22270231e-03,  1.44068339e-04,  1.30216381e-03, -4.22270231e-03,\n",
       "       -1.44068339e-04,  1.30216381e-03,  4.22270231e-03,  1.44068339e-04,\n",
       "        1.30216381e-03,  4.22270231e-03])"
      ]
     },
     "execution_count": 13,
     "metadata": {},
     "output_type": "execute_result"
    }
   ],
   "source": [
    "x"
   ]
  },
  {
   "cell_type": "code",
   "execution_count": 15,
   "id": "7d626456",
   "metadata": {},
   "outputs": [],
   "source": [
    "### Finding eleemntal quantities\n",
    "\n",
    "if dof_per_node==1:\n",
    "    sigma=np.zeros(ele)\n",
    "    for i in range(ele):\n",
    "        sigma[i]=(u[i+1]-u[i])/l[i]*E[i]\n",
    "    R=np.dot(K,u)-F\n",
    "    \n",
    "###### Transfroming global findings to local settings to find elemental, deformations, stresses and loads\n",
    "if dof_per_node==3:\n",
    "    sigma=np.zeros(ele)\n",
    "    F_ele=np.zeros((ele,2*dof_per_node))\n",
    "    #finding displacement in local co-ordiates:\n",
    "    u_loc=np.zeros((ele,2*dof_per_node))\n",
    "    u_ele=np.zeros((ele,2*dof_per_node))\n",
    "    for i in range(ele):\n",
    "        # Extract nodal coordinates and element length for current element\n",
    "        n1 = C[i, 0] - 1\n",
    "        n2 = C[i, 1] - 1\n",
    "        x1, y1, z1 = node_coords[n1]\n",
    "        x2, y2, z2 = node_coords[n2]\n",
    "        L = np.sqrt((x2 - x1)**2 + (y2 - y1)**2 + (z2 - z1)**2)\n",
    "        b=np.array([[x2 - x1],[y2 - y1],[z2 - z1]])\n",
    "\n",
    "        # Define the transformation matrix\n",
    "        n=b.T/L\n",
    "        G = np.block([[n, np.zeros_like(n)],\n",
    "              [np.zeros_like(n), n]])\n",
    "\n",
    "        # Calculate the transformation matrix\n",
    "#         T = transformation_matrix(theta)\n",
    "        # Calculate the local displacement vector \n",
    "        nd=C[i]-1\n",
    "        nd=nd.astype(int)\n",
    "        v=0\n",
    "        for j in nd:\n",
    "            u_ele[i][3*v]=u[3*j]\n",
    "            u_ele[i][3*v+1]=u[3*j+1]\n",
    "            u_ele[i][3*v+2]=u[3*j+2]\n",
    "            v+=1\n",
    "#         u_loc[i]=np.dot(T, u_ele[i])\n",
    "#         u_loc[i]=np.dot(u_loc_tran,u_ele[i])\n",
    "        F_ele[i]=np.dot(np.dot(np.array([-1,1]),G),u_ele[i])*youngs_modulus*area/L\n",
    "        sigma[i]=min(F_ele[i])/area\n",
    "    \n",
    "        "
   ]
  },
  {
   "cell_type": "code",
   "execution_count": 252,
   "id": "3b73db1c",
   "metadata": {},
   "outputs": [],
   "source": [
    "# np.dot(u_loc[3],T)\n",
    "\n"
   ]
  },
  {
   "cell_type": "code",
   "execution_count": 16,
   "id": "1c190960",
   "metadata": {},
   "outputs": [
    {
     "data": {
      "text/plain": [
       "array([[ 8.37818981e-19,  1.97885194e-02,  1.25314575e-19,\n",
       "         8.12340376e-19,  1.97885194e-02, -5.56079705e-19],\n",
       "       [ 8.37818981e-19,  1.97885194e-02,  1.25314575e-19,\n",
       "         1.44068339e-04,  1.30216381e-03, -4.22270231e-03],\n",
       "       [ 8.12340376e-19,  1.97885194e-02, -5.56079705e-19,\n",
       "        -1.44068339e-04,  1.30216381e-03, -4.22270231e-03],\n",
       "       [ 8.37818981e-19,  1.97885194e-02,  1.25314575e-19,\n",
       "        -1.44068339e-04,  1.30216381e-03,  4.22270231e-03],\n",
       "       [ 8.12340376e-19,  1.97885194e-02, -5.56079705e-19,\n",
       "         1.44068339e-04,  1.30216381e-03,  4.22270231e-03],\n",
       "       [ 8.12340376e-19,  1.97885194e-02, -5.56079705e-19,\n",
       "         1.44068339e-04,  1.30216381e-03, -4.22270231e-03],\n",
       "       [ 8.12340376e-19,  1.97885194e-02, -5.56079705e-19,\n",
       "        -1.44068339e-04,  1.30216381e-03,  4.22270231e-03],\n",
       "       [ 8.37818981e-19,  1.97885194e-02,  1.25314575e-19,\n",
       "        -1.44068339e-04,  1.30216381e-03, -4.22270231e-03],\n",
       "       [ 8.37818981e-19,  1.97885194e-02,  1.25314575e-19,\n",
       "         1.44068339e-04,  1.30216381e-03,  4.22270231e-03],\n",
       "       [-1.44068339e-04,  1.30216381e-03, -4.22270231e-03,\n",
       "         1.44068339e-04,  1.30216381e-03,  4.22270231e-03],\n",
       "       [ 1.44068339e-04,  1.30216381e-03, -4.22270231e-03,\n",
       "        -1.44068339e-04,  1.30216381e-03,  4.22270231e-03],\n",
       "       [-1.44068339e-04,  1.30216381e-03, -4.22270231e-03,\n",
       "         1.44068339e-04,  1.30216381e-03, -4.22270231e-03],\n",
       "       [-1.44068339e-04,  1.30216381e-03,  4.22270231e-03,\n",
       "         1.44068339e-04,  1.30216381e-03,  4.22270231e-03],\n",
       "       [-1.44068339e-04,  1.30216381e-03, -4.22270231e-03,\n",
       "         0.00000000e+00,  0.00000000e+00,  0.00000000e+00],\n",
       "       [ 1.44068339e-04,  1.30216381e-03,  4.22270231e-03,\n",
       "         0.00000000e+00,  0.00000000e+00,  0.00000000e+00],\n",
       "       [ 1.44068339e-04,  1.30216381e-03, -4.22270231e-03,\n",
       "         0.00000000e+00,  0.00000000e+00,  0.00000000e+00],\n",
       "       [-1.44068339e-04,  1.30216381e-03,  4.22270231e-03,\n",
       "         0.00000000e+00,  0.00000000e+00,  0.00000000e+00],\n",
       "       [ 1.44068339e-04,  1.30216381e-03, -4.22270231e-03,\n",
       "         0.00000000e+00,  0.00000000e+00,  0.00000000e+00],\n",
       "       [-1.44068339e-04,  1.30216381e-03, -4.22270231e-03,\n",
       "         0.00000000e+00,  0.00000000e+00,  0.00000000e+00],\n",
       "       [-1.44068339e-04,  1.30216381e-03,  4.22270231e-03,\n",
       "         0.00000000e+00,  0.00000000e+00,  0.00000000e+00],\n",
       "       [ 1.44068339e-04,  1.30216381e-03,  4.22270231e-03,\n",
       "         0.00000000e+00,  0.00000000e+00,  0.00000000e+00],\n",
       "       [ 1.44068339e-04,  1.30216381e-03,  4.22270231e-03,\n",
       "         0.00000000e+00,  0.00000000e+00,  0.00000000e+00],\n",
       "       [-1.44068339e-04,  1.30216381e-03, -4.22270231e-03,\n",
       "         0.00000000e+00,  0.00000000e+00,  0.00000000e+00],\n",
       "       [ 1.44068339e-04,  1.30216381e-03, -4.22270231e-03,\n",
       "         0.00000000e+00,  0.00000000e+00,  0.00000000e+00],\n",
       "       [-1.44068339e-04,  1.30216381e-03,  4.22270231e-03,\n",
       "         0.00000000e+00,  0.00000000e+00,  0.00000000e+00]])"
      ]
     },
     "execution_count": 16,
     "metadata": {},
     "output_type": "execute_result"
    }
   ],
   "source": [
    "u_ele"
   ]
  },
  {
   "cell_type": "code",
   "execution_count": 17,
   "id": "5bcf146f",
   "metadata": {},
   "outputs": [
    {
     "data": {
      "text/plain": [
       "array([[-8.00537756e-13, -8.00537756e-13, -8.00537756e-13,\n",
       "        -8.00537756e-13, -8.00537756e-13, -8.00537756e-13],\n",
       "       [-3.59970091e+04, -3.59970091e+04, -3.59970091e+04,\n",
       "        -3.59970091e+04, -3.59970091e+04, -3.59970091e+04],\n",
       "       [-3.59970091e+04, -3.59970091e+04, -3.59970091e+04,\n",
       "        -3.59970091e+04, -3.59970091e+04, -3.59970091e+04],\n",
       "       [ 3.59970091e+04,  3.59970091e+04,  3.59970091e+04,\n",
       "         3.59970091e+04,  3.59970091e+04,  3.59970091e+04],\n",
       "       [ 3.59970091e+04,  3.59970091e+04,  3.59970091e+04,\n",
       "         3.59970091e+04,  3.59970091e+04,  3.59970091e+04],\n",
       "       [-5.59812682e+04, -5.59812682e+04, -5.59812682e+04,\n",
       "        -5.59812682e+04, -5.59812682e+04, -5.59812682e+04],\n",
       "       [ 5.59812682e+04,  5.59812682e+04,  5.59812682e+04,\n",
       "         5.59812682e+04,  5.59812682e+04,  5.59812682e+04],\n",
       "       [-5.59812682e+04, -5.59812682e+04, -5.59812682e+04,\n",
       "        -5.59812682e+04, -5.59812682e+04, -5.59812682e+04],\n",
       "       [ 5.59812682e+04,  5.59812682e+04,  5.59812682e+04,\n",
       "         5.59812682e+04,  5.59812682e+04,  5.59812682e+04],\n",
       "       [ 6.81312645e-12,  6.81312645e-12,  6.81312645e-12,\n",
       "         6.81312645e-12,  6.81312645e-12,  6.81312645e-12],\n",
       "       [ 6.81312645e-12,  6.81312645e-12,  6.81312645e-12,\n",
       "         6.81312645e-12,  6.81312645e-12,  6.81312645e-12],\n",
       "       [ 9.05325439e+03,  9.05325439e+03,  9.05325439e+03,\n",
       "         9.05325439e+03,  9.05325439e+03,  9.05325439e+03],\n",
       "       [-9.05325439e+03, -9.05325439e+03, -9.05325439e+03,\n",
       "        -9.05325439e+03, -9.05325439e+03, -9.05325439e+03],\n",
       "       [-1.81142209e+04, -1.81142209e+04, -1.81142209e+04,\n",
       "        -1.81142209e+04, -1.81142209e+04, -1.81142209e+04],\n",
       "       [ 1.81142209e+04,  1.81142209e+04,  1.81142209e+04,\n",
       "         1.81142209e+04,  1.81142209e+04,  1.81142209e+04],\n",
       "       [-1.81142209e+04, -1.81142209e+04, -1.81142209e+04,\n",
       "        -1.81142209e+04, -1.81142209e+04, -1.81142209e+04],\n",
       "       [ 1.81142209e+04,  1.81142209e+04,  1.81142209e+04,\n",
       "         1.81142209e+04,  1.81142209e+04,  1.81142209e+04],\n",
       "       [-3.47484425e+04, -3.47484425e+04, -3.47484425e+04,\n",
       "        -3.47484425e+04, -3.47484425e+04, -3.47484425e+04],\n",
       "       [-3.47484425e+04, -3.47484425e+04, -3.47484425e+04,\n",
       "        -3.47484425e+04, -3.47484425e+04, -3.47484425e+04],\n",
       "       [ 3.47484425e+04,  3.47484425e+04,  3.47484425e+04,\n",
       "         3.47484425e+04,  3.47484425e+04,  3.47484425e+04],\n",
       "       [ 3.47484425e+04,  3.47484425e+04,  3.47484425e+04,\n",
       "         3.47484425e+04,  3.47484425e+04,  3.47484425e+04],\n",
       "       [ 6.78221854e+04,  6.78221854e+04,  6.78221854e+04,\n",
       "         6.78221854e+04,  6.78221854e+04,  6.78221854e+04],\n",
       "       [-6.78221854e+04, -6.78221854e+04, -6.78221854e+04,\n",
       "        -6.78221854e+04, -6.78221854e+04, -6.78221854e+04],\n",
       "       [-6.78221854e+04, -6.78221854e+04, -6.78221854e+04,\n",
       "        -6.78221854e+04, -6.78221854e+04, -6.78221854e+04],\n",
       "       [ 6.78221854e+04,  6.78221854e+04,  6.78221854e+04,\n",
       "         6.78221854e+04,  6.78221854e+04,  6.78221854e+04]])"
      ]
     },
     "execution_count": 17,
     "metadata": {},
     "output_type": "execute_result"
    }
   ],
   "source": [
    "F_ele"
   ]
  },
  {
   "cell_type": "code",
   "execution_count": 18,
   "id": "9ff5b067",
   "metadata": {},
   "outputs": [
    {
     "data": {
      "text/plain": [
       "array([-2.54786046e-13, -1.14567184e+04, -1.14567184e+04,  1.14567184e+04,\n",
       "        1.14567184e+04, -1.78170809e+04,  1.78170809e+04, -1.78170809e+04,\n",
       "        1.78170809e+04,  2.16840434e-12,  2.16840434e-12,  2.88136677e+03,\n",
       "       -2.88136677e+03, -5.76518808e+03,  5.76518808e+03, -5.76518808e+03,\n",
       "        5.76518808e+03, -1.10593388e+04, -1.10593388e+04,  1.10593388e+04,\n",
       "        1.10593388e+04,  2.15856733e+04, -2.15856733e+04, -2.15856733e+04,\n",
       "        2.15856733e+04])"
      ]
     },
     "execution_count": 18,
     "metadata": {},
     "output_type": "execute_result"
    }
   ],
   "source": [
    "sigma"
   ]
  },
  {
   "cell_type": "code",
   "execution_count": 19,
   "id": "517a5f73",
   "metadata": {},
   "outputs": [],
   "source": [
    "def check_symmetric(a, rtol=1e-05, atol=1e-08):\n",
    "    return np.allclose(a, a.T, rtol=rtol, atol=atol)"
   ]
  },
  {
   "cell_type": "code",
   "execution_count": 20,
   "id": "3235f3da",
   "metadata": {},
   "outputs": [
    {
     "data": {
      "text/plain": [
       "True"
      ]
     },
     "execution_count": 20,
     "metadata": {},
     "output_type": "execute_result"
    }
   ],
   "source": [
    "check_symmetric(K_global, rtol=1e-05, atol=1e-08)"
   ]
  },
  {
   "cell_type": "code",
   "execution_count": 147,
   "id": "7b66b2ef",
   "metadata": {},
   "outputs": [
    {
     "data": {
      "text/plain": [
       "1.1670934699103712"
      ]
     },
     "execution_count": 147,
     "metadata": {},
     "output_type": "execute_result"
    }
   ],
   "source": []
  },
  {
   "cell_type": "code",
   "execution_count": null,
   "id": "a3176918",
   "metadata": {},
   "outputs": [],
   "source": []
  }
 ],
 "metadata": {
  "kernelspec": {
   "display_name": "Python 3",
   "language": "python",
   "name": "python3"
  },
  "language_info": {
   "codemirror_mode": {
    "name": "ipython",
    "version": 3
   },
   "file_extension": ".py",
   "mimetype": "text/x-python",
   "name": "python",
   "nbconvert_exporter": "python",
   "pygments_lexer": "ipython3",
   "version": "3.8.8"
  }
 },
 "nbformat": 4,
 "nbformat_minor": 5
}
