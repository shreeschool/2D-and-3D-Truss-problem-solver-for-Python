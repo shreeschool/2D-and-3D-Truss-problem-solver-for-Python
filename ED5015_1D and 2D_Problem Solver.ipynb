{
 "cells": [
  {
   "cell_type": "markdown",
   "id": "2591c1c3",
   "metadata": {},
   "source": [
    "# Importing Libraries"
   ]
  },
  {
   "cell_type": "code",
   "execution_count": null,
   "id": "984e1afc",
   "metadata": {},
   "outputs": [],
   "source": [
    "import math as ma\n",
    "import numpy as np"
   ]
  },
  {
   "cell_type": "markdown",
   "id": "aa90b19b",
   "metadata": {},
   "source": [
    "# Taking input from the user for writing a matrix\n"
   ]
  },
  {
   "cell_type": "code",
   "execution_count": null,
   "id": "ff4b7231",
   "metadata": {},
   "outputs": [],
   "source": [
    "# a linear vector\n",
    "n=int(input('Please tell the number of entries 1 D array:'))\n",
    "a=np.array([int(input('Number:' )) for i in range(n)])"
   ]
  },
  {
   "cell_type": "code",
   "execution_count": null,
   "id": "64696d32",
   "metadata": {},
   "outputs": [],
   "source": [
    "# a square matrix\n",
    "n=int(input('Please tell the number of columns in your square matrix: '))\n",
    "q=np.zeros((n,n))\n",
    "for i in range(n):\n",
    "    for j in range(n):\n",
    "        q[i][j]=int(input('Number:'))\n",
    "print('Your Input Matrix is:', q)"
   ]
  },
  {
   "cell_type": "markdown",
   "id": "1630c327",
   "metadata": {},
   "source": [
    "# Matrix multipication:"
   ]
  },
  {
   "cell_type": "code",
   "execution_count": null,
   "id": "b83362fc",
   "metadata": {},
   "outputs": [],
   "source": [
    "np.dot(a,q)# dot product of two matrix"
   ]
  },
  {
   "cell_type": "code",
   "execution_count": null,
   "id": "e01a0f80",
   "metadata": {},
   "outputs": [],
   "source": [
    "a*q     #Elementwise multi plication"
   ]
  },
  {
   "cell_type": "markdown",
   "id": "a023f995",
   "metadata": {},
   "source": [
    "# Creating a function"
   ]
  },
  {
   "cell_type": "code",
   "execution_count": null,
   "id": "f23ea3f8",
   "metadata": {},
   "outputs": [],
   "source": [
    "## Creating a function\n",
    "def add(a,b):\n",
    "    return a+b\n",
    "def subtract(a,b):\n",
    "    return a-b\n"
   ]
  },
  {
   "cell_type": "code",
   "execution_count": null,
   "id": "27c759e5",
   "metadata": {},
   "outputs": [],
   "source": [
    "## Calling a function\n",
    "\n",
    "print(add(4,5))\n",
    "print(subtract(4,6))"
   ]
  },
  {
   "cell_type": "code",
   "execution_count": null,
   "id": "99f5ce2e",
   "metadata": {},
   "outputs": [],
   "source": [
    "#Geneating a linear vector on length n\n",
    "n=int(input('Please tell the number of entries 1 D array:'))\n",
    "def linvec(n):\n",
    "    a=np.array([int(input()) for i in range(n)])\n",
    "    return a\n",
    "b=linvec(n)\n",
    "print('Shape of the given vector is',b.shape) #(size of the vecore)"
   ]
  },
  {
   "cell_type": "code",
   "execution_count": null,
   "id": "2d716312",
   "metadata": {},
   "outputs": [],
   "source": [
    "# Generating a square matrix of size n\n",
    "n=int(input('Please tell the number of columns in your square matrix: '))\n",
    "def squaremat(n):\n",
    "    q=np.zeros((n,n))   ## generate a matrix of size n*n with zeros\n",
    "    for i in range(n):\n",
    "        for j in range(n):\n",
    "            q[i][j]=int(input('Number at (%d,%d):' % (int(i+1),int(j+1))))\n",
    "    return q\n",
    "a=squaremat(n)\n",
    "\n",
    "print('Shape of the given matrix is',a.shape) # size of the matrix"
   ]
  },
  {
   "cell_type": "code",
   "execution_count": null,
   "id": "def385de",
   "metadata": {},
   "outputs": [],
   "source": [
    "def matrixmult(a,b):\n",
    "    return np.dot(a,b)"
   ]
  },
  {
   "cell_type": "code",
   "execution_count": null,
   "id": "6f75b33c",
   "metadata": {},
   "outputs": [],
   "source": [
    "def elemntwisemult(a,b):\n",
    "    return a*b"
   ]
  },
  {
   "cell_type": "code",
   "execution_count": null,
   "id": "69ba3ab1",
   "metadata": {},
   "outputs": [],
   "source": [
    "matrixmult(a,q)"
   ]
  },
  {
   "cell_type": "code",
   "execution_count": null,
   "id": "1782a60b",
   "metadata": {},
   "outputs": [],
   "source": [
    "elemntwisemult(a,q)"
   ]
  },
  {
   "cell_type": "code",
   "execution_count": null,
   "id": "0d9bf72c",
   "metadata": {},
   "outputs": [],
   "source": [
    "#Multiplying with transpose\n",
    "matrixmult(q.T,a) # b.T gives the transpose of the matrix b\n"
   ]
  },
  {
   "cell_type": "markdown",
   "id": "d777208d",
   "metadata": {},
   "source": [
    "# Simple bar problem using above concepts:"
   ]
  },
  {
   "cell_type": "code",
   "execution_count": null,
   "id": "be29094b",
   "metadata": {},
   "outputs": [],
   "source": [
    "# Learning how to make a pseudo code:"
   ]
  },
  {
   "cell_type": "code",
   "execution_count": null,
   "id": "5e1eeb7a",
   "metadata": {},
   "outputs": [],
   "source": [
    "# from PIL import Image\n",
    "# myImage = Image.open('FEM problem.JPG');\n",
    "# myImage.show()"
   ]
  },
  {
   "cell_type": "code",
   "execution_count": null,
   "id": "3c054c6d",
   "metadata": {},
   "outputs": [],
   "source": [
    "# Taking inputs from the user:"
   ]
  },
  {
   "cell_type": "code",
   "execution_count": null,
   "id": "27672c5e",
   "metadata": {},
   "outputs": [],
   "source": [
    "# Accepting inputs from the user\n",
    "ele=int(input('Number of elements in your problem:',))\n",
    "nodes=int(input('Number of nodes in your problem:',))\n",
    "n=int(input('Number of Fixed Nodes '))\n",
    "fix_n=np.array([int(input('Node number (Please fixed provide nodes in increasing order) ')) for i in range(n)])\n",
    "dof_per_node=int(input('Degrees of freedom per node '))\n",
    "C=np.zeros((ele,2*dof_per_node))\n",
    "for i in range(ele):\n",
    "    C[i][0]=int(input('First node of element %d ' % int(i+1) ))\n",
    "    C[i][1]=int(input('Last node of element %d ' % int(i+1) ))"
   ]
  },
  {
   "cell_type": "code",
   "execution_count": null,
   "id": "34f0ab04",
   "metadata": {},
   "outputs": [],
   "source": [
    "A=np.zeros(ele)\n",
    "E=np.zeros(ele)\n",
    "l=np.zeros(ele)\n",
    "k=np.zeros((ele,2*dof_per_node,2*dof_per_node))\n",
    "F=np.zeros(nodes*dof_per_node)\n",
    "for i in range(ele):\n",
    "    A[i]=float(input(\"Area of element %d \" % int(i+1)))\n",
    "    E[i]=float(input(\"Modulus of elasticity of element %d \" % int(i+1)))\n",
    "    l[i]=float(input(\"Length of element %d \" % int(i+1)))\n",
    "    k[i]=float(A[i]*E[i]/l[i])*np.array([[1,-1],[-1,1]]).astype(np.float)  ### Creating local stiffness matrix \n",
    "for i in range(nodes):\n",
    "    F[i]=float(input(\"Load at node %d is \" % int(i+1)))"
   ]
  },
  {
   "cell_type": "code",
   "execution_count": null,
   "id": "3ca68316",
   "metadata": {},
   "outputs": [],
   "source": [
    "# Assembling global stiffness matrix\n",
    "\n",
    "K = np.zeros((nodes*dof_per_node,nodes*dof_per_node))  \n",
    "\n",
    "for i in range(ele):\n",
    "    ind1=C[i]-1\n",
    "    ind1=ind1.astype(int)\n",
    "    K[ind1[0],ind1[0]]+=k[i][0][0]\n",
    "    K[ind1[1],ind1[0]]+=k[i][1][0]\n",
    "    K[ind1[0],ind1[1]]+=k[i][0][1]\n",
    "    K[ind1[1],ind1[1]]+=k[i][1][1]\n",
    "K1=K.copy()\n",
    "K_temp1=K1"
   ]
  },
  {
   "cell_type": "code",
   "execution_count": null,
   "id": "3d835a7e",
   "metadata": {},
   "outputs": [],
   "source": [
    "K"
   ]
  },
  {
   "cell_type": "code",
   "execution_count": null,
   "id": "a0fe16be",
   "metadata": {},
   "outputs": [],
   "source": [
    "# applying boundary conditions\n",
    "for i in fix_n:\n",
    "    K_temp1[i-1][:] = 0\n",
    "    K_temp1.T[:][i-1] = 0\n",
    "# Select non-zero rows\n",
    "K_temp1 = K_temp1[~np.all(K_temp1 == 0, axis=1)]\n",
    "# Select non-zero columns\n",
    "K_temp1 = K_temp1[:, ~np.all(K_temp1 == 0, axis=0)]\n",
    "F_temp1 = np.delete(F, list(fix_n-1))"
   ]
  },
  {
   "cell_type": "code",
   "execution_count": null,
   "id": "466b8e83",
   "metadata": {},
   "outputs": [],
   "source": [
    "# Solve for available values\n",
    "x = np.linalg.solve(K_temp1,F_temp1)\n",
    "u=np.zeros(nodes*dof_per_node)\n",
    "A= [i for i in range(nodes) if i not in list(fix_n-1)]\n",
    "u[A]=x\n",
    "sigma=np.zeros(ele)\n",
    "for i in range(ele):\n",
    "    ind1=C[i]-1\n",
    "    ind1=ind1.astype(int)\n",
    "    sigma[i]=(u[ind1[1]]-u[ind1[0]])/l[i]*E[i]"
   ]
  },
  {
   "cell_type": "code",
   "execution_count": null,
   "id": "9f461ddf",
   "metadata": {},
   "outputs": [],
   "source": [
    "x"
   ]
  },
  {
   "cell_type": "code",
   "execution_count": null,
   "id": "b07d9754",
   "metadata": {},
   "outputs": [],
   "source": [
    "sigma"
   ]
  },
  {
   "cell_type": "code",
   "execution_count": null,
   "id": "2ddacb3a",
   "metadata": {},
   "outputs": [],
   "source": [
    "R=np.dot(K,u)-F"
   ]
  },
  {
   "cell_type": "code",
   "execution_count": null,
   "id": "c5c5ae86",
   "metadata": {},
   "outputs": [],
   "source": [
    "print('The global stiffness matrix is ',K)\n",
    "print('The nodal displacements are ',u)\n",
    "print('The elemental stresses are ',sigma)\n",
    "print('The reactions at the nodes are ', R)"
   ]
  },
  {
   "cell_type": "code",
   "execution_count": null,
   "id": "cf3bbf97",
   "metadata": {},
   "outputs": [],
   "source": []
  },
  {
   "cell_type": "code",
   "execution_count": null,
   "id": "095cd2ed",
   "metadata": {},
   "outputs": [],
   "source": []
  },
  {
   "cell_type": "code",
   "execution_count": null,
   "id": "91c71a18",
   "metadata": {},
   "outputs": [],
   "source": []
  },
  {
   "cell_type": "code",
   "execution_count": null,
   "id": "9e047121",
   "metadata": {},
   "outputs": [],
   "source": [
    "ele=int(input('Number of elements in your problem:',))\n",
    "nodes=int(input('Number of nodes in your problem:',))\n",
    "n=int(input('Number of Fixed Nodes '))\n",
    "fix_n=np.array([int(input('Node number (Please provide fixed nodes in increasing order) ')) for i in range(n)])\n",
    "dof_per_node=int(input('Degrees of freedom per node '))\n",
    "C=np.zeros((ele,2*dof_per_node))\n",
    "for i in range(ele):\n",
    "    C[i][0]=int(input('First node of element %d ' % int(i+1) ))\n",
    "    C[i][1]=int(input('Last node of element %d ' % int(i+1) ))\n",
    "    \n",
    "def barelements(ele,nodes,n,fix_n,C):\n",
    "    A=np.zeros(ele)\n",
    "    E=np.zeros(ele)\n",
    "    l=np.zeros(ele)\n",
    "    k=np.zeros((ele,2*dof_per_node,2*dof_per_node))\n",
    "    F=np.zeros(nodes*dof_per_node)\n",
    "    for i in range(ele):\n",
    "        A[i]=float(input(\"Area of element %d :\" % int(i+1)))\n",
    "        E[i]=float(input(\"Modulus of elasticity of element %d :\" % int(i+1)))\n",
    "        l[i]=float(input(\"Length of element %d :\" % int(i+1)))\n",
    "        k[i]=float(A[i]*E[i]/l[i])*np.array([[1,-1],[-1,1]]).astype(np.float)\n",
    "    for i in range(nodes):\n",
    "        F[i]=float(input(\"Load at node %d is :\" % int(i+1)))\n",
    "    ## construct global mass and stiffness matrices\n",
    "    # K = np.zeros((ele*dof_per_node,ele*dof_per_node))\n",
    "    # assembly of elements\n",
    "    K = np.zeros((nodes*dof_per_node,nodes*dof_per_node))\n",
    "\n",
    "    for i in range(ele):\n",
    "        ind1=C[i]-1\n",
    "        ind1=ind1.astype(int)\n",
    "        K[ind1[0],ind1[0]]+=k[i][0][0]\n",
    "        K[ind1[1],ind1[0]]+=k[i][1][0]\n",
    "        K[ind1[0],ind1[1]]+=k[i][0][1]\n",
    "        K[ind1[1],ind1[1]]+=k[i][1][1]\n",
    "    K1=K.copy()\n",
    "    K_temp1=K1\n",
    "    for i in fix_n:\n",
    "        K_temp1[i-1][:] = 0\n",
    "        K_temp1.T[:][i-1] = 0\n",
    "    # Select non-zero rows\n",
    "    K_temp1 = K_temp1[~np.all(K_temp1 == 0, axis=1)]\n",
    "    # Select non-zero columns\n",
    "    K_temp1 = K_temp1[:, ~np.all(K_temp1 == 0, axis=0)]\n",
    "    F_temp1 = np.delete(F, list(fix_n-1))\n",
    "    x = np.linalg.solve(K_temp1,F_temp1)\n",
    "    u=np.zeros(nodes)\n",
    "    t= [i for i in range(nodes) if i not in list(fix_n-1)]\n",
    "    u[t]=x\n",
    "    sigma=np.zeros(ele)\n",
    "    for i in range(ele):\n",
    "        sigma[i]=(u[i+1]-u[i])/l[i]*E[i]\n",
    "    R=np.dot(K,u)-F\n",
    "    \n",
    "    \n",
    "    print('The global stiffness matrix is ',K)\n",
    "    print('The nodal displacements are ',u)\n",
    "    print('The elemental stresses are ',sigma)\n",
    "    print('The reactions at the nodes are ', R)\n",
    "    \n",
    "    return \n",
    "\n",
    "\n"
   ]
  },
  {
   "cell_type": "code",
   "execution_count": null,
   "id": "ec454899",
   "metadata": {},
   "outputs": [],
   "source": [
    "barelements(ele,nodes,n,fix_n,C)"
   ]
  },
  {
   "cell_type": "markdown",
   "id": "10386d08",
   "metadata": {},
   "source": [
    "# Updating code for 2D condition"
   ]
  },
  {
   "cell_type": "code",
   "execution_count": 1,
   "id": "8099faed",
   "metadata": {},
   "outputs": [],
   "source": [
    "import numpy as np\n",
    "import math as ma"
   ]
  },
  {
   "cell_type": "code",
   "execution_count": 3,
   "id": "aa50e864",
   "metadata": {},
   "outputs": [
    {
     "name": "stdout",
     "output_type": "stream",
     "text": [
      "Number of elements in your problem:3\n",
      "Number of nodes in your problem:4\n",
      "Number of Fixed Nodes 3\n",
      "Node number (Please provide fixed nodes in increasing order) 1\n",
      "Node number (Please provide fixed nodes in increasing order) 2\n",
      "Node number (Please provide fixed nodes in increasing order) 3\n",
      "Degrees of freedom per node 2\n",
      "First node of element 1 1\n",
      "Last node of element 1 4\n",
      "First node of element 2 2\n",
      "Last node of element 2 4\n",
      "First node of element 3 3\n",
      "Last node of element 3 4\n",
      "Area of element 1 :1\n",
      "Modulus of elasticity of element 1 :10e5\n",
      "Length of element 1 :1\n",
      "Inclination of element (in degrees) 1 :-30\n",
      "Area of element 2 :1\n",
      "Modulus of elasticity of element 2 :1e6\n",
      "Length of element 2 :1\n",
      "Inclination of element (in degrees) 2 :30\n",
      "Area of element 3 :1\n",
      "Modulus of elasticity of element 3 :1e6\n",
      "Length of element 3 :1.322\n",
      "Inclination of element (in degrees) 3 :49.1\n"
     ]
    }
   ],
   "source": [
    "\n",
    "##### Adding codes for 2D elements\n",
    "\n",
    "ele=int(input('Number of elements in your problem:',))\n",
    "nodes=int(input('Number of nodes in your problem:',))\n",
    "n=int(input('Number of Fixed Nodes '))\n",
    "fix_n=np.array([int(input('Node number (Please provide fixed nodes in increasing order) ')) for i in range(n)])\n",
    "dof_per_node=int(input('Degrees of freedom per node '))\n",
    "C=np.zeros((ele,2))\n",
    "for i in range(ele):\n",
    "    C[i][0]=int(input('First node of element %d ' % int(i+1) ))\n",
    "    C[i][1]=int(input('Last node of element %d ' % int(i+1) ))\n",
    "    \n",
    "\n",
    "A=np.zeros(ele)\n",
    "E=np.zeros(ele)\n",
    "l=np.zeros(ele)\n",
    "k=np.zeros((ele,2*dof_per_node,2*dof_per_node))\n",
    "F=np.zeros(nodes*dof_per_node)\n",
    "theta=np.zeros(ele)\n",
    "for i in range(ele):\n",
    "    A[i]=float(input(\"Area of element %d :\" % int(i+1)))\n",
    "    E[i]=float(input(\"Modulus of elasticity of element %d :\" % int(i+1)))\n",
    "    l[i]=float(input(\"Length of element %d :\" % int(i+1)))\n",
    "    if dof_per_node>=1:\n",
    "        theta[i]=float(input(\"Inclination of element (in degrees) %d :\" % int(i+1)))\n",
    "        \n",
    "for i in range(ele):\n",
    "    if dof_per_node==1:\n",
    "        k[i]=float(A[i]*E[i]/l[i])*np.array([[1,-1],[-1,1]]).astype(np.float)\n",
    "    if dof_per_node==2:\n",
    "        k[i]=float(A[i]*E[i]/l[i])*np.array([[ma.cos(ma.pi*theta[i]/180)**2,ma.cos(ma.pi*theta[i]/180)*ma.sin(ma.pi*theta[i]/180),-1*ma.cos(ma.pi*theta[i]/180)**2,-ma.cos(ma.pi*theta[i]/180)*ma.sin(ma.pi*theta[i]/180)],\n",
    "                                             [ma.cos(ma.pi*theta[i]/180)*ma.sin(ma.pi*theta[i]/180),ma.sin(ma.pi*theta[i]/180)**2,-ma.cos(ma.pi*theta[i]/180)*ma.sin(ma.pi*theta[i]/180),-ma.sin(ma.pi*theta[i]/180)**2],\n",
    "                                             [-ma.cos(ma.pi*theta[i]/180)**2,-ma.cos(ma.pi*theta[i]/180)*ma.sin(ma.pi*theta[i]/180),ma.cos(ma.pi*theta[i]/180)**2,ma.cos(ma.pi*theta[i]/180)*ma.sin(ma.pi*theta[i]/180)],\n",
    "                                             [-ma.cos(ma.pi*theta[i]/180)*ma.sin(ma.pi*theta[i]/180),-ma.sin(ma.pi*theta[i]/180)**2,ma.cos(ma.pi*theta[i]/180)*ma.sin(ma.pi*theta[i]/180),ma.sin(ma.pi*theta[i]/180)**2]]).astype(np.float)\n",
    "        \n"
   ]
  },
  {
   "cell_type": "code",
   "execution_count": 5,
   "id": "6c9fdaeb",
   "metadata": {},
   "outputs": [
    {
     "data": {
      "text/plain": [
       "(3, 4, 4)"
      ]
     },
     "execution_count": 5,
     "metadata": {},
     "output_type": "execute_result"
    }
   ],
   "source": [
    "k.shape"
   ]
  },
  {
   "cell_type": "code",
   "execution_count": 7,
   "id": "0389b205",
   "metadata": {},
   "outputs": [],
   "source": [
    "# assembly of Glbal stiffness matrix\n",
    "K_global = np.zeros((nodes*dof_per_node,nodes*dof_per_node))\n",
    "\n",
    "\n",
    "if dof_per_node==1:\n",
    "    for i in range(ele):\n",
    "        ind1=C[i]-1\n",
    "        ind1=ind1.astype(int)\n",
    "        K[ind1[0],ind1[0]]+=k[i][0][0]\n",
    "        K[ind1[1],ind1[0]]+=k[i][1][0]\n",
    "        K[ind1[0],ind1[1]]+=k[i][0][1]\n",
    "        K[ind1[1],ind1[1]]+=k[i][1][1]\n",
    "if dof_per_node==2:\n",
    "    for e in range(ele):\n",
    "        # Get the nodes for this element\n",
    "        node = C[e]\n",
    "        node=node.astype(int)\n",
    "        node=node-1\n",
    "        # Loop over each node in the element\n",
    "        for i in range(len(node)):\n",
    "            # Loop over each degree of freedom for node i\n",
    "            for j in range(2):\n",
    "                # Loop over each node in the element\n",
    "                for b in range(len(node)):\n",
    "                    # Loop over each degree of freedom for node k\n",
    "                    for o in range(2):\n",
    "                        # Add the corresponding element stiffness matrix term to the global stiffness matrix\n",
    "                        K_global[2*node[i]+j, 2*node[b]+o] += k[e][2*i+j, 2*b+o]\n"
   ]
  },
  {
   "cell_type": "code",
   "execution_count": 8,
   "id": "96985b6d",
   "metadata": {},
   "outputs": [
    {
     "data": {
      "text/plain": [
       "array([[ 750000.        , -433012.70189222,       0.        ,\n",
       "              0.        ,       0.        ,       0.        ,\n",
       "        -750000.        ,  433012.70189222],\n",
       "       [-433012.70189222,  250000.        ,       0.        ,\n",
       "              0.        ,       0.        ,       0.        ,\n",
       "         433012.70189222, -250000.        ],\n",
       "       [      0.        ,       0.        ,  750000.        ,\n",
       "         433012.70189222,       0.        ,       0.        ,\n",
       "        -750000.        , -433012.70189222],\n",
       "       [      0.        ,       0.        ,  433012.70189222,\n",
       "         250000.        ,       0.        ,       0.        ,\n",
       "        -433012.70189222, -250000.        ],\n",
       "       [      0.        ,       0.        ,       0.        ,\n",
       "              0.        ,  324270.44867416,  374348.04497269,\n",
       "        -324270.44867416, -374348.04497269],\n",
       "       [      0.        ,       0.        ,       0.        ,\n",
       "              0.        ,  374348.04497269,  432159.2033682 ,\n",
       "        -374348.04497269, -432159.2033682 ],\n",
       "       [-750000.        ,  433012.70189222, -750000.        ,\n",
       "        -433012.70189222, -324270.44867416, -374348.04497269,\n",
       "        1824270.44867416,  374348.04497269],\n",
       "       [ 433012.70189222, -250000.        , -433012.70189222,\n",
       "        -250000.        , -374348.04497269, -432159.2033682 ,\n",
       "         374348.04497269,  932159.2033682 ]])"
      ]
     },
     "execution_count": 8,
     "metadata": {},
     "output_type": "execute_result"
    }
   ],
   "source": [
    "K_global"
   ]
  },
  {
   "cell_type": "code",
   "execution_count": 6,
   "id": "c5e46300",
   "metadata": {},
   "outputs": [
    {
     "data": {
      "text/plain": [
       "array([[1., 4.],\n",
       "       [2., 4.],\n",
       "       [3., 4.]])"
      ]
     },
     "execution_count": 6,
     "metadata": {},
     "output_type": "execute_result"
    }
   ],
   "source": [
    "C"
   ]
  },
  {
   "cell_type": "code",
   "execution_count": null,
   "id": "3fccfe5c",
   "metadata": {},
   "outputs": [],
   "source": []
  },
  {
   "cell_type": "code",
   "execution_count": 9,
   "id": "cfa41d48",
   "metadata": {},
   "outputs": [
    {
     "name": "stdout",
     "output_type": "stream",
     "text": [
      "0\n",
      "[[      0.               0.               0.               0.\n",
      "        0.               0.               0.               0.        ]\n",
      " [      0.               0.               0.               0.\n",
      "        0.               0.               0.               0.        ]\n",
      " [      0.               0.          750000.          433012.70189222\n",
      "        0.               0.         -750000.         -433012.70189222]\n",
      " [      0.               0.          433012.70189222  250000.\n",
      "        0.               0.         -433012.70189222 -250000.        ]\n",
      " [      0.               0.               0.               0.\n",
      "   324270.44867416  374348.04497269 -324270.44867416 -374348.04497269]\n",
      " [      0.               0.               0.               0.\n",
      "   374348.04497269  432159.2033682  -374348.04497269 -432159.2033682 ]\n",
      " [-750000.          433012.70189222 -750000.         -433012.70189222\n",
      "  -324270.44867416 -374348.04497269 1824270.44867416  374348.04497269]\n",
      " [ 433012.70189222 -250000.         -433012.70189222 -250000.\n",
      "  -374348.04497269 -432159.2033682   374348.04497269  932159.2033682 ]]\n",
      "[[      0.               0.               0.               0.\n",
      "        0.               0.               0.               0.        ]\n",
      " [      0.               0.               0.               0.\n",
      "        0.               0.               0.               0.        ]\n",
      " [      0.               0.          750000.          433012.70189222\n",
      "        0.               0.         -750000.         -433012.70189222]\n",
      " [      0.               0.          433012.70189222  250000.\n",
      "        0.               0.         -433012.70189222 -250000.        ]\n",
      " [      0.               0.               0.               0.\n",
      "   324270.44867416  374348.04497269 -324270.44867416 -374348.04497269]\n",
      " [      0.               0.               0.               0.\n",
      "   374348.04497269  432159.2033682  -374348.04497269 -432159.2033682 ]\n",
      " [      0.               0.         -750000.         -433012.70189222\n",
      "  -324270.44867416 -374348.04497269 1824270.44867416  374348.04497269]\n",
      " [      0.               0.         -433012.70189222 -250000.\n",
      "  -374348.04497269 -432159.2033682   374348.04497269  932159.2033682 ]]\n",
      "1\n",
      "[[      0.               0.               0.               0.\n",
      "        0.               0.               0.               0.        ]\n",
      " [      0.               0.               0.               0.\n",
      "        0.               0.               0.               0.        ]\n",
      " [      0.               0.               0.               0.\n",
      "        0.               0.               0.               0.        ]\n",
      " [      0.               0.               0.               0.\n",
      "        0.               0.               0.               0.        ]\n",
      " [      0.               0.               0.               0.\n",
      "   324270.44867416  374348.04497269 -324270.44867416 -374348.04497269]\n",
      " [      0.               0.               0.               0.\n",
      "   374348.04497269  432159.2033682  -374348.04497269 -432159.2033682 ]\n",
      " [      0.               0.         -750000.         -433012.70189222\n",
      "  -324270.44867416 -374348.04497269 1824270.44867416  374348.04497269]\n",
      " [      0.               0.         -433012.70189222 -250000.\n",
      "  -374348.04497269 -432159.2033682   374348.04497269  932159.2033682 ]]\n",
      "[[      0.               0.               0.               0.\n",
      "        0.               0.               0.               0.        ]\n",
      " [      0.               0.               0.               0.\n",
      "        0.               0.               0.               0.        ]\n",
      " [      0.               0.               0.               0.\n",
      "        0.               0.               0.               0.        ]\n",
      " [      0.               0.               0.               0.\n",
      "        0.               0.               0.               0.        ]\n",
      " [      0.               0.               0.               0.\n",
      "   324270.44867416  374348.04497269 -324270.44867416 -374348.04497269]\n",
      " [      0.               0.               0.               0.\n",
      "   374348.04497269  432159.2033682  -374348.04497269 -432159.2033682 ]\n",
      " [      0.               0.               0.               0.\n",
      "  -324270.44867416 -374348.04497269 1824270.44867416  374348.04497269]\n",
      " [      0.               0.               0.               0.\n",
      "  -374348.04497269 -432159.2033682   374348.04497269  932159.2033682 ]]\n",
      "2\n",
      "[[      0.               0.               0.               0.\n",
      "        0.               0.               0.               0.        ]\n",
      " [      0.               0.               0.               0.\n",
      "        0.               0.               0.               0.        ]\n",
      " [      0.               0.               0.               0.\n",
      "        0.               0.               0.               0.        ]\n",
      " [      0.               0.               0.               0.\n",
      "        0.               0.               0.               0.        ]\n",
      " [      0.               0.               0.               0.\n",
      "        0.               0.               0.               0.        ]\n",
      " [      0.               0.               0.               0.\n",
      "        0.               0.               0.               0.        ]\n",
      " [      0.               0.               0.               0.\n",
      "  -324270.44867416 -374348.04497269 1824270.44867416  374348.04497269]\n",
      " [      0.               0.               0.               0.\n",
      "  -374348.04497269 -432159.2033682   374348.04497269  932159.2033682 ]]\n",
      "[[      0.               0.               0.               0.\n",
      "        0.               0.               0.               0.        ]\n",
      " [      0.               0.               0.               0.\n",
      "        0.               0.               0.               0.        ]\n",
      " [      0.               0.               0.               0.\n",
      "        0.               0.               0.               0.        ]\n",
      " [      0.               0.               0.               0.\n",
      "        0.               0.               0.               0.        ]\n",
      " [      0.               0.               0.               0.\n",
      "        0.               0.               0.               0.        ]\n",
      " [      0.               0.               0.               0.\n",
      "        0.               0.               0.               0.        ]\n",
      " [      0.               0.               0.               0.\n",
      "        0.               0.         1824270.44867416  374348.04497269]\n",
      " [      0.               0.               0.               0.\n",
      "        0.               0.          374348.04497269  932159.2033682 ]]\n"
     ]
    }
   ],
   "source": [
    "#### Applying Boundary Conditions\n",
    "\n",
    "K=K_global\n",
    "K1=K.copy()\n",
    "K_temp1=K1\n",
    "if dof_per_node==1:\n",
    "    for i in fix_n:\n",
    "        print(i)\n",
    "        K_temp1[i-1][:] = 0\n",
    "        print(K_temp1)\n",
    "        K_temp1.T[:][i-1] = 0\n",
    "        print(K_temp1)\n",
    "\n",
    "    # Select non-zero rows\n",
    "    K_temp1 = K_temp1[~np.all(K_temp1 == 0, axis=1)]\n",
    "    # Select non-zero columns\n",
    "    K_temp1 = K_temp1[:, ~np.all(K_temp1 == 0, axis=0)]\n",
    "    \n",
    "if dof_per_node==2:\n",
    "    for i in fix_n-1:\n",
    "        print(i)\n",
    "        K_temp1[2*i][:] = 0\n",
    "        K_temp1[2*i+1][:] = 0\n",
    "        print(K_temp1)\n",
    "        K_temp1.T[:][2*i] = 0\n",
    "        K_temp1.T[:][2*i+1] = 0\n",
    "        print(K_temp1)\n",
    "   \n",
    "\n",
    "# Select non-zero rows\n",
    "K_temp1 = K_temp1[~np.all(K_temp1 == 0, axis=1)]\n",
    "#Select non-zero columns\n",
    "K_temp1 = K_temp1[:, ~np.all(K_temp1 == 0, axis=0)]\n",
    "\n"
   ]
  },
  {
   "cell_type": "code",
   "execution_count": 10,
   "id": "ed686c78",
   "metadata": {},
   "outputs": [
    {
     "data": {
      "text/plain": [
       "array([[1824270.44867416,  374348.04497269],\n",
       "       [ 374348.04497269,  932159.2033682 ]])"
      ]
     },
     "execution_count": 10,
     "metadata": {},
     "output_type": "execute_result"
    }
   ],
   "source": [
    "K_temp1"
   ]
  },
  {
   "cell_type": "code",
   "execution_count": 11,
   "id": "b35166bf",
   "metadata": {},
   "outputs": [
    {
     "name": "stdout",
     "output_type": "stream",
     "text": [
      "Load at node 1 and dof 1 is :0\n",
      "Load at node 1 and dof 2 is :0\n",
      "Load at node 2 and dof 1 is :0\n",
      "Load at node 2 and dof 2 is :0\n",
      "Load at node 3 and dof 1 is :0\n",
      "Load at node 3 and dof 2 is :0\n",
      "Load at node 4 and dof 1 is :10e3\n",
      "Load at node 4 and dof 2 is :0\n"
     ]
    },
    {
     "data": {
      "text/plain": [
       "array([    0.,     0.,     0.,     0.,     0.,     0., 10000.,     0.])"
      ]
     },
     "execution_count": 11,
     "metadata": {},
     "output_type": "execute_result"
    }
   ],
   "source": [
    "### Accepting force\n",
    "F=np.zeros(nodes*dof_per_node)\n",
    "for i in range(nodes):\n",
    "    for j in range(dof_per_node):\n",
    "        F[2*i+j]=float(input(\"Load at node %d and dof %d is :\" % (int(i+1),int(j+1))))\n",
    "F"
   ]
  },
  {
   "cell_type": "code",
   "execution_count": 12,
   "id": "27fe9048",
   "metadata": {},
   "outputs": [],
   "source": [
    "## \n",
    "if dof_per_node==1:\n",
    "    F_temp1 = np.delete(F, list(fix_n-1))#Deleeting fixed nodes entires\n",
    "if dof_per_node==2:\n",
    "    F_temp1 = np.delete(F, np.array((2*(fix_n-1),2*np.array(fix_n-1)+1))) #Deleeting fixed nodes entries"
   ]
  },
  {
   "cell_type": "code",
   "execution_count": 13,
   "id": "652c66cd",
   "metadata": {},
   "outputs": [
    {
     "data": {
      "text/plain": [
       "array([10000.,     0.])"
      ]
     },
     "execution_count": 13,
     "metadata": {},
     "output_type": "execute_result"
    }
   ],
   "source": [
    "F_temp1"
   ]
  },
  {
   "cell_type": "code",
   "execution_count": 14,
   "id": "30a8ee81",
   "metadata": {},
   "outputs": [],
   "source": [
    "## Solving for availabel degrees of freedom\n",
    "x = np.linalg.solve(K_temp1,F_temp1)\n",
    "u=np.zeros(nodes*dof_per_node)\n",
    "\n",
    "g= [i for i in range(nodes) if i not in list(fix_n-1)]\n",
    "v=0\n",
    "for i in g:\n",
    "    for j in range(len(x)-1):\n",
    "        u[2*i]=x[j]\n",
    "        u[2*i+1]=x[j+1]"
   ]
  },
  {
   "cell_type": "code",
   "execution_count": 16,
   "id": "b7c88dab",
   "metadata": {},
   "outputs": [
    {
     "data": {
      "text/plain": [
       "array([ 0.        ,  0.        ,  0.        ,  0.        ,  0.        ,\n",
       "        0.        ,  0.00597395, -0.00239909])"
      ]
     },
     "execution_count": 16,
     "metadata": {},
     "output_type": "execute_result"
    }
   ],
   "source": [
    "u"
   ]
  },
  {
   "cell_type": "code",
   "execution_count": 17,
   "id": "87b8ed22",
   "metadata": {},
   "outputs": [
    {
     "name": "stdout",
     "output_type": "stream",
     "text": [
      "[ 0.          0.          0.00597395 -0.00239909]\n",
      "[ 0.          0.          0.00597395 -0.00239909]\n",
      "[ 0.          0.          0.00597395 -0.00239909]\n"
     ]
    }
   ],
   "source": [
    "### Finding eleemntal quantities\n",
    "\n",
    "if dof_per_node==1:\n",
    "    sigma=np.zeros(ele)\n",
    "    for i in range(ele):\n",
    "        sigma[i]=(u[i+1]-u[i])/l[i]*E[i]\n",
    "    R=np.dot(K,u)-F\n",
    "    \n",
    "###### Transfroming global findings to local settings to find elemental, deformations, stresses and loads\n",
    "if dof_per_node==2:\n",
    "    #finding displacement in local co-ordiates:\n",
    "    u_loc=np.zeros((ele,2*dof_per_node))\n",
    "    u_ele=np.zeros((ele,2*dof_per_node))\n",
    "    for i in range(ele):\n",
    "        u_loc_tran=np.array([[ma.cos(ma.pi*theta[i]/180),ma.sin(ma.pi*theta[i]/180),0,0],\n",
    "                        [-ma.sin(ma.pi*theta[i]/180),ma.cos(ma.pi*theta[i]/180),0,0],\n",
    "                       [0,0,ma.cos(ma.pi*theta[i]/180),ma.sin(ma.pi*theta[i]/180)],\n",
    "                        [0,0,-ma.sin(ma.pi*theta[i]/180),ma.cos(ma.pi*theta[i]/180)]])\n",
    "        nd=C[i]-1\n",
    "        nd=nd.astype(int)\n",
    "        v=0\n",
    "        for j in nd:\n",
    "            u_ele[i][2*v]=u[2*j]\n",
    "            u_ele[i][2*v+1]=u[2*j+1]\n",
    "            v+=1\n",
    "        print(u_ele[i])\n",
    "        u_loc[i]=np.dot(u_loc_tran,u_ele[i])\n",
    "\n",
    "\n",
    "    \n",
    "    \n"
   ]
  },
  {
   "cell_type": "code",
   "execution_count": 18,
   "id": "5e2189f2",
   "metadata": {},
   "outputs": [],
   "source": [
    "## Elemetnal forces\n",
    "F_ele=np.zeros((ele,2*dof_per_node))\n",
    "for i in range(ele):\n",
    "    f_trans=float(A[i]*E[i]/l[i])*np.array([[1,0,-1,0],[0,0,0,0],[-1,0,1,0],[0,0,0,0]]).astype(np.float)\n",
    "    F_ele[i]=np.dot(f_trans,u_loc[i])\n",
    "    \n"
   ]
  },
  {
   "cell_type": "code",
   "execution_count": null,
   "id": "77738d3d",
   "metadata": {},
   "outputs": [],
   "source": []
  },
  {
   "cell_type": "code",
   "execution_count": 19,
   "id": "d9fe58e9",
   "metadata": {},
   "outputs": [
    {
     "data": {
      "text/plain": [
       "12.265688671556642"
      ]
     },
     "execution_count": 19,
     "metadata": {},
     "output_type": "execute_result"
    }
   ],
   "source": [
    "60.2/4.908\n"
   ]
  },
  {
   "cell_type": "code",
   "execution_count": null,
   "id": "2aae7afa",
   "metadata": {},
   "outputs": [],
   "source": []
  },
  {
   "cell_type": "code",
   "execution_count": 20,
   "id": "b309786c",
   "metadata": {},
   "outputs": [],
   "source": [
    "### Reactions at the support\n",
    "R=np.dot(K,u)-F"
   ]
  },
  {
   "cell_type": "code",
   "execution_count": 24,
   "id": "1234dcbb",
   "metadata": {},
   "outputs": [
    {
     "data": {
      "text/plain": [
       "array([-5.51929758e+03,  3.18656795e+03, -3.44162319e+03, -1.98702207e+03,\n",
       "       -1.03907923e+03, -1.19954587e+03,  0.00000000e+00, -4.54747351e-13])"
      ]
     },
     "execution_count": 24,
     "metadata": {},
     "output_type": "execute_result"
    }
   ],
   "source": [
    "R"
   ]
  },
  {
   "cell_type": "code",
   "execution_count": 21,
   "id": "1bc3344e",
   "metadata": {},
   "outputs": [
    {
     "data": {
      "text/plain": [
       "array([ 0.        ,  0.        ,  0.        ,  0.        ,  0.        ,\n",
       "        0.        ,  0.00597395, -0.00239909])"
      ]
     },
     "execution_count": 21,
     "metadata": {},
     "output_type": "execute_result"
    }
   ],
   "source": [
    "u"
   ]
  },
  {
   "cell_type": "code",
   "execution_count": 22,
   "id": "c313b56f",
   "metadata": {},
   "outputs": [
    {
     "data": {
      "text/plain": [
       "array([[ 0.        ,  0.        ,  0.00637314,  0.0009093 ],\n",
       "       [ 0.        ,  0.        ,  0.00397404, -0.00506465],\n",
       "       [ 0.        ,  0.        ,  0.00209803, -0.00608621]])"
      ]
     },
     "execution_count": 22,
     "metadata": {},
     "output_type": "execute_result"
    }
   ],
   "source": [
    "u_loc"
   ]
  },
  {
   "cell_type": "code",
   "execution_count": 23,
   "id": "22bdcce6",
   "metadata": {
    "scrolled": true
   },
   "outputs": [
    {
     "data": {
      "text/plain": [
       "array([2., 4.])"
      ]
     },
     "execution_count": 23,
     "metadata": {},
     "output_type": "execute_result"
    }
   ],
   "source": [
    "C[1]"
   ]
  },
  {
   "cell_type": "code",
   "execution_count": null,
   "id": "4027c7b5",
   "metadata": {},
   "outputs": [],
   "source": [
    "# Assembling whole code\n",
    "import numpy as np\n",
    "import math as ma\n",
    "ele=int(input('Number of elements in your problem:',))\n",
    "nodes=int(input('Number of nodes in your problem:',))\n",
    "n=int(input('Number of Fixed Nodes '))\n",
    "fix_n=np.array([int(input('Node number (Please provide fixed nodes in increasing order) ')) for i in range(n)])\n",
    "dof_per_node=int(input('Degrees of freedom per node '))\n",
    "C=np.zeros((ele,2))\n",
    "for i in range(ele):\n",
    "    C[i][0]=int(input('First node of element %d ' % int(i+1) ))\n",
    "    C[i][1]=int(input('Last node of element %d ' % int(i+1) ))\n",
    "def solver1D2D(ele,nodes,n,fix_n,dof_per_node,C):\n",
    "    A=np.zeros(ele)\n",
    "    E=np.zeros(ele)\n",
    "    l=np.zeros(ele)\n",
    "    k=np.zeros((ele,2*dof_per_node,2*dof_per_node))\n",
    "    F=np.zeros(nodes*dof_per_node)\n",
    "    theta=np.zeros(ele)\n",
    "    for i in range(ele):\n",
    "        A[i]=float(input(\"Area of element %d :\" % int(i+1)))\n",
    "        E[i]=float(input(\"Modulus of elasticity of element %d :\" % int(i+1)))\n",
    "        l[i]=float(input(\"Length of element %d :\" % int(i+1)))\n",
    "        if dof_per_node>=1:\n",
    "            theta[i]=float(input(\"Inclination of element (in degrees) %d :\" % int(i+1)))\n",
    "    for i in range(nodes):\n",
    "        for j in range(dof_per_node):\n",
    "            F[2*i+j]=float(input(\"Load at node %d and dof %d is :\" % (int(i+1),int(j+1))))\n",
    "\n",
    "    for i in range(ele):\n",
    "        if dof_per_node==1:\n",
    "            k[i]=float(A[i]*E[i]/l[i])*np.array([[1,-1],[-1,1]]).astype(np.float)\n",
    "        if dof_per_node==2:\n",
    "            k[i]=float(A[i]*E[i]/l[i])*np.array([[ma.cos(ma.pi*theta[i]/180)**2,ma.cos(ma.pi*theta[i]/180)*ma.sin(ma.pi*theta[i]/180),-1*ma.cos(ma.pi*theta[i]/180)**2,-ma.cos(ma.pi*theta[i]/180)*ma.sin(ma.pi*theta[i]/180)],\n",
    "                                                 [ma.cos(ma.pi*theta[i]/180)*ma.sin(ma.pi*theta[i]/180),ma.sin(ma.pi*theta[i]/180)**2,-ma.cos(ma.pi*theta[i]/180)*ma.sin(ma.pi*theta[i]/180),-ma.sin(ma.pi*theta[i]/180)**2],\n",
    "                                                 [-ma.cos(ma.pi*theta[i]/180)**2,-ma.cos(ma.pi*theta[i]/180)*ma.sin(ma.pi*theta[i]/180),ma.cos(ma.pi*theta[i]/180)**2,ma.cos(ma.pi*theta[i]/180)*ma.sin(ma.pi*theta[i]/180)],\n",
    "                                                 [-ma.cos(ma.pi*theta[i]/180)*ma.sin(ma.pi*theta[i]/180),-ma.sin(ma.pi*theta[i]/180)**2,ma.cos(ma.pi*theta[i]/180)*ma.sin(ma.pi*theta[i]/180),ma.sin(ma.pi*theta[i]/180)**2]]).astype(np.float)\n",
    "    # assembly of elements\n",
    "    K_global = np.zeros((nodes*dof_per_node,nodes*dof_per_node))\n",
    "\n",
    "\n",
    "    if dof_per_node==1:\n",
    "        for i in range(ele):\n",
    "            ind1=C[i]-1\n",
    "            ind1=ind1.astype(int)\n",
    "            K[ind1[0],ind1[0]]+=k[i][0][0]\n",
    "            K[ind1[1],ind1[0]]+=k[i][1][0]\n",
    "            K[ind1[0],ind1[1]]+=k[i][0][1]\n",
    "            K[ind1[1],ind1[1]]+=k[i][1][1]\n",
    "    if dof_per_node==2:\n",
    "        for e in range(ele):\n",
    "            # Get the nodes for this element\n",
    "            node = C[e]\n",
    "            node=node.astype(int)\n",
    "            node=node-1\n",
    "            # Loop over each node in the element\n",
    "            for i in range(len(node)):\n",
    "                # Loop over each degree of freedom for node i\n",
    "                for j in range(2):\n",
    "                    # Loop over each node in the element\n",
    "                    for b in range(len(node)):\n",
    "                        # Loop over each degree of freedom for node k\n",
    "                        for o in range(2):\n",
    "                            # Add the corresponding element stiffness matrix term to the global stiffness matrix\n",
    "                            K_global[2*node[i]+j, 2*node[b]+o] += k[e][2*i+j, 2*b+o]\n",
    "\n",
    "    K=K_global\n",
    "    K1=K.copy()\n",
    "    K_temp1=K1\n",
    "    if dof_per_node==1:\n",
    "        for i in fix_n:\n",
    "            print(i)\n",
    "            K_temp1[i-1][:] = 0\n",
    "            print(K_temp1)\n",
    "            K_temp1.T[:][i-1] = 0\n",
    "            print(K_temp1)\n",
    "\n",
    "        # Select non-zero rows\n",
    "        K_temp1 = K_temp1[~np.all(K_temp1 == 0, axis=1)]\n",
    "        # Select non-zero columns\n",
    "        K_temp1 = K_temp1[:, ~np.all(K_temp1 == 0, axis=0)]\n",
    "\n",
    "    if dof_per_node==2:\n",
    "        for i in fix_n-1:\n",
    "            K_temp1[2*i][:] = 0\n",
    "            K_temp1[2*i+1][:] = 0\n",
    "            K_temp1.T[:][2*i] = 0\n",
    "            K_temp1.T[:][2*i+1] = 0\n",
    "\n",
    "    # Select non-zero rows\n",
    "    K_temp1 = K_temp1[~np.all(K_temp1 == 0, axis=1)]\n",
    "    #Select non-zero columns\n",
    "    K_temp1 = K_temp1[:, ~np.all(K_temp1 == 0, axis=0)]\n",
    "\n",
    "\n",
    "    if dof_per_node==1:\n",
    "        F_temp1 = np.delete(F, list(fix_n-1))#Deleeting fixed nodes entires\n",
    "    if dof_per_node==2:\n",
    "        F_temp1 = np.delete(F, np.array((2*(fix_n-1),2*np.array(fix_n-1)+1))) #Deleeting fixed nodes entries\n",
    "    x = np.linalg.solve(K_temp1,F_temp1)\n",
    "    u=np.zeros(nodes*dof_per_node)\n",
    "\n",
    "    # if dof_per_node==2:\n",
    "    g= [i for i in range(nodes) if i not in list(fix_n-1)]\n",
    "    for i in g:\n",
    "        for j in range(len(x)-1):\n",
    "            u[2*i]=x[j]\n",
    "            u[2*i+1]=x[j+1]\n",
    "    if dof_per_node==1:\n",
    "        sigma=np.zeros(ele)\n",
    "        for i in range(ele):\n",
    "            sigma[i]=(u[i+1]-u[i])/l[i]*E[i]\n",
    "        R=np.dot(K,u)-F\n",
    "\n",
    "\n",
    "\n",
    "    if dof_per_node==2:\n",
    "        #finding displacement in local co-ordiates:\n",
    "        u_loc=np.zeros((ele,2*dof_per_node))\n",
    "        u_ele=np.zeros((ele,2*dof_per_node))\n",
    "        for i in range(ele):\n",
    "            u_loc_tran=np.array([[ma.cos(ma.pi*theta[i]/180),ma.sin(ma.pi*theta[i]/180),0,0],\n",
    "                            [-ma.sin(ma.pi*theta[i]/180),ma.cos(ma.pi*theta[i]/180),0,0],\n",
    "                           [0,0,ma.cos(ma.pi*theta[i]/180),ma.sin(ma.pi*theta[i]/180)],\n",
    "                            [0,0,-ma.sin(ma.pi*theta[i]/180),ma.cos(ma.pi*theta[i]/180)]])\n",
    "            nd=C[i]-1\n",
    "            nd=nd.astype(int)\n",
    "            v=0\n",
    "            for j in nd:\n",
    "                u_ele[i][2*v]=u[2*j]\n",
    "                u_ele[i][2*v+1]=u[2*j+1]\n",
    "                v+=1\n",
    "            u_loc[i]=np.dot(u_loc_tran,u_ele[i])\n",
    "\n",
    "    F_ele=np.zeros((ele,2*dof_per_node))\n",
    "    for i in range(ele):\n",
    "        f_trans=float(A[i]*E[i]/l[i])*np.array([[1,0,-1,0],[0,0,0,0],[-1,0,1,0],[0,0,0,0]]).astype(np.float)\n",
    "        F_ele[i]=np.dot(f_trans,u_loc[i])\n",
    "    R=np.dot(K,u)-F\n",
    "\n",
    "\n",
    "\n",
    "\n",
    "    print('The global stiffness matrix is ',K_global)\n",
    "    print('####################### \\n ###################')\n",
    "    print('Forces in the elements are ', F_ele)\n",
    "    print('####################### \\n ###################')\n",
    "    print('The nodal displacements are ',u)\n",
    "    print('####################### \\n ###################')\n",
    "    print('The reactions at the nodes are ', R)\n",
    "    \n",
    "    return"
   ]
  },
  {
   "cell_type": "code",
   "execution_count": null,
   "id": "cd5921b2",
   "metadata": {},
   "outputs": [],
   "source": [
    "solver1D2D(ele,nodes,n,fix_n,dof_per_node,C)"
   ]
  },
  {
   "cell_type": "code",
   "execution_count": null,
   "id": "9bfa09f0",
   "metadata": {},
   "outputs": [],
   "source": []
  },
  {
   "cell_type": "code",
   "execution_count": null,
   "id": "a4d5ad12",
   "metadata": {},
   "outputs": [],
   "source": []
  },
  {
   "cell_type": "code",
   "execution_count": null,
   "id": "f6871ca8",
   "metadata": {},
   "outputs": [],
   "source": []
  },
  {
   "cell_type": "code",
   "execution_count": null,
   "id": "674bf591",
   "metadata": {},
   "outputs": [],
   "source": []
  },
  {
   "cell_type": "code",
   "execution_count": null,
   "id": "abce3bf7",
   "metadata": {},
   "outputs": [],
   "source": []
  }
 ],
 "metadata": {
  "kernelspec": {
   "display_name": "Python 3",
   "language": "python",
   "name": "python3"
  },
  "language_info": {
   "codemirror_mode": {
    "name": "ipython",
    "version": 3
   },
   "file_extension": ".py",
   "mimetype": "text/x-python",
   "name": "python",
   "nbconvert_exporter": "python",
   "pygments_lexer": "ipython3",
   "version": "3.8.8"
  }
 },
 "nbformat": 4,
 "nbformat_minor": 5
}
